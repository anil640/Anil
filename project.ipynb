{
 "cells": [
  {
   "cell_type": "code",
   "execution_count": 1,
   "metadata": {},
   "outputs": [],
   "source": [
    "import pandas as pd\n",
    "from matplotlib import pyplot as plt\n",
    "import numpy as np\n",
    "import seaborn as sns\n"
   ]
  },
  {
   "cell_type": "code",
   "execution_count": 2,
   "metadata": {},
   "outputs": [],
   "source": [
    "# importing the data set\n",
    "data=pd.read_csv(\"C:\\\\Users\\\\Avinash\\\\Downloads\\\\kc_house_data.csv\")"
   ]
  },
  {
   "cell_type": "code",
   "execution_count": 3,
   "metadata": {},
   "outputs": [
    {
     "data": {
      "text/html": [
       "<div>\n",
       "<style scoped>\n",
       "    .dataframe tbody tr th:only-of-type {\n",
       "        vertical-align: middle;\n",
       "    }\n",
       "\n",
       "    .dataframe tbody tr th {\n",
       "        vertical-align: top;\n",
       "    }\n",
       "\n",
       "    .dataframe thead th {\n",
       "        text-align: right;\n",
       "    }\n",
       "</style>\n",
       "<table border=\"1\" class=\"dataframe\">\n",
       "  <thead>\n",
       "    <tr style=\"text-align: right;\">\n",
       "      <th></th>\n",
       "      <th>id</th>\n",
       "      <th>date</th>\n",
       "      <th>price</th>\n",
       "      <th>bedrooms</th>\n",
       "      <th>bathrooms</th>\n",
       "      <th>sqft_living</th>\n",
       "      <th>sqft_lot</th>\n",
       "      <th>floors</th>\n",
       "      <th>waterfront</th>\n",
       "      <th>view</th>\n",
       "      <th>...</th>\n",
       "      <th>grade</th>\n",
       "      <th>sqft_above</th>\n",
       "      <th>sqft_basement</th>\n",
       "      <th>yr_built</th>\n",
       "      <th>yr_renovated</th>\n",
       "      <th>zipcode</th>\n",
       "      <th>lat</th>\n",
       "      <th>long</th>\n",
       "      <th>sqft_living15</th>\n",
       "      <th>sqft_lot15</th>\n",
       "    </tr>\n",
       "  </thead>\n",
       "  <tbody>\n",
       "    <tr>\n",
       "      <th>0</th>\n",
       "      <td>7129300520</td>\n",
       "      <td>20141013T000000</td>\n",
       "      <td>221900.0</td>\n",
       "      <td>3</td>\n",
       "      <td>1.00</td>\n",
       "      <td>1180</td>\n",
       "      <td>5650</td>\n",
       "      <td>1.0</td>\n",
       "      <td>0</td>\n",
       "      <td>0</td>\n",
       "      <td>...</td>\n",
       "      <td>7</td>\n",
       "      <td>1180</td>\n",
       "      <td>0</td>\n",
       "      <td>1955</td>\n",
       "      <td>0</td>\n",
       "      <td>98178</td>\n",
       "      <td>47.5112</td>\n",
       "      <td>-122.257</td>\n",
       "      <td>1340</td>\n",
       "      <td>5650</td>\n",
       "    </tr>\n",
       "    <tr>\n",
       "      <th>1</th>\n",
       "      <td>6414100192</td>\n",
       "      <td>20141209T000000</td>\n",
       "      <td>538000.0</td>\n",
       "      <td>3</td>\n",
       "      <td>2.25</td>\n",
       "      <td>2570</td>\n",
       "      <td>7242</td>\n",
       "      <td>2.0</td>\n",
       "      <td>0</td>\n",
       "      <td>0</td>\n",
       "      <td>...</td>\n",
       "      <td>7</td>\n",
       "      <td>2170</td>\n",
       "      <td>400</td>\n",
       "      <td>1951</td>\n",
       "      <td>1991</td>\n",
       "      <td>98125</td>\n",
       "      <td>47.7210</td>\n",
       "      <td>-122.319</td>\n",
       "      <td>1690</td>\n",
       "      <td>7639</td>\n",
       "    </tr>\n",
       "    <tr>\n",
       "      <th>2</th>\n",
       "      <td>5631500400</td>\n",
       "      <td>20150225T000000</td>\n",
       "      <td>180000.0</td>\n",
       "      <td>2</td>\n",
       "      <td>1.00</td>\n",
       "      <td>770</td>\n",
       "      <td>10000</td>\n",
       "      <td>1.0</td>\n",
       "      <td>0</td>\n",
       "      <td>0</td>\n",
       "      <td>...</td>\n",
       "      <td>6</td>\n",
       "      <td>770</td>\n",
       "      <td>0</td>\n",
       "      <td>1933</td>\n",
       "      <td>0</td>\n",
       "      <td>98028</td>\n",
       "      <td>47.7379</td>\n",
       "      <td>-122.233</td>\n",
       "      <td>2720</td>\n",
       "      <td>8062</td>\n",
       "    </tr>\n",
       "    <tr>\n",
       "      <th>3</th>\n",
       "      <td>2487200875</td>\n",
       "      <td>20141209T000000</td>\n",
       "      <td>604000.0</td>\n",
       "      <td>4</td>\n",
       "      <td>3.00</td>\n",
       "      <td>1960</td>\n",
       "      <td>5000</td>\n",
       "      <td>1.0</td>\n",
       "      <td>0</td>\n",
       "      <td>0</td>\n",
       "      <td>...</td>\n",
       "      <td>7</td>\n",
       "      <td>1050</td>\n",
       "      <td>910</td>\n",
       "      <td>1965</td>\n",
       "      <td>0</td>\n",
       "      <td>98136</td>\n",
       "      <td>47.5208</td>\n",
       "      <td>-122.393</td>\n",
       "      <td>1360</td>\n",
       "      <td>5000</td>\n",
       "    </tr>\n",
       "    <tr>\n",
       "      <th>4</th>\n",
       "      <td>1954400510</td>\n",
       "      <td>20150218T000000</td>\n",
       "      <td>510000.0</td>\n",
       "      <td>3</td>\n",
       "      <td>2.00</td>\n",
       "      <td>1680</td>\n",
       "      <td>8080</td>\n",
       "      <td>1.0</td>\n",
       "      <td>0</td>\n",
       "      <td>0</td>\n",
       "      <td>...</td>\n",
       "      <td>8</td>\n",
       "      <td>1680</td>\n",
       "      <td>0</td>\n",
       "      <td>1987</td>\n",
       "      <td>0</td>\n",
       "      <td>98074</td>\n",
       "      <td>47.6168</td>\n",
       "      <td>-122.045</td>\n",
       "      <td>1800</td>\n",
       "      <td>7503</td>\n",
       "    </tr>\n",
       "  </tbody>\n",
       "</table>\n",
       "<p>5 rows × 21 columns</p>\n",
       "</div>"
      ],
      "text/plain": [
       "           id             date     price  bedrooms  bathrooms  sqft_living  \\\n",
       "0  7129300520  20141013T000000  221900.0         3       1.00         1180   \n",
       "1  6414100192  20141209T000000  538000.0         3       2.25         2570   \n",
       "2  5631500400  20150225T000000  180000.0         2       1.00          770   \n",
       "3  2487200875  20141209T000000  604000.0         4       3.00         1960   \n",
       "4  1954400510  20150218T000000  510000.0         3       2.00         1680   \n",
       "\n",
       "   sqft_lot  floors  waterfront  view     ...      grade  sqft_above  \\\n",
       "0      5650     1.0           0     0     ...          7        1180   \n",
       "1      7242     2.0           0     0     ...          7        2170   \n",
       "2     10000     1.0           0     0     ...          6         770   \n",
       "3      5000     1.0           0     0     ...          7        1050   \n",
       "4      8080     1.0           0     0     ...          8        1680   \n",
       "\n",
       "   sqft_basement  yr_built  yr_renovated  zipcode      lat     long  \\\n",
       "0              0      1955             0    98178  47.5112 -122.257   \n",
       "1            400      1951          1991    98125  47.7210 -122.319   \n",
       "2              0      1933             0    98028  47.7379 -122.233   \n",
       "3            910      1965             0    98136  47.5208 -122.393   \n",
       "4              0      1987             0    98074  47.6168 -122.045   \n",
       "\n",
       "   sqft_living15  sqft_lot15  \n",
       "0           1340        5650  \n",
       "1           1690        7639  \n",
       "2           2720        8062  \n",
       "3           1360        5000  \n",
       "4           1800        7503  \n",
       "\n",
       "[5 rows x 21 columns]"
      ]
     },
     "execution_count": 3,
     "metadata": {},
     "output_type": "execute_result"
    }
   ],
   "source": [
    "# EDA\n",
    "data.head()"
   ]
  },
  {
   "cell_type": "code",
   "execution_count": 4,
   "metadata": {},
   "outputs": [
    {
     "data": {
      "text/plain": [
       "Index(['id', 'date', 'price', 'bedrooms', 'bathrooms', 'sqft_living',\n",
       "       'sqft_lot', 'floors', 'waterfront', 'view', 'condition', 'grade',\n",
       "       'sqft_above', 'sqft_basement', 'yr_built', 'yr_renovated', 'zipcode',\n",
       "       'lat', 'long', 'sqft_living15', 'sqft_lot15'],\n",
       "      dtype='object')"
      ]
     },
     "execution_count": 4,
     "metadata": {},
     "output_type": "execute_result"
    }
   ],
   "source": [
    "data.columns"
   ]
  },
  {
   "cell_type": "code",
   "execution_count": 5,
   "metadata": {},
   "outputs": [
    {
     "data": {
      "text/plain": [
       "(21613, 21)"
      ]
     },
     "execution_count": 5,
     "metadata": {},
     "output_type": "execute_result"
    }
   ],
   "source": [
    "data.shape"
   ]
  },
  {
   "cell_type": "code",
   "execution_count": 6,
   "metadata": {},
   "outputs": [
    {
     "data": {
      "text/plain": [
       "id               0\n",
       "date             0\n",
       "price            0\n",
       "bedrooms         0\n",
       "bathrooms        0\n",
       "sqft_living      0\n",
       "sqft_lot         0\n",
       "floors           0\n",
       "waterfront       0\n",
       "view             0\n",
       "condition        0\n",
       "grade            0\n",
       "sqft_above       0\n",
       "sqft_basement    0\n",
       "yr_built         0\n",
       "yr_renovated     0\n",
       "zipcode          0\n",
       "lat              0\n",
       "long             0\n",
       "sqft_living15    0\n",
       "sqft_lot15       0\n",
       "dtype: int64"
      ]
     },
     "execution_count": 6,
     "metadata": {},
     "output_type": "execute_result"
    }
   ],
   "source": [
    "# checking missing values\n",
    "data.isna().sum()"
   ]
  },
  {
   "cell_type": "code",
   "execution_count": 7,
   "metadata": {},
   "outputs": [
    {
     "name": "stdout",
     "output_type": "stream",
     "text": [
      "count    2.161300e+04\n",
      "mean     5.400881e+05\n",
      "std      3.671272e+05\n",
      "min      7.500000e+04\n",
      "25%      3.219500e+05\n",
      "50%      4.500000e+05\n",
      "75%      6.450000e+05\n",
      "max      7.700000e+06\n",
      "Name: price, dtype: float64\n"
     ]
    }
   ],
   "source": [
    "# describing the the price column\n",
    "print(data[\"price\"].describe())"
   ]
  },
  {
   "cell_type": "code",
   "execution_count": 8,
   "metadata": {},
   "outputs": [
    {
     "name": "stdout",
     "output_type": "stream",
     "text": [
      "21436\n"
     ]
    }
   ],
   "source": [
    "# count the number of unique value of id\n",
    "ID=data[\"id\"]\n",
    "ID=set(ID)\n",
    "print(len(ID))\n",
    "\n",
    "#here id is the name of the house so we canot take this for regression analysis"
   ]
  },
  {
   "cell_type": "code",
   "execution_count": 9,
   "metadata": {},
   "outputs": [
    {
     "name": "stdout",
     "output_type": "stream",
     "text": [
      "372\n"
     ]
    }
   ],
   "source": [
    "DATE=data[\"date\"]\n",
    "DATE=set(DATE)\n",
    "print(len(DATE))\n",
    "\n",
    "# so there are 372 unique values of date"
   ]
  },
  {
   "cell_type": "code",
   "execution_count": 10,
   "metadata": {},
   "outputs": [
    {
     "data": {
      "text/plain": [
       "(array([1.9021e+04, 2.1480e+03, 3.1600e+02, 9.0000e+01, 2.6000e+01,\n",
       "        4.0000e+00, 4.0000e+00, 1.0000e+00, 1.0000e+00, 2.0000e+00]),\n",
       " array([  75000.,  837500., 1600000., 2362500., 3125000., 3887500.,\n",
       "        4650000., 5412500., 6175000., 6937500., 7700000.]),\n",
       " <a list of 10 Patch objects>)"
      ]
     },
     "execution_count": 10,
     "metadata": {},
     "output_type": "execute_result"
    },
    {
     "data": {
      "image/png": "[encoded data removed]",
      "text/plain": [
       "<Figure size 432x288 with 1 Axes>"
      ]
     },
     "metadata": {},
     "output_type": "display_data"
    }
   ],
   "source": [
    "# histogram of price distrubution\n",
    "sns.set()\n",
    "plt.hist(data[\"price\"])\n",
    "\n",
    "#using bins square root rule"
   ]
  },
  {
   "cell_type": "code",
   "execution_count": 11,
   "metadata": {},
   "outputs": [
    {
     "name": "stdout",
     "output_type": "stream",
     "text": [
      "147\n",
      "<class 'int'>\n"
     ]
    }
   ],
   "source": [
    "# square root thumb rule for histogram\n",
    "PRICE=data[\"price\"]\n",
    "PRICE=len(PRICE)\n",
    "\n",
    "PRICE=np.array(PRICE)\n",
    "PRICE=np.sqrt(PRICE)\n",
    "PRICE=round(PRICE)\n",
    "PRICE=int(PRICE)\n",
    "print(PRICE)\n",
    "print(type(PRICE))"
   ]
  },
  {
   "cell_type": "code",
   "execution_count": 12,
   "metadata": {},
   "outputs": [],
   "source": [
    "# instead of using above one we use this user defined function for all factors to plot histogram\n",
    "# defining a function for square root bins\n",
    "def bins_len(a):\n",
    "    a=np.sqrt(a)\n",
    "    return int(round(a))"
   ]
  },
  {
   "cell_type": "code",
   "execution_count": 13,
   "metadata": {},
   "outputs": [
    {
     "data": {
      "text/plain": [
       "21613"
      ]
     },
     "execution_count": 13,
     "metadata": {},
     "output_type": "execute_result"
    }
   ],
   "source": [
    "data[\"price\"].count()"
   ]
  },
  {
   "cell_type": "code",
   "execution_count": 14,
   "metadata": {},
   "outputs": [
    {
     "data": {
      "image/png": "[encoded data removed]",
      "text/plain": [
       "<Figure size 432x288 with 1 Axes>"
      ]
     },
     "metadata": {},
     "output_type": "display_data"
    }
   ],
   "source": [
    "# plotting histogram\n",
    "sns.set()\n",
    "plt.hist(data[\"price\"],bins=bins_len(data[\"price\"].count()),range=(0,3000000))\n",
    "plt.show()"
   ]
  },
  {
   "cell_type": "markdown",
   "metadata": {},
   "source": [
    "BY ABOVE HISTOGRAM WE CAN SEE THAT THERE IS POSITVE SKEWED DATA DISTRUBUTION OF PRICE"
   ]
  },
  {
   "cell_type": "code",
   "execution_count": 15,
   "metadata": {},
   "outputs": [
    {
     "data": {
      "text/plain": [
       "{'whiskers': [<matplotlib.lines.Line2D at 0x22463162dd8>,\n",
       "  <matplotlib.lines.Line2D at 0x22463176400>],\n",
       " 'caps': [<matplotlib.lines.Line2D at 0x22463176780>,\n",
       "  <matplotlib.lines.Line2D at 0x22463176b00>],\n",
       " 'boxes': [<matplotlib.lines.Line2D at 0x22463162c50>],\n",
       " 'medians': [<matplotlib.lines.Line2D at 0x22463176e80>],\n",
       " 'fliers': [<matplotlib.lines.Line2D at 0x22463176f98>],\n",
       " 'means': []}"
      ]
     },
     "execution_count": 15,
     "metadata": {},
     "output_type": "execute_result"
    },
    {
     "data": {
      "image/png": "[encoded data removed]",
      "text/plain": [
       "<Figure size 432x288 with 1 Axes>"
      ]
     },
     "metadata": {},
     "output_type": "display_data"
    }
   ],
   "source": [
    "plt.boxplot(data[\"price\"])"
   ]
  },
  {
   "cell_type": "code",
   "execution_count": 16,
   "metadata": {},
   "outputs": [
    {
     "data": {
      "image/png": "[encoded data removed]",
      "text/plain": [
       "<Figure size 432x288 with 1 Axes>"
      ]
     },
     "metadata": {},
     "output_type": "display_data"
    }
   ],
   "source": [
    "plt.hist(data[\"bedrooms\"],bins=bins_len(data[\"bedrooms\"].count()))\n",
    "plt.show()"
   ]
  },
  {
   "cell_type": "markdown",
   "metadata": {},
   "source": [
    "BY ABOVE BOXPLOT WE CAN SEE SOME OUTLERS IN PRICE VARIABLE"
   ]
  },
  {
   "cell_type": "code",
   "execution_count": 17,
   "metadata": {},
   "outputs": [
    {
     "data": {
      "text/plain": [
       "count    21613.000000\n",
       "mean         3.370842\n",
       "std          0.930062\n",
       "min          0.000000\n",
       "25%          3.000000\n",
       "50%          3.000000\n",
       "75%          4.000000\n",
       "max         33.000000\n",
       "Name: bedrooms, dtype: float64"
      ]
     },
     "execution_count": 17,
     "metadata": {},
     "output_type": "execute_result"
    }
   ],
   "source": [
    "# bedrooms variable\n",
    "data.bedrooms.describe()"
   ]
  },
  {
   "cell_type": "code",
   "execution_count": 18,
   "metadata": {},
   "outputs": [
    {
     "data": {
      "image/png": "[encoded data removed]",
      "text/plain": [
       "<Figure size 432x288 with 1 Axes>"
      ]
     },
     "metadata": {},
     "output_type": "display_data"
    }
   ],
   "source": [
    "# bedroom is categorical type thats why we use boxplot for the data\n",
    "sns.set()\n",
    "plt.boxplot(data[\"bedrooms\"])\n",
    "plt.show()"
   ]
  },
  {
   "cell_type": "code",
   "execution_count": null,
   "metadata": {},
   "outputs": [],
   "source": []
  },
  {
   "cell_type": "code",
   "execution_count": 19,
   "metadata": {},
   "outputs": [],
   "source": [
    "# BY ABOVE VARIABLE THERE ALSO A OUTLIER IS THERE"
   ]
  },
  {
   "cell_type": "code",
   "execution_count": 20,
   "metadata": {},
   "outputs": [],
   "source": [
    "# descrbing the bathrooms variable\n",
    "# as we see the data above there are values in digits so bathrooms cant be in float so we have to convert that into normal\n",
    "#values\n",
    "\n"
   ]
  },
  {
   "cell_type": "code",
   "execution_count": 21,
   "metadata": {},
   "outputs": [],
   "source": [
    "# converting each value into int type\n",
    "bath=data[\"bathrooms\"]\n",
    "bath1=[]\n",
    "for i in bath:\n",
    "    i=round(i)\n",
    "    i=int(i)\n",
    "    bath1.append(i)\n",
    "    \n",
    "data[\"bathrooms\"]=bath1    "
   ]
  },
  {
   "cell_type": "code",
   "execution_count": 22,
   "metadata": {},
   "outputs": [
    {
     "data": {
      "text/plain": [
       "0    1\n",
       "1    2\n",
       "2    1\n",
       "3    3\n",
       "4    2\n",
       "Name: bathrooms, dtype: int64"
      ]
     },
     "execution_count": 22,
     "metadata": {},
     "output_type": "execute_result"
    }
   ],
   "source": [
    "data[\"bathrooms\"].head()"
   ]
  },
  {
   "cell_type": "code",
   "execution_count": 23,
   "metadata": {},
   "outputs": [
    {
     "data": {
      "text/plain": [
       "count    21613.000000\n",
       "mean         2.058715\n",
       "std          0.755524\n",
       "min          0.000000\n",
       "25%          2.000000\n",
       "50%          2.000000\n",
       "75%          2.000000\n",
       "max          8.000000\n",
       "Name: bathrooms, dtype: float64"
      ]
     },
     "execution_count": 23,
     "metadata": {},
     "output_type": "execute_result"
    }
   ],
   "source": [
    "# describing the bathroom\n",
    "data[\"bathrooms\"].describe()"
   ]
  },
  {
   "cell_type": "code",
   "execution_count": 24,
   "metadata": {},
   "outputs": [
    {
     "data": {
      "image/png": "[encoded data removed]",
      "text/plain": [
       "<Figure size 432x288 with 1 Axes>"
      ]
     },
     "metadata": {},
     "output_type": "display_data"
    }
   ],
   "source": [
    "# boxplot of bathroom\n",
    "sns.set()\n",
    "plt.boxplot(data[\"bathrooms\"])\n",
    "plt.show()"
   ]
  },
  {
   "cell_type": "code",
   "execution_count": 25,
   "metadata": {},
   "outputs": [
    {
     "data": {
      "text/plain": [
       "Index(['id', 'date', 'price', 'bedrooms', 'bathrooms', 'sqft_living',\n",
       "       'sqft_lot', 'floors', 'waterfront', 'view', 'condition', 'grade',\n",
       "       'sqft_above', 'sqft_basement', 'yr_built', 'yr_renovated', 'zipcode',\n",
       "       'lat', 'long', 'sqft_living15', 'sqft_lot15'],\n",
       "      dtype='object')"
      ]
     },
     "execution_count": 25,
     "metadata": {},
     "output_type": "execute_result"
    }
   ],
   "source": [
    "data.columns"
   ]
  },
  {
   "cell_type": "code",
   "execution_count": 26,
   "metadata": {},
   "outputs": [
    {
     "data": {
      "text/plain": [
       "count    21613.000000\n",
       "mean      2079.899736\n",
       "std        918.440897\n",
       "min        290.000000\n",
       "25%       1427.000000\n",
       "50%       1910.000000\n",
       "75%       2550.000000\n",
       "max      13540.000000\n",
       "Name: sqft_living, dtype: float64"
      ]
     },
     "execution_count": 26,
     "metadata": {},
     "output_type": "execute_result"
    }
   ],
   "source": [
    "data[\"sqft_living\"].describe()"
   ]
  },
  {
   "cell_type": "code",
   "execution_count": 27,
   "metadata": {},
   "outputs": [
    {
     "data": {
      "image/png": "[encoded data removed]",
      "text/plain": [
       "<Figure size 432x288 with 1 Axes>"
      ]
     },
     "metadata": {},
     "output_type": "display_data"
    }
   ],
   "source": [
    "# histogram of the sqft of the home\n",
    "sns.set()\n",
    "plt.hist(data[\"sqft_living\"],bins=bins_len(data[\"sqft_living\"].count()))\n",
    "plt.show()"
   ]
  },
  {
   "cell_type": "code",
   "execution_count": 28,
   "metadata": {},
   "outputs": [
    {
     "data": {
      "image/png": "[encoded data removed]",
      "text/plain": [
       "<Figure size 432x288 with 1 Axes>"
      ]
     },
     "metadata": {},
     "output_type": "display_data"
    }
   ],
   "source": [
    "# the boxplot\n",
    "sns.set()\n",
    "plt.boxplot(data[\"sqft_living\"])\n",
    "plt.show()"
   ]
  },
  {
   "cell_type": "code",
   "execution_count": 29,
   "metadata": {},
   "outputs": [
    {
     "data": {
      "text/plain": [
       "count    2.161300e+04\n",
       "mean     1.510697e+04\n",
       "std      4.142051e+04\n",
       "min      5.200000e+02\n",
       "25%      5.040000e+03\n",
       "50%      7.618000e+03\n",
       "75%      1.068800e+04\n",
       "max      1.651359e+06\n",
       "Name: sqft_lot, dtype: float64"
      ]
     },
     "execution_count": 29,
     "metadata": {},
     "output_type": "execute_result"
    }
   ],
   "source": [
    "# describing the sqft_lot\n",
    "data[\"sqft_lot\"].describe()"
   ]
  },
  {
   "cell_type": "code",
   "execution_count": 30,
   "metadata": {},
   "outputs": [
    {
     "data": {
      "image/png": "[encoded data removed]",
      "text/plain": [
       "<Figure size 432x288 with 1 Axes>"
      ]
     },
     "metadata": {},
     "output_type": "display_data"
    }
   ],
   "source": [
    "# histogram plot\n",
    "sns.set()\n",
    "plt.hist(data[\"sqft_lot\"],bins=bins_len(data[\"sqft_lot\"].count()),range=(0,100000))\n",
    "plt.show()"
   ]
  },
  {
   "cell_type": "code",
   "execution_count": 31,
   "metadata": {},
   "outputs": [
    {
     "data": {
      "image/png": "[encoded data removed]",
      "text/plain": [
       "<Figure size 432x288 with 1 Axes>"
      ]
     },
     "metadata": {},
     "output_type": "display_data"
    }
   ],
   "source": [
    "# boxplot\n",
    "sns.set()\n",
    "plt.boxplot(data[\"sqft_lot\"])\n",
    "plt.show()"
   ]
  },
  {
   "cell_type": "code",
   "execution_count": 32,
   "metadata": {},
   "outputs": [
    {
     "data": {
      "text/plain": [
       "Index(['id', 'date', 'price', 'bedrooms', 'bathrooms', 'sqft_living',\n",
       "       'sqft_lot', 'floors', 'waterfront', 'view', 'condition', 'grade',\n",
       "       'sqft_above', 'sqft_basement', 'yr_built', 'yr_renovated', 'zipcode',\n",
       "       'lat', 'long', 'sqft_living15', 'sqft_lot15'],\n",
       "      dtype='object')"
      ]
     },
     "execution_count": 32,
     "metadata": {},
     "output_type": "execute_result"
    }
   ],
   "source": [
    "data.columns"
   ]
  },
  {
   "cell_type": "code",
   "execution_count": 33,
   "metadata": {},
   "outputs": [
    {
     "data": {
      "text/plain": [
       "count    21613.000000\n",
       "mean         1.494309\n",
       "std          0.539989\n",
       "min          1.000000\n",
       "25%          1.000000\n",
       "50%          1.500000\n",
       "75%          2.000000\n",
       "max          3.500000\n",
       "Name: floors, dtype: float64"
      ]
     },
     "execution_count": 33,
     "metadata": {},
     "output_type": "execute_result"
    }
   ],
   "source": [
    "data[\"floors\"].describe()"
   ]
  },
  {
   "cell_type": "code",
   "execution_count": 34,
   "metadata": {},
   "outputs": [],
   "source": [
    "# floors var are in continuous type we should make that as descrete\n",
    "floor=data[\"floors\"]\n",
    "floor1=[]\n",
    "for i in floor:\n",
    "    i=round(i)\n",
    "    i=int(i)\n",
    "    floor1.append(i)\n",
    "data[\"floors\"]=floor1    "
   ]
  },
  {
   "cell_type": "code",
   "execution_count": 35,
   "metadata": {},
   "outputs": [
    {
     "data": {
      "text/plain": [
       "count    21613.000000\n",
       "mean         1.534956\n",
       "std          0.554742\n",
       "min          1.000000\n",
       "25%          1.000000\n",
       "50%          2.000000\n",
       "75%          2.000000\n",
       "max          4.000000\n",
       "Name: floors, dtype: float64"
      ]
     },
     "execution_count": 35,
     "metadata": {},
     "output_type": "execute_result"
    }
   ],
   "source": [
    "data[\"floors\"].describe()"
   ]
  },
  {
   "cell_type": "code",
   "execution_count": 36,
   "metadata": {},
   "outputs": [
    {
     "data": {
      "image/png": "[encoded data removed]",
      "text/plain": [
       "<Figure size 432x288 with 1 Axes>"
      ]
     },
     "metadata": {},
     "output_type": "display_data"
    }
   ],
   "source": [
    "# histogram\n",
    "sns.set()\n",
    "plt.hist(data[\"floors\"],bins=bins_len(data[\"floors\"].count()))\n",
    "plt.show()"
   ]
  },
  {
   "cell_type": "code",
   "execution_count": 37,
   "metadata": {},
   "outputs": [
    {
     "data": {
      "image/png": "[encoded data removed]",
      "text/plain": [
       "<Figure size 432x288 with 1 Axes>"
      ]
     },
     "metadata": {},
     "output_type": "display_data"
    }
   ],
   "source": [
    "# boxplot\n",
    "sns.set()\n",
    "plt.boxplot(data[\"floors\"])\n",
    "plt.show()"
   ]
  },
  {
   "cell_type": "code",
   "execution_count": 38,
   "metadata": {},
   "outputs": [
    {
     "data": {
      "text/plain": [
       "array([0, 1], dtype=int64)"
      ]
     },
     "execution_count": 38,
     "metadata": {},
     "output_type": "execute_result"
    }
   ],
   "source": [
    "# water front\n",
    "data[\"waterfront\"].unique()\n",
    "\n",
    "# only zeroes and one we can see in the variable\n",
    "# 0 means no water front and \n",
    "# 1 means there is water front"
   ]
  },
  {
   "cell_type": "code",
   "execution_count": 39,
   "metadata": {},
   "outputs": [
    {
     "name": "stdout",
     "output_type": "stream",
     "text": [
      "21450\n",
      "163\n",
      "-163\n",
      "0    21450\n",
      "1      163\n",
      "Name: waterfront, dtype: int64\n"
     ]
    }
   ],
   "source": [
    "# to count how many times 0s and 1s are been here\n",
    "water=data[\"waterfront\"]\n",
    "water\n",
    "water1=[]\n",
    "water2=[]\n",
    "for i in water:\n",
    "    if i==0:\n",
    "        water1.append(i)\n",
    "    else:\n",
    "        water2.append(i)\n",
    "print(len(water1))\n",
    "print(len(water2))\n",
    "print(len(water1)-data[\"waterfront\"].count())\n",
    "\n",
    "# method2\n",
    "print(data[\"waterfront\"].value_counts())\n",
    "\n",
    "\n",
    "# by these we can see that there only 143 homes are here which  has water front"
   ]
  },
  {
   "cell_type": "code",
   "execution_count": 40,
   "metadata": {},
   "outputs": [
    {
     "data": {
      "text/plain": [
       "Index(['id', 'date', 'price', 'bedrooms', 'bathrooms', 'sqft_living',\n",
       "       'sqft_lot', 'floors', 'waterfront', 'view', 'condition', 'grade',\n",
       "       'sqft_above', 'sqft_basement', 'yr_built', 'yr_renovated', 'zipcode',\n",
       "       'lat', 'long', 'sqft_living15', 'sqft_lot15'],\n",
       "      dtype='object')"
      ]
     },
     "execution_count": 40,
     "metadata": {},
     "output_type": "execute_result"
    }
   ],
   "source": [
    "data.columns"
   ]
  },
  {
   "cell_type": "code",
   "execution_count": 41,
   "metadata": {},
   "outputs": [
    {
     "data": {
      "text/plain": [
       "array([0, 3, 4, 2, 1], dtype=int64)"
      ]
     },
     "execution_count": 41,
     "metadata": {},
     "output_type": "execute_result"
    }
   ],
   "source": [
    "data[\"view\"].unique()"
   ]
  },
  {
   "cell_type": "code",
   "execution_count": 42,
   "metadata": {},
   "outputs": [
    {
     "name": "stdout",
     "output_type": "stream",
     "text": [
      "19489\n",
      "2124\n",
      "(21613, 21)\n"
     ]
    },
    {
     "data": {
      "text/plain": [
       "19489"
      ]
     },
     "execution_count": 42,
     "metadata": {},
     "output_type": "execute_result"
    }
   ],
   "source": [
    "# to check how many times 0 has appeared\n",
    "vew=data[\"view\"]\n",
    "vew1=[]\n",
    "for i in vew:\n",
    "    if i==0:\n",
    "        vew1.append(i)\n",
    "        \n",
    "print(len(vew1))        \n",
    "print(data[\"view\"].count()-len(vew1)) \n",
    "print(data.shape)\n",
    "\n",
    "\n",
    "# method2\n",
    "data[\"view\"].value_counts()[0]"
   ]
  },
  {
   "cell_type": "code",
   "execution_count": 43,
   "metadata": {},
   "outputs": [
    {
     "data": {
      "image/png": "[encoded data removed]",
      "text/plain": [
       "<Figure size 432x288 with 1 Axes>"
      ]
     },
     "metadata": {},
     "output_type": "display_data"
    }
   ],
   "source": [
    "sns.set()\n",
    "plt.hist(data[\"view\"])\n",
    "plt.show()"
   ]
  },
  {
   "cell_type": "code",
   "execution_count": 44,
   "metadata": {},
   "outputs": [
    {
     "data": {
      "text/plain": [
       "array([3, 5, 4, 1, 2], dtype=int64)"
      ]
     },
     "execution_count": 44,
     "metadata": {},
     "output_type": "execute_result"
    }
   ],
   "source": [
    "data[\"condition\"].unique()"
   ]
  },
  {
   "cell_type": "code",
   "execution_count": 45,
   "metadata": {},
   "outputs": [
    {
     "data": {
      "text/plain": [
       "array([ 7,  6,  8, 11,  9,  5, 10, 12,  4,  3, 13,  1], dtype=int64)"
      ]
     },
     "execution_count": 45,
     "metadata": {},
     "output_type": "execute_result"
    }
   ],
   "source": [
    "data[\"grade\"].unique()"
   ]
  },
  {
   "cell_type": "code",
   "execution_count": 46,
   "metadata": {},
   "outputs": [
    {
     "name": "stdout",
     "output_type": "stream",
     "text": [
      "count    21613.000000\n",
      "mean      1788.390691\n",
      "std        828.090978\n",
      "min        290.000000\n",
      "25%       1190.000000\n",
      "50%       1560.000000\n",
      "75%       2210.000000\n",
      "max       9410.000000\n",
      "Name: sqft_above, dtype: float64\n"
     ]
    }
   ],
   "source": [
    "# sqft above\n",
    "print(data[\"sqft_above\"].describe())\n"
   ]
  },
  {
   "cell_type": "code",
   "execution_count": 47,
   "metadata": {},
   "outputs": [
    {
     "data": {
      "image/png": "[encoded data removed]",
      "text/plain": [
       "<Figure size 432x288 with 1 Axes>"
      ]
     },
     "metadata": {},
     "output_type": "display_data"
    }
   ],
   "source": [
    "# histogram\n",
    "sns.set()\n",
    "plt.hist(data[\"sqft_above\"],bins=bins_len(data[\"sqft_above\"].count()),range=(0,6000))\n",
    "plt.show()"
   ]
  },
  {
   "cell_type": "code",
   "execution_count": 48,
   "metadata": {},
   "outputs": [
    {
     "name": "stderr",
     "output_type": "stream",
     "text": [
      "C:\\Users\\Avinash\\Anaconda3\\lib\\site-packages\\scipy\\stats\\stats.py:1713: FutureWarning: Using a non-tuple sequence for multidimensional indexing is deprecated; use `arr[tuple(seq)]` instead of `arr[seq]`. In the future this will be interpreted as an array index, `arr[np.array(seq)]`, which will result either in an error or a different result.\n",
      "  return np.add.reduce(sorted[indexer] * weights, axis=axis) / sumval\n"
     ]
    },
    {
     "data": {
      "image/png": "[encoded data removed]",
      "text/plain": [
       "<Figure size 432x288 with 1 Axes>"
      ]
     },
     "metadata": {},
     "output_type": "display_data"
    }
   ],
   "source": [
    "sns.distplot(data[\"sqft_above\"])\n",
    "plt.show()"
   ]
  },
  {
   "cell_type": "code",
   "execution_count": 49,
   "metadata": {},
   "outputs": [
    {
     "data": {
      "text/plain": [
       "count    21613.000000\n",
       "mean       291.509045\n",
       "std        442.575043\n",
       "min          0.000000\n",
       "25%          0.000000\n",
       "50%          0.000000\n",
       "75%        560.000000\n",
       "max       4820.000000\n",
       "Name: sqft_basement, dtype: float64"
      ]
     },
     "execution_count": 49,
     "metadata": {},
     "output_type": "execute_result"
    }
   ],
   "source": [
    "# sqft basement\n",
    "data[\"sqft_basement\"].describe()"
   ]
  },
  {
   "cell_type": "code",
   "execution_count": 50,
   "metadata": {},
   "outputs": [
    {
     "data": {
      "text/plain": [
       "13126"
      ]
     },
     "execution_count": 50,
     "metadata": {},
     "output_type": "execute_result"
    }
   ],
   "source": [
    "data[\"sqft_basement\"].value_counts()[0]\n",
    "\n",
    "# so here we can see that 13126 value are here that they contain 0 values so it means that either they conatin missing values\n",
    "# or there houses have no basements"
   ]
  },
  {
   "cell_type": "code",
   "execution_count": 51,
   "metadata": {},
   "outputs": [
    {
     "data": {
      "image/png": "[encoded data removed]",
      "text/plain": [
       "<Figure size 432x288 with 1 Axes>"
      ]
     },
     "metadata": {},
     "output_type": "display_data"
    }
   ],
   "source": [
    "# hist plot\n",
    "sns.set()\n",
    "plt.hist(data[\"sqft_basement\"])\n",
    "\n",
    "plt.show()\n"
   ]
  },
  {
   "cell_type": "code",
   "execution_count": 52,
   "metadata": {},
   "outputs": [
    {
     "name": "stdout",
     "output_type": "stream",
     "text": [
      "1900\n",
      "2015\n"
     ]
    }
   ],
   "source": [
    "data[\"yr_built\"].value_counts()\n",
    "print(data[\"yr_built\"].min())\n",
    "print(data[\"yr_built\"].max())\n",
    "\n"
   ]
  },
  {
   "cell_type": "code",
   "execution_count": 53,
   "metadata": {},
   "outputs": [
    {
     "data": {
      "image/png": "[encoded data removed]",
      "text/plain": [
       "<Figure size 432x288 with 1 Axes>"
      ]
     },
     "metadata": {},
     "output_type": "display_data"
    }
   ],
   "source": [
    "# histogram\n",
    "sns.set()\n",
    "plt.hist(data[\"yr_built\"])\n",
    "plt.show()"
   ]
  },
  {
   "cell_type": "code",
   "execution_count": 54,
   "metadata": {},
   "outputs": [
    {
     "data": {
      "text/plain": [
       "0       20699\n",
       "2014       91\n",
       "2013       37\n",
       "2003       36\n",
       "2000       35\n",
       "2007       35\n",
       "2005       35\n",
       "2004       26\n",
       "1990       25\n",
       "2006       24\n",
       "2009       22\n",
       "1989       22\n",
       "2002       22\n",
       "1991       20\n",
       "2001       19\n",
       "1998       19\n",
       "1994       19\n",
       "1993       19\n",
       "1987       18\n",
       "1983       18\n",
       "1984       18\n",
       "2010       18\n",
       "2008       18\n",
       "1986       17\n",
       "1985       17\n",
       "1999       17\n",
       "1992       17\n",
       "2015       16\n",
       "1995       16\n",
       "1996       15\n",
       "        ...  \n",
       "1975        6\n",
       "1978        6\n",
       "1981        5\n",
       "1964        5\n",
       "1965        5\n",
       "1958        5\n",
       "1973        5\n",
       "1969        4\n",
       "1972        4\n",
       "1960        4\n",
       "1963        4\n",
       "1956        3\n",
       "1945        3\n",
       "1974        3\n",
       "1953        3\n",
       "1955        3\n",
       "1976        3\n",
       "1957        3\n",
       "1962        2\n",
       "1950        2\n",
       "1967        2\n",
       "1946        2\n",
       "1971        2\n",
       "1940        2\n",
       "1954        1\n",
       "1934        1\n",
       "1959        1\n",
       "1951        1\n",
       "1948        1\n",
       "1944        1\n",
       "Name: yr_renovated, Length: 70, dtype: int64"
      ]
     },
     "execution_count": 54,
     "metadata": {},
     "output_type": "execute_result"
    }
   ],
   "source": [
    "data[\"yr_renovated\"].value_counts()\n",
    "\n",
    "\n",
    "# here 0 means either missing  values or they didnot renovated"
   ]
  },
  {
   "cell_type": "code",
   "execution_count": 55,
   "metadata": {},
   "outputs": [
    {
     "data": {
      "image/png": "[encoded data removed]",
      "text/plain": [
       "<Figure size 432x288 with 1 Axes>"
      ]
     },
     "metadata": {},
     "output_type": "display_data"
    }
   ],
   "source": [
    "# histogram\n",
    "sns.set()\n",
    "plt.hist(data[\"yr_renovated\"],range=([1900,2020]))\n",
    "\n",
    "plt.show()"
   ]
  },
  {
   "cell_type": "code",
   "execution_count": 56,
   "metadata": {},
   "outputs": [
    {
     "data": {
      "image/png": "[encoded data removed]",
      "text/plain": [
       "<Figure size 432x288 with 1 Axes>"
      ]
     },
     "metadata": {},
     "output_type": "display_data"
    }
   ],
   "source": [
    "# continud version\n",
    "plt.hist(data[\"yr_renovated\"],range=([0,100]))\n",
    "plt.show()"
   ]
  },
  {
   "cell_type": "code",
   "execution_count": 57,
   "metadata": {},
   "outputs": [
    {
     "data": {
      "text/plain": [
       "98103    602\n",
       "98038    590\n",
       "98115    583\n",
       "98052    574\n",
       "98117    553\n",
       "98042    548\n",
       "98034    545\n",
       "98118    508\n",
       "98023    499\n",
       "98006    498\n",
       "98133    494\n",
       "98059    468\n",
       "98058    455\n",
       "98155    446\n",
       "98074    441\n",
       "98033    432\n",
       "98027    412\n",
       "98125    410\n",
       "98056    406\n",
       "98053    405\n",
       "98001    362\n",
       "98075    359\n",
       "98126    354\n",
       "98092    351\n",
       "98144    343\n",
       "98106    335\n",
       "98116    330\n",
       "98029    321\n",
       "98004    317\n",
       "98199    317\n",
       "        ... \n",
       "98168    269\n",
       "98112    269\n",
       "98055    268\n",
       "98107    266\n",
       "98136    263\n",
       "98178    262\n",
       "98030    256\n",
       "98177    255\n",
       "98166    254\n",
       "98022    234\n",
       "98105    229\n",
       "98045    221\n",
       "98002    199\n",
       "98077    198\n",
       "98011    195\n",
       "98019    190\n",
       "98108    186\n",
       "98119    184\n",
       "98005    168\n",
       "98007    141\n",
       "98188    136\n",
       "98032    125\n",
       "98014    124\n",
       "98070    118\n",
       "98109    109\n",
       "98102    105\n",
       "98010    100\n",
       "98024     81\n",
       "98148     57\n",
       "98039     50\n",
       "Name: zipcode, Length: 70, dtype: int64"
      ]
     },
     "execution_count": 57,
     "metadata": {},
     "output_type": "execute_result"
    }
   ],
   "source": [
    "#zipcode\n",
    "data[\"zipcode\"].value_counts()"
   ]
  },
  {
   "cell_type": "code",
   "execution_count": 58,
   "metadata": {},
   "outputs": [
    {
     "data": {
      "text/plain": [
       "Index(['id', 'date', 'price', 'bedrooms', 'bathrooms', 'sqft_living',\n",
       "       'sqft_lot', 'floors', 'waterfront', 'view', 'condition', 'grade',\n",
       "       'sqft_above', 'sqft_basement', 'yr_built', 'yr_renovated', 'zipcode',\n",
       "       'lat', 'long', 'sqft_living15', 'sqft_lot15'],\n",
       "      dtype='object')"
      ]
     },
     "execution_count": 58,
     "metadata": {},
     "output_type": "execute_result"
    }
   ],
   "source": [
    "data.columns"
   ]
  },
  {
   "cell_type": "markdown",
   "metadata": {},
   "source": [
    "TILL NOW WE HAVE CHCKED THE DISTRUBUTION OF ALL VARIABLES\n",
    "AND NOW WE SHOULD HAVE TO TREAT THE OUTLIER VALUES"
   ]
  },
  {
   "cell_type": "code",
   "execution_count": 59,
   "metadata": {},
   "outputs": [
    {
     "data": {
      "text/plain": [
       "3     9824\n",
       "4     6882\n",
       "2     2760\n",
       "5     1601\n",
       "6      272\n",
       "1      199\n",
       "7       38\n",
       "8       13\n",
       "0       13\n",
       "9        6\n",
       "10       3\n",
       "Name: bedrooms, dtype: int64"
      ]
     },
     "execution_count": 59,
     "metadata": {},
     "output_type": "execute_result"
    }
   ],
   "source": [
    "# outlier treatment\n",
    "# by above we have seen that number is near to 30 so we have to remove that\n",
    "data.loc[(data[\"bedrooms\"]<=40)& (data[\"bedrooms\"]<=10),\"bedrooms\"].value_counts()\n"
   ]
  },
  {
   "cell_type": "code",
   "execution_count": 60,
   "metadata": {},
   "outputs": [
    {
     "name": "stdout",
     "output_type": "stream",
     "text": [
      "<class 'pandas.core.frame.DataFrame'>\n",
      "RangeIndex: 21613 entries, 0 to 21612\n",
      "Data columns (total 21 columns):\n",
      "id               21613 non-null int64\n",
      "date             21613 non-null object\n",
      "price            21613 non-null float64\n",
      "bedrooms         21613 non-null int64\n",
      "bathrooms        21613 non-null int64\n",
      "sqft_living      21613 non-null int64\n",
      "sqft_lot         21613 non-null int64\n",
      "floors           21613 non-null int64\n",
      "waterfront       21613 non-null int64\n",
      "view             21613 non-null int64\n",
      "condition        21613 non-null int64\n",
      "grade            21613 non-null int64\n",
      "sqft_above       21613 non-null int64\n",
      "sqft_basement    21613 non-null int64\n",
      "yr_built         21613 non-null int64\n",
      "yr_renovated     21613 non-null int64\n",
      "zipcode          21613 non-null int64\n",
      "lat              21613 non-null float64\n",
      "long             21613 non-null float64\n",
      "sqft_living15    21613 non-null int64\n",
      "sqft_lot15       21613 non-null int64\n",
      "dtypes: float64(3), int64(17), object(1)\n",
      "memory usage: 3.5+ MB\n"
     ]
    }
   ],
   "source": [
    "# now we have calculated the the bedrooms more than equal 10 now im adding nan into that drop that full row from data\n",
    "# before remove outlier\n",
    "data.info()\n"
   ]
  },
  {
   "cell_type": "code",
   "execution_count": 61,
   "metadata": {},
   "outputs": [],
   "source": [
    "data.loc[(data[\"bedrooms\"]<=35) & (data[\"bedrooms\"]>=10)]=np.nan"
   ]
  },
  {
   "cell_type": "code",
   "execution_count": 62,
   "metadata": {},
   "outputs": [
    {
     "name": "stdout",
     "output_type": "stream",
     "text": [
      "<class 'pandas.core.frame.DataFrame'>\n",
      "RangeIndex: 21613 entries, 0 to 21612\n",
      "Data columns (total 21 columns):\n",
      "id               21608 non-null float64\n",
      "date             21608 non-null object\n",
      "price            21608 non-null float64\n",
      "bedrooms         21608 non-null float64\n",
      "bathrooms        21608 non-null float64\n",
      "sqft_living      21608 non-null float64\n",
      "sqft_lot         21608 non-null float64\n",
      "floors           21608 non-null float64\n",
      "waterfront       21608 non-null float64\n",
      "view             21608 non-null float64\n",
      "condition        21608 non-null float64\n",
      "grade            21608 non-null float64\n",
      "sqft_above       21608 non-null float64\n",
      "sqft_basement    21608 non-null float64\n",
      "yr_built         21608 non-null float64\n",
      "yr_renovated     21608 non-null float64\n",
      "zipcode          21608 non-null float64\n",
      "lat              21608 non-null float64\n",
      "long             21608 non-null float64\n",
      "sqft_living15    21608 non-null float64\n",
      "sqft_lot15       21608 non-null float64\n",
      "dtypes: float64(20), object(1)\n",
      "memory usage: 3.5+ MB\n",
      "None\n"
     ]
    }
   ],
   "source": [
    "# just observe the difference above and below one\n",
    "print(data.info())"
   ]
  },
  {
   "cell_type": "code",
   "execution_count": 63,
   "metadata": {},
   "outputs": [
    {
     "name": "stdout",
     "output_type": "stream",
     "text": [
      "<class 'pandas.core.frame.DataFrame'>\n",
      "Int64Index: 21608 entries, 0 to 21612\n",
      "Data columns (total 21 columns):\n",
      "id               21608 non-null float64\n",
      "date             21608 non-null object\n",
      "price            21608 non-null float64\n",
      "bedrooms         21608 non-null float64\n",
      "bathrooms        21608 non-null float64\n",
      "sqft_living      21608 non-null float64\n",
      "sqft_lot         21608 non-null float64\n",
      "floors           21608 non-null float64\n",
      "waterfront       21608 non-null float64\n",
      "view             21608 non-null float64\n",
      "condition        21608 non-null float64\n",
      "grade            21608 non-null float64\n",
      "sqft_above       21608 non-null float64\n",
      "sqft_basement    21608 non-null float64\n",
      "yr_built         21608 non-null float64\n",
      "yr_renovated     21608 non-null float64\n",
      "zipcode          21608 non-null float64\n",
      "lat              21608 non-null float64\n",
      "long             21608 non-null float64\n",
      "sqft_living15    21608 non-null float64\n",
      "sqft_lot15       21608 non-null float64\n",
      "dtypes: float64(20), object(1)\n",
      "memory usage: 3.6+ MB\n",
      "None\n"
     ]
    }
   ],
   "source": [
    "# dropping the missing values\n",
    "data.dropna(how=\"any\",inplace=True)\n",
    "print(data.info())"
   ]
  },
  {
   "cell_type": "code",
   "execution_count": 64,
   "metadata": {},
   "outputs": [
    {
     "data": {
      "image/png": "[encoded data removed]",
      "text/plain": [
       "<Figure size 432x288 with 1 Axes>"
      ]
     },
     "metadata": {},
     "output_type": "display_data"
    }
   ],
   "source": [
    "# histogram plot of bedrooms\n",
    "sns.set()\n",
    "plt.hist(data[\"bedrooms\"],bins=bins_len(data[\"bedrooms\"].count()))\n",
    "plt.show()"
   ]
  },
  {
   "cell_type": "code",
   "execution_count": 65,
   "metadata": {},
   "outputs": [
    {
     "data": {
      "image/png": "[encoded data removed]",
      "text/plain": [
       "<Figure size 432x288 with 1 Axes>"
      ]
     },
     "metadata": {},
     "output_type": "display_data"
    }
   ],
   "source": [
    "# boxplot of the bedrooms\n",
    "plt.boxplot(data[\"bedrooms\"])\n",
    "plt.show()"
   ]
  },
  {
   "cell_type": "code",
   "execution_count": 66,
   "metadata": {},
   "outputs": [
    {
     "data": {
      "image/png": "[encoded data removed]",
      "text/plain": [
       "<Figure size 432x288 with 1 Axes>"
      ]
     },
     "metadata": {},
     "output_type": "display_data"
    }
   ],
   "source": [
    "# plt of sqft above\n",
    "plt.hist(data[\"sqft_above\"],bins=bins_len(data[\"sqft_above\"].count()))\n",
    "plt.show()"
   ]
  },
  {
   "cell_type": "code",
   "execution_count": 67,
   "metadata": {},
   "outputs": [
    {
     "data": {
      "image/png": "[encoded data removed]",
      "text/plain": [
       "<Figure size 432x288 with 1 Axes>"
      ]
     },
     "metadata": {},
     "output_type": "display_data"
    }
   ],
   "source": [
    "sns.distplot(data[\"sqft_above\"])\n",
    "plt.show()"
   ]
  },
  {
   "cell_type": "markdown",
   "metadata": {},
   "source": [
    "# EDA"
   ]
  },
  {
   "cell_type": "code",
   "execution_count": 68,
   "metadata": {},
   "outputs": [
    {
     "data": {
      "image/png": "[encoded data removed]",
      "text/plain": [
       "<Figure size 432x288 with 1 Axes>"
      ]
     },
     "metadata": {},
     "output_type": "display_data"
    }
   ],
   "source": [
    "# Relation between price and sqft above\n",
    "plt.scatter(data[\"sqft_above\"],data[\"price\"],color=\"blue\")\n",
    "plt.show()"
   ]
  },
  {
   "cell_type": "code",
   "execution_count": 69,
   "metadata": {},
   "outputs": [
    {
     "data": {
      "text/plain": [
       "Index(['id', 'date', 'price', 'bedrooms', 'bathrooms', 'sqft_living',\n",
       "       'sqft_lot', 'floors', 'waterfront', 'view', 'condition', 'grade',\n",
       "       'sqft_above', 'sqft_basement', 'yr_built', 'yr_renovated', 'zipcode',\n",
       "       'lat', 'long', 'sqft_living15', 'sqft_lot15'],\n",
       "      dtype='object')"
      ]
     },
     "execution_count": 69,
     "metadata": {},
     "output_type": "execute_result"
    }
   ],
   "source": [
    "data.columns"
   ]
  },
  {
   "cell_type": "code",
   "execution_count": 70,
   "metadata": {},
   "outputs": [
    {
     "data": {
      "image/png": "[encoded data removed]",
      "text/plain": [
       "<Figure size 432x288 with 1 Axes>"
      ]
     },
     "metadata": {},
     "output_type": "display_data"
    }
   ],
   "source": [
    "plt.bar(data[\"waterfront\"],data[\"price\"])\n",
    "plt.show()"
   ]
  },
  {
   "cell_type": "code",
   "execution_count": null,
   "metadata": {},
   "outputs": [],
   "source": []
  },
  {
   "cell_type": "code",
   "execution_count": 71,
   "metadata": {},
   "outputs": [
    {
     "data": {
      "text/plain": [
       "0.0    21445\n",
       "1.0      163\n",
       "Name: waterfront, dtype: int64"
      ]
     },
     "execution_count": 71,
     "metadata": {},
     "output_type": "execute_result"
    }
   ],
   "source": [
    "data[\"waterfront\"].value_counts()\n",
    "# there are total 21445 houses are there where they dont have waterfront"
   ]
  },
  {
   "cell_type": "code",
   "execution_count": 72,
   "metadata": {},
   "outputs": [
    {
     "data": {
      "text/plain": [
       "Index(['id', 'date', 'price', 'bedrooms', 'bathrooms', 'sqft_living',\n",
       "       'sqft_lot', 'floors', 'waterfront', 'view', 'condition', 'grade',\n",
       "       'sqft_above', 'sqft_basement', 'yr_built', 'yr_renovated', 'zipcode',\n",
       "       'lat', 'long', 'sqft_living15', 'sqft_lot15'],\n",
       "      dtype='object')"
      ]
     },
     "execution_count": 72,
     "metadata": {},
     "output_type": "execute_result"
    }
   ],
   "source": [
    "data.columns"
   ]
  },
  {
   "cell_type": "code",
   "execution_count": 73,
   "metadata": {},
   "outputs": [
    {
     "data": {
      "text/plain": [
       "zipcode\n",
       "98001.0    2.808047e+05\n",
       "98002.0    2.342840e+05\n",
       "98003.0    2.941113e+05\n",
       "98004.0    1.356585e+06\n",
       "98005.0    8.101649e+05\n",
       "98006.0    8.601067e+05\n",
       "98007.0    6.171051e+05\n",
       "98008.0    6.455074e+05\n",
       "98010.0    4.236660e+05\n",
       "98011.0    4.903515e+05\n",
       "98014.0    4.556171e+05\n",
       "98019.0    4.247887e+05\n",
       "98022.0    3.157093e+05\n",
       "98023.0    2.867328e+05\n",
       "98024.0    5.805268e+05\n",
       "98027.0    6.169906e+05\n",
       "98028.0    4.624800e+05\n",
       "98029.0    6.126536e+05\n",
       "98030.0    2.961880e+05\n",
       "98031.0    3.005399e+05\n",
       "98032.0    2.512962e+05\n",
       "98033.0    8.037195e+05\n",
       "98034.0    5.216529e+05\n",
       "98038.0    3.668676e+05\n",
       "98039.0    2.160607e+06\n",
       "98040.0    1.194230e+06\n",
       "98042.0    3.116321e+05\n",
       "98045.0    4.394711e+05\n",
       "98052.0    6.452315e+05\n",
       "98053.0    6.781631e+05\n",
       "               ...     \n",
       "98092.0    3.349211e+05\n",
       "98102.0    9.012583e+05\n",
       "98103.0    5.848276e+05\n",
       "98105.0    8.637148e+05\n",
       "98106.0    3.189813e+05\n",
       "98107.0    5.790534e+05\n",
       "98108.0    3.556785e+05\n",
       "98109.0    8.796236e+05\n",
       "98112.0    1.095499e+06\n",
       "98115.0    6.199005e+05\n",
       "98116.0    6.186342e+05\n",
       "98117.0    5.767950e+05\n",
       "98118.0    4.176374e+05\n",
       "98119.0    8.494480e+05\n",
       "98122.0    6.343602e+05\n",
       "98125.0    4.694558e+05\n",
       "98126.0    4.247064e+05\n",
       "98133.0    3.869974e+05\n",
       "98136.0    5.516887e+05\n",
       "98144.0    5.945477e+05\n",
       "98146.0    3.594832e+05\n",
       "98148.0    2.849086e+05\n",
       "98155.0    4.237257e+05\n",
       "98166.0    4.642318e+05\n",
       "98168.0    2.403284e+05\n",
       "98177.0    6.761854e+05\n",
       "98178.0    3.106128e+05\n",
       "98188.0    2.890783e+05\n",
       "98198.0    3.028789e+05\n",
       "98199.0    7.918208e+05\n",
       "Name: price, Length: 70, dtype: float64"
      ]
     },
     "execution_count": 73,
     "metadata": {},
     "output_type": "execute_result"
    }
   ],
   "source": [
    "# calulating average price of the house by zipcode\n",
    "data.groupby(\"zipcode\")[\"price\"].mean()"
   ]
  },
  {
   "cell_type": "code",
   "execution_count": null,
   "metadata": {},
   "outputs": [],
   "source": []
  },
  {
   "cell_type": "code",
   "execution_count": 74,
   "metadata": {},
   "outputs": [
    {
     "data": {
      "image/png": "[encoded data removed]",
      "text/plain": [
       "<Figure size 432x288 with 1 Axes>"
      ]
     },
     "metadata": {},
     "output_type": "display_data"
    }
   ],
   "source": [
    "sns.set()\n",
    "plt.bar(data[\"grade\"],data[\"price\"])\n",
    "plt.show()"
   ]
  },
  {
   "cell_type": "code",
   "execution_count": 75,
   "metadata": {},
   "outputs": [
    {
     "data": {
      "text/html": [
       "<style  type=\"text/css\" >\n",
       "    #T_a1f8c918_b8d5_11e9_9c57_f8633f8c9cdfrow0_col0 {\n",
       "            background-color:  #b40426;\n",
       "        }    #T_a1f8c918_b8d5_11e9_9c57_f8633f8c9cdfrow0_col1 {\n",
       "            background-color:  #445acc;\n",
       "        }    #T_a1f8c918_b8d5_11e9_9c57_f8633f8c9cdfrow0_col2 {\n",
       "            background-color:  #6687ed;\n",
       "        }    #T_a1f8c918_b8d5_11e9_9c57_f8633f8c9cdfrow0_col3 {\n",
       "            background-color:  #5f7fe8;\n",
       "        }    #T_a1f8c918_b8d5_11e9_9c57_f8633f8c9cdfrow0_col4 {\n",
       "            background-color:  #6b8df0;\n",
       "        }    #T_a1f8c918_b8d5_11e9_9c57_f8633f8c9cdfrow0_col5 {\n",
       "            background-color:  #3b4cc0;\n",
       "        }    #T_a1f8c918_b8d5_11e9_9c57_f8633f8c9cdfrow0_col6 {\n",
       "            background-color:  #7ea1fa;\n",
       "        }    #T_a1f8c918_b8d5_11e9_9c57_f8633f8c9cdfrow0_col7 {\n",
       "            background-color:  #455cce;\n",
       "        }    #T_a1f8c918_b8d5_11e9_9c57_f8633f8c9cdfrow0_col8 {\n",
       "            background-color:  #5470de;\n",
       "        }    #T_a1f8c918_b8d5_11e9_9c57_f8633f8c9cdfrow0_col9 {\n",
       "            background-color:  #8caffe;\n",
       "        }    #T_a1f8c918_b8d5_11e9_9c57_f8633f8c9cdfrow0_col10 {\n",
       "            background-color:  #6e90f2;\n",
       "        }    #T_a1f8c918_b8d5_11e9_9c57_f8633f8c9cdfrow0_col11 {\n",
       "            background-color:  #7a9df8;\n",
       "        }    #T_a1f8c918_b8d5_11e9_9c57_f8633f8c9cdfrow0_col12 {\n",
       "            background-color:  #799cf8;\n",
       "        }    #T_a1f8c918_b8d5_11e9_9c57_f8633f8c9cdfrow0_col13 {\n",
       "            background-color:  #97b8ff;\n",
       "        }    #T_a1f8c918_b8d5_11e9_9c57_f8633f8c9cdfrow0_col14 {\n",
       "            background-color:  #7093f3;\n",
       "        }    #T_a1f8c918_b8d5_11e9_9c57_f8633f8c9cdfrow0_col15 {\n",
       "            background-color:  #b1cbfc;\n",
       "        }    #T_a1f8c918_b8d5_11e9_9c57_f8633f8c9cdfrow0_col16 {\n",
       "            background-color:  #6282ea;\n",
       "        }    #T_a1f8c918_b8d5_11e9_9c57_f8633f8c9cdfrow0_col17 {\n",
       "            background-color:  #b7cff9;\n",
       "        }    #T_a1f8c918_b8d5_11e9_9c57_f8633f8c9cdfrow0_col18 {\n",
       "            background-color:  #81a4fb;\n",
       "        }    #T_a1f8c918_b8d5_11e9_9c57_f8633f8c9cdfrow0_col19 {\n",
       "            background-color:  #3c4ec2;\n",
       "        }    #T_a1f8c918_b8d5_11e9_9c57_f8633f8c9cdfrow1_col0 {\n",
       "            background-color:  #5b7ae5;\n",
       "        }    #T_a1f8c918_b8d5_11e9_9c57_f8633f8c9cdfrow1_col1 {\n",
       "            background-color:  #b40426;\n",
       "        }    #T_a1f8c918_b8d5_11e9_9c57_f8633f8c9cdfrow1_col2 {\n",
       "            background-color:  #c3d5f4;\n",
       "        }    #T_a1f8c918_b8d5_11e9_9c57_f8633f8c9cdfrow1_col3 {\n",
       "            background-color:  #efcfbf;\n",
       "        }    #T_a1f8c918_b8d5_11e9_9c57_f8633f8c9cdfrow1_col4 {\n",
       "            background-color:  #f4987a;\n",
       "        }    #T_a1f8c918_b8d5_11e9_9c57_f8633f8c9cdfrow1_col5 {\n",
       "            background-color:  #7a9df8;\n",
       "        }    #T_a1f8c918_b8d5_11e9_9c57_f8633f8c9cdfrow1_col6 {\n",
       "            background-color:  #bed2f6;\n",
       "        }    #T_a1f8c918_b8d5_11e9_9c57_f8633f8c9cdfrow1_col7 {\n",
       "            background-color:  #9dbdff;\n",
       "        }    #T_a1f8c918_b8d5_11e9_9c57_f8633f8c9cdfrow1_col8 {\n",
       "            background-color:  #ccd9ed;\n",
       "        }    #T_a1f8c918_b8d5_11e9_9c57_f8633f8c9cdfrow1_col9 {\n",
       "            background-color:  #9bbcff;\n",
       "        }    #T_a1f8c918_b8d5_11e9_9c57_f8633f8c9cdfrow1_col10 {\n",
       "            background-color:  #f6a586;\n",
       "        }    #T_a1f8c918_b8d5_11e9_9c57_f8633f8c9cdfrow1_col11 {\n",
       "            background-color:  #f7b194;\n",
       "        }    #T_a1f8c918_b8d5_11e9_9c57_f8633f8c9cdfrow1_col12 {\n",
       "            background-color:  #d2dbe8;\n",
       "        }    #T_a1f8c918_b8d5_11e9_9c57_f8633f8c9cdfrow1_col13 {\n",
       "            background-color:  #a1c0ff;\n",
       "        }    #T_a1f8c918_b8d5_11e9_9c57_f8633f8c9cdfrow1_col14 {\n",
       "            background-color:  #9abbff;\n",
       "        }    #T_a1f8c918_b8d5_11e9_9c57_f8633f8c9cdfrow1_col15 {\n",
       "            background-color:  #a7c5fe;\n",
       "        }    #T_a1f8c918_b8d5_11e9_9c57_f8633f8c9cdfrow1_col16 {\n",
       "            background-color:  #bfd3f6;\n",
       "        }    #T_a1f8c918_b8d5_11e9_9c57_f8633f8c9cdfrow1_col17 {\n",
       "            background-color:  #b7cff9;\n",
       "        }    #T_a1f8c918_b8d5_11e9_9c57_f8633f8c9cdfrow1_col18 {\n",
       "            background-color:  #f7b497;\n",
       "        }    #T_a1f8c918_b8d5_11e9_9c57_f8633f8c9cdfrow1_col19 {\n",
       "            background-color:  #7b9ff9;\n",
       "        }    #T_a1f8c918_b8d5_11e9_9c57_f8633f8c9cdfrow2_col0 {\n",
       "            background-color:  #6180e9;\n",
       "        }    #T_a1f8c918_b8d5_11e9_9c57_f8633f8c9cdfrow2_col1 {\n",
       "            background-color:  #afcafc;\n",
       "        }    #T_a1f8c918_b8d5_11e9_9c57_f8633f8c9cdfrow2_col2 {\n",
       "            background-color:  #b40426;\n",
       "        }    #T_a1f8c918_b8d5_11e9_9c57_f8633f8c9cdfrow2_col3 {\n",
       "            background-color:  #ecd3c5;\n",
       "        }    #T_a1f8c918_b8d5_11e9_9c57_f8633f8c9cdfrow2_col4 {\n",
       "            background-color:  #f7b99e;\n",
       "        }    #T_a1f8c918_b8d5_11e9_9c57_f8633f8c9cdfrow2_col5 {\n",
       "            background-color:  #688aef;\n",
       "        }    #T_a1f8c918_b8d5_11e9_9c57_f8633f8c9cdfrow2_col6 {\n",
       "            background-color:  #aec9fc;\n",
       "        }    #T_a1f8c918_b8d5_11e9_9c57_f8633f8c9cdfrow2_col7 {\n",
       "            background-color:  #445acc;\n",
       "        }    #T_a1f8c918_b8d5_11e9_9c57_f8633f8c9cdfrow2_col8 {\n",
       "            background-color:  #6a8bef;\n",
       "        }    #T_a1f8c918_b8d5_11e9_9c57_f8633f8c9cdfrow2_col9 {\n",
       "            background-color:  #98b9ff;\n",
       "        }    #T_a1f8c918_b8d5_11e9_9c57_f8633f8c9cdfrow2_col10 {\n",
       "            background-color:  #d4dbe6;\n",
       "        }    #T_a1f8c918_b8d5_11e9_9c57_f8633f8c9cdfrow2_col11 {\n",
       "            background-color:  #f1ccb8;\n",
       "        }    #T_a1f8c918_b8d5_11e9_9c57_f8633f8c9cdfrow2_col12 {\n",
       "            background-color:  #cdd9ec;\n",
       "        }    #T_a1f8c918_b8d5_11e9_9c57_f8633f8c9cdfrow2_col13 {\n",
       "            background-color:  #bbd1f8;\n",
       "        }    #T_a1f8c918_b8d5_11e9_9c57_f8633f8c9cdfrow2_col14 {\n",
       "            background-color:  #7a9df8;\n",
       "        }    #T_a1f8c918_b8d5_11e9_9c57_f8633f8c9cdfrow2_col15 {\n",
       "            background-color:  #90b2fe;\n",
       "        }    #T_a1f8c918_b8d5_11e9_9c57_f8633f8c9cdfrow2_col16 {\n",
       "            background-color:  #5f7fe8;\n",
       "        }    #T_a1f8c918_b8d5_11e9_9c57_f8633f8c9cdfrow2_col17 {\n",
       "            background-color:  #cedaeb;\n",
       "        }    #T_a1f8c918_b8d5_11e9_9c57_f8633f8c9cdfrow2_col18 {\n",
       "            background-color:  #e5d8d1;\n",
       "        }    #T_a1f8c918_b8d5_11e9_9c57_f8633f8c9cdfrow2_col19 {\n",
       "            background-color:  #6b8df0;\n",
       "        }    #T_a1f8c918_b8d5_11e9_9c57_f8633f8c9cdfrow3_col0 {\n",
       "            background-color:  #5e7de7;\n",
       "        }    #T_a1f8c918_b8d5_11e9_9c57_f8633f8c9cdfrow3_col1 {\n",
       "            background-color:  #e8d6cc;\n",
       "        }    #T_a1f8c918_b8d5_11e9_9c57_f8633f8c9cdfrow3_col2 {\n",
       "            background-color:  #edd2c3;\n",
       "        }    #T_a1f8c918_b8d5_11e9_9c57_f8633f8c9cdfrow3_col3 {\n",
       "            background-color:  #b40426;\n",
       "        }    #T_a1f8c918_b8d5_11e9_9c57_f8633f8c9cdfrow3_col4 {\n",
       "            background-color:  #f4987a;\n",
       "        }    #T_a1f8c918_b8d5_11e9_9c57_f8633f8c9cdfrow3_col5 {\n",
       "            background-color:  #7a9df8;\n",
       "        }    #T_a1f8c918_b8d5_11e9_9c57_f8633f8c9cdfrow3_col6 {\n",
       "            background-color:  #d2dbe8;\n",
       "        }    #T_a1f8c918_b8d5_11e9_9c57_f8633f8c9cdfrow3_col7 {\n",
       "            background-color:  #5a78e4;\n",
       "        }    #T_a1f8c918_b8d5_11e9_9c57_f8633f8c9cdfrow3_col8 {\n",
       "            background-color:  #90b2fe;\n",
       "        }    #T_a1f8c918_b8d5_11e9_9c57_f8633f8c9cdfrow3_col9 {\n",
       "            background-color:  #81a4fb;\n",
       "        }    #T_a1f8c918_b8d5_11e9_9c57_f8633f8c9cdfrow3_col10 {\n",
       "            background-color:  #f7bca1;\n",
       "        }    #T_a1f8c918_b8d5_11e9_9c57_f8633f8c9cdfrow3_col11 {\n",
       "            background-color:  #f7b396;\n",
       "        }    #T_a1f8c918_b8d5_11e9_9c57_f8633f8c9cdfrow3_col12 {\n",
       "            background-color:  #d4dbe6;\n",
       "        }    #T_a1f8c918_b8d5_11e9_9c57_f8633f8c9cdfrow3_col13 {\n",
       "            background-color:  #e7d7ce;\n",
       "        }    #T_a1f8c918_b8d5_11e9_9c57_f8633f8c9cdfrow3_col14 {\n",
       "            background-color:  #89acfd;\n",
       "        }    #T_a1f8c918_b8d5_11e9_9c57_f8633f8c9cdfrow3_col15 {\n",
       "            background-color:  #93b5fe;\n",
       "        }    #T_a1f8c918_b8d5_11e9_9c57_f8633f8c9cdfrow3_col16 {\n",
       "            background-color:  #7093f3;\n",
       "        }    #T_a1f8c918_b8d5_11e9_9c57_f8633f8c9cdfrow3_col17 {\n",
       "            background-color:  #d1dae9;\n",
       "        }    #T_a1f8c918_b8d5_11e9_9c57_f8633f8c9cdfrow3_col18 {\n",
       "            background-color:  #f2c9b4;\n",
       "        }    #T_a1f8c918_b8d5_11e9_9c57_f8633f8c9cdfrow3_col19 {\n",
       "            background-color:  #7da0f9;\n",
       "        }    #T_a1f8c918_b8d5_11e9_9c57_f8633f8c9cdfrow4_col0 {\n",
       "            background-color:  #5d7ce6;\n",
       "        }    #T_a1f8c918_b8d5_11e9_9c57_f8633f8c9cdfrow4_col1 {\n",
       "            background-color:  #f7a688;\n",
       "        }    #T_a1f8c918_b8d5_11e9_9c57_f8633f8c9cdfrow4_col2 {\n",
       "            background-color:  #f6bea4;\n",
       "        }    #T_a1f8c918_b8d5_11e9_9c57_f8633f8c9cdfrow4_col3 {\n",
       "            background-color:  #f59d7e;\n",
       "        }    #T_a1f8c918_b8d5_11e9_9c57_f8633f8c9cdfrow4_col4 {\n",
       "            background-color:  #b40426;\n",
       "        }    #T_a1f8c918_b8d5_11e9_9c57_f8633f8c9cdfrow4_col5 {\n",
       "            background-color:  #93b5fe;\n",
       "        }    #T_a1f8c918_b8d5_11e9_9c57_f8633f8c9cdfrow4_col6 {\n",
       "            background-color:  #d1dae9;\n",
       "        }    #T_a1f8c918_b8d5_11e9_9c57_f8633f8c9cdfrow4_col7 {\n",
       "            background-color:  #6687ed;\n",
       "        }    #T_a1f8c918_b8d5_11e9_9c57_f8633f8c9cdfrow4_col8 {\n",
       "            background-color:  #abc8fd;\n",
       "        }    #T_a1f8c918_b8d5_11e9_9c57_f8633f8c9cdfrow4_col9 {\n",
       "            background-color:  #82a6fb;\n",
       "        }    #T_a1f8c918_b8d5_11e9_9c57_f8633f8c9cdfrow4_col10 {\n",
       "            background-color:  #ee8468;\n",
       "        }    #T_a1f8c918_b8d5_11e9_9c57_f8633f8c9cdfrow4_col11 {\n",
       "            background-color:  #d65244;\n",
       "        }    #T_a1f8c918_b8d5_11e9_9c57_f8633f8c9cdfrow4_col12 {\n",
       "            background-color:  #e8d6cc;\n",
       "        }    #T_a1f8c918_b8d5_11e9_9c57_f8633f8c9cdfrow4_col13 {\n",
       "            background-color:  #dcdddd;\n",
       "        }    #T_a1f8c918_b8d5_11e9_9c57_f8633f8c9cdfrow4_col14 {\n",
       "            background-color:  #85a8fc;\n",
       "        }    #T_a1f8c918_b8d5_11e9_9c57_f8633f8c9cdfrow4_col15 {\n",
       "            background-color:  #86a9fc;\n",
       "        }    #T_a1f8c918_b8d5_11e9_9c57_f8633f8c9cdfrow4_col16 {\n",
       "            background-color:  #7295f4;\n",
       "        }    #T_a1f8c918_b8d5_11e9_9c57_f8633f8c9cdfrow4_col17 {\n",
       "            background-color:  #e0dbd8;\n",
       "        }    #T_a1f8c918_b8d5_11e9_9c57_f8633f8c9cdfrow4_col18 {\n",
       "            background-color:  #ec7f63;\n",
       "        }    #T_a1f8c918_b8d5_11e9_9c57_f8633f8c9cdfrow4_col19 {\n",
       "            background-color:  #9abbff;\n",
       "        }    #T_a1f8c918_b8d5_11e9_9c57_f8633f8c9cdfrow5_col0 {\n",
       "            background-color:  #3c4ec2;\n",
       "        }    #T_a1f8c918_b8d5_11e9_9c57_f8633f8c9cdfrow5_col1 {\n",
       "            background-color:  #6485ec;\n",
       "        }    #T_a1f8c918_b8d5_11e9_9c57_f8633f8c9cdfrow5_col2 {\n",
       "            background-color:  #6f92f3;\n",
       "        }    #T_a1f8c918_b8d5_11e9_9c57_f8633f8c9cdfrow5_col3 {\n",
       "            background-color:  #7da0f9;\n",
       "        }    #T_a1f8c918_b8d5_11e9_9c57_f8633f8c9cdfrow5_col4 {\n",
       "            background-color:  #a2c1ff;\n",
       "        }    #T_a1f8c918_b8d5_11e9_9c57_f8633f8c9cdfrow5_col5 {\n",
       "            background-color:  #b40426;\n",
       "        }    #T_a1f8c918_b8d5_11e9_9c57_f8633f8c9cdfrow5_col6 {\n",
       "            background-color:  #7a9df8;\n",
       "        }    #T_a1f8c918_b8d5_11e9_9c57_f8633f8c9cdfrow5_col7 {\n",
       "            background-color:  #4c66d6;\n",
       "        }    #T_a1f8c918_b8d5_11e9_9c57_f8633f8c9cdfrow5_col8 {\n",
       "            background-color:  #6788ee;\n",
       "        }    #T_a1f8c918_b8d5_11e9_9c57_f8633f8c9cdfrow5_col9 {\n",
       "            background-color:  #90b2fe;\n",
       "        }    #T_a1f8c918_b8d5_11e9_9c57_f8633f8c9cdfrow5_col10 {\n",
       "            background-color:  #8db0fe;\n",
       "        }    #T_a1f8c918_b8d5_11e9_9c57_f8633f8c9cdfrow5_col11 {\n",
       "            background-color:  #b1cbfc;\n",
       "        }    #T_a1f8c918_b8d5_11e9_9c57_f8633f8c9cdfrow5_col12 {\n",
       "            background-color:  #7ea1fa;\n",
       "        }    #T_a1f8c918_b8d5_11e9_9c57_f8633f8c9cdfrow5_col13 {\n",
       "            background-color:  #9fbfff;\n",
       "        }    #T_a1f8c918_b8d5_11e9_9c57_f8633f8c9cdfrow5_col14 {\n",
       "            background-color:  #779af7;\n",
       "        }    #T_a1f8c918_b8d5_11e9_9c57_f8633f8c9cdfrow5_col15 {\n",
       "            background-color:  #97b8ff;\n",
       "        }    #T_a1f8c918_b8d5_11e9_9c57_f8633f8c9cdfrow5_col16 {\n",
       "            background-color:  #4a63d3;\n",
       "        }    #T_a1f8c918_b8d5_11e9_9c57_f8633f8c9cdfrow5_col17 {\n",
       "            background-color:  #dedcdb;\n",
       "        }    #T_a1f8c918_b8d5_11e9_9c57_f8633f8c9cdfrow5_col18 {\n",
       "            background-color:  #a9c6fd;\n",
       "        }    #T_a1f8c918_b8d5_11e9_9c57_f8633f8c9cdfrow5_col19 {\n",
       "            background-color:  #f39778;\n",
       "        }    #T_a1f8c918_b8d5_11e9_9c57_f8633f8c9cdfrow6_col0 {\n",
       "            background-color:  #6687ed;\n",
       "        }    #T_a1f8c918_b8d5_11e9_9c57_f8633f8c9cdfrow6_col1 {\n",
       "            background-color:  #98b9ff;\n",
       "        }    #T_a1f8c918_b8d5_11e9_9c57_f8633f8c9cdfrow6_col2 {\n",
       "            background-color:  #9dbdff;\n",
       "        }    #T_a1f8c918_b8d5_11e9_9c57_f8633f8c9cdfrow6_col3 {\n",
       "            background-color:  #c4d5f3;\n",
       "        }    #T_a1f8c918_b8d5_11e9_9c57_f8633f8c9cdfrow6_col4 {\n",
       "            background-color:  #cbd8ee;\n",
       "        }    #T_a1f8c918_b8d5_11e9_9c57_f8633f8c9cdfrow6_col5 {\n",
       "            background-color:  #5e7de7;\n",
       "        }    #T_a1f8c918_b8d5_11e9_9c57_f8633f8c9cdfrow6_col6 {\n",
       "            background-color:  #b40426;\n",
       "        }    #T_a1f8c918_b8d5_11e9_9c57_f8633f8c9cdfrow6_col7 {\n",
       "            background-color:  #4e68d8;\n",
       "        }    #T_a1f8c918_b8d5_11e9_9c57_f8633f8c9cdfrow6_col8 {\n",
       "            background-color:  #5977e3;\n",
       "        }    #T_a1f8c918_b8d5_11e9_9c57_f8633f8c9cdfrow6_col9 {\n",
       "            background-color:  #5977e3;\n",
       "        }    #T_a1f8c918_b8d5_11e9_9c57_f8633f8c9cdfrow6_col10 {\n",
       "            background-color:  #dddcdc;\n",
       "        }    #T_a1f8c918_b8d5_11e9_9c57_f8633f8c9cdfrow6_col11 {\n",
       "            background-color:  #f1ccb8;\n",
       "        }    #T_a1f8c918_b8d5_11e9_9c57_f8633f8c9cdfrow6_col12 {\n",
       "            background-color:  #3b4cc0;\n",
       "        }    #T_a1f8c918_b8d5_11e9_9c57_f8633f8c9cdfrow6_col13 {\n",
       "            background-color:  #e8d6cc;\n",
       "        }    #T_a1f8c918_b8d5_11e9_9c57_f8633f8c9cdfrow6_col14 {\n",
       "            background-color:  #7a9df8;\n",
       "        }    #T_a1f8c918_b8d5_11e9_9c57_f8633f8c9cdfrow6_col15 {\n",
       "            background-color:  #aec9fc;\n",
       "        }    #T_a1f8c918_b8d5_11e9_9c57_f8633f8c9cdfrow6_col16 {\n",
       "            background-color:  #7699f6;\n",
       "        }    #T_a1f8c918_b8d5_11e9_9c57_f8633f8c9cdfrow6_col17 {\n",
       "            background-color:  #c5d6f2;\n",
       "        }    #T_a1f8c918_b8d5_11e9_9c57_f8633f8c9cdfrow6_col18 {\n",
       "            background-color:  #c3d5f4;\n",
       "        }    #T_a1f8c918_b8d5_11e9_9c57_f8633f8c9cdfrow6_col19 {\n",
       "            background-color:  #5f7fe8;\n",
       "        }    #T_a1f8c918_b8d5_11e9_9c57_f8633f8c9cdfrow7_col0 {\n",
       "            background-color:  #5f7fe8;\n",
       "        }    #T_a1f8c918_b8d5_11e9_9c57_f8633f8c9cdfrow7_col1 {\n",
       "            background-color:  #9fbfff;\n",
       "        }    #T_a1f8c918_b8d5_11e9_9c57_f8633f8c9cdfrow7_col2 {\n",
       "            background-color:  #6384eb;\n",
       "        }    #T_a1f8c918_b8d5_11e9_9c57_f8633f8c9cdfrow7_col3 {\n",
       "            background-color:  #7597f6;\n",
       "        }    #T_a1f8c918_b8d5_11e9_9c57_f8633f8c9cdfrow7_col4 {\n",
       "            background-color:  #8db0fe;\n",
       "        }    #T_a1f8c918_b8d5_11e9_9c57_f8633f8c9cdfrow7_col5 {\n",
       "            background-color:  #6485ec;\n",
       "        }    #T_a1f8c918_b8d5_11e9_9c57_f8633f8c9cdfrow7_col6 {\n",
       "            background-color:  #81a4fb;\n",
       "        }    #T_a1f8c918_b8d5_11e9_9c57_f8633f8c9cdfrow7_col7 {\n",
       "            background-color:  #b40426;\n",
       "        }    #T_a1f8c918_b8d5_11e9_9c57_f8633f8c9cdfrow7_col8 {\n",
       "            background-color:  #cedaeb;\n",
       "        }    #T_a1f8c918_b8d5_11e9_9c57_f8633f8c9cdfrow7_col9 {\n",
       "            background-color:  #97b8ff;\n",
       "        }    #T_a1f8c918_b8d5_11e9_9c57_f8633f8c9cdfrow7_col10 {\n",
       "            background-color:  #84a7fc;\n",
       "        }    #T_a1f8c918_b8d5_11e9_9c57_f8633f8c9cdfrow7_col11 {\n",
       "            background-color:  #92b4fe;\n",
       "        }    #T_a1f8c918_b8d5_11e9_9c57_f8633f8c9cdfrow7_col12 {\n",
       "            background-color:  #92b4fe;\n",
       "        }    #T_a1f8c918_b8d5_11e9_9c57_f8633f8c9cdfrow7_col13 {\n",
       "            background-color:  #8caffe;\n",
       "        }    #T_a1f8c918_b8d5_11e9_9c57_f8633f8c9cdfrow7_col14 {\n",
       "            background-color:  #90b2fe;\n",
       "        }    #T_a1f8c918_b8d5_11e9_9c57_f8633f8c9cdfrow7_col15 {\n",
       "            background-color:  #bad0f8;\n",
       "        }    #T_a1f8c918_b8d5_11e9_9c57_f8633f8c9cdfrow7_col16 {\n",
       "            background-color:  #5e7de7;\n",
       "        }    #T_a1f8c918_b8d5_11e9_9c57_f8633f8c9cdfrow7_col17 {\n",
       "            background-color:  #aac7fd;\n",
       "        }    #T_a1f8c918_b8d5_11e9_9c57_f8633f8c9cdfrow7_col18 {\n",
       "            background-color:  #9abbff;\n",
       "        }    #T_a1f8c918_b8d5_11e9_9c57_f8633f8c9cdfrow7_col19 {\n",
       "            background-color:  #6b8df0;\n",
       "        }    #T_a1f8c918_b8d5_11e9_9c57_f8633f8c9cdfrow8_col0 {\n",
       "            background-color:  #6384eb;\n",
       "        }    #T_a1f8c918_b8d5_11e9_9c57_f8633f8c9cdfrow8_col1 {\n",
       "            background-color:  #c9d7f0;\n",
       "        }    #T_a1f8c918_b8d5_11e9_9c57_f8633f8c9cdfrow8_col2 {\n",
       "            background-color:  #7da0f9;\n",
       "        }    #T_a1f8c918_b8d5_11e9_9c57_f8633f8c9cdfrow8_col3 {\n",
       "            background-color:  #9fbfff;\n",
       "        }    #T_a1f8c918_b8d5_11e9_9c57_f8633f8c9cdfrow8_col4 {\n",
       "            background-color:  #c1d4f4;\n",
       "        }    #T_a1f8c918_b8d5_11e9_9c57_f8633f8c9cdfrow8_col5 {\n",
       "            background-color:  #7597f6;\n",
       "        }    #T_a1f8c918_b8d5_11e9_9c57_f8633f8c9cdfrow8_col6 {\n",
       "            background-color:  #82a6fb;\n",
       "        }    #T_a1f8c918_b8d5_11e9_9c57_f8633f8c9cdfrow8_col7 {\n",
       "            background-color:  #c9d7f0;\n",
       "        }    #T_a1f8c918_b8d5_11e9_9c57_f8633f8c9cdfrow8_col8 {\n",
       "            background-color:  #b40426;\n",
       "        }    #T_a1f8c918_b8d5_11e9_9c57_f8633f8c9cdfrow8_col9 {\n",
       "            background-color:  #9ebeff;\n",
       "        }    #T_a1f8c918_b8d5_11e9_9c57_f8633f8c9cdfrow8_col10 {\n",
       "            background-color:  #b6cefa;\n",
       "        }    #T_a1f8c918_b8d5_11e9_9c57_f8633f8c9cdfrow8_col11 {\n",
       "            background-color:  #adc9fd;\n",
       "        }    #T_a1f8c918_b8d5_11e9_9c57_f8633f8c9cdfrow8_col12 {\n",
       "            background-color:  #c6d6f1;\n",
       "        }    #T_a1f8c918_b8d5_11e9_9c57_f8633f8c9cdfrow8_col13 {\n",
       "            background-color:  #84a7fc;\n",
       "        }    #T_a1f8c918_b8d5_11e9_9c57_f8633f8c9cdfrow8_col14 {\n",
       "            background-color:  #93b5fe;\n",
       "        }    #T_a1f8c918_b8d5_11e9_9c57_f8633f8c9cdfrow8_col15 {\n",
       "            background-color:  #c5d6f2;\n",
       "        }    #T_a1f8c918_b8d5_11e9_9c57_f8633f8c9cdfrow8_col16 {\n",
       "            background-color:  #6485ec;\n",
       "        }    #T_a1f8c918_b8d5_11e9_9c57_f8633f8c9cdfrow8_col17 {\n",
       "            background-color:  #a2c1ff;\n",
       "        }    #T_a1f8c918_b8d5_11e9_9c57_f8633f8c9cdfrow8_col18 {\n",
       "            background-color:  #cbd8ee;\n",
       "        }    #T_a1f8c918_b8d5_11e9_9c57_f8633f8c9cdfrow8_col19 {\n",
       "            background-color:  #799cf8;\n",
       "        }    #T_a1f8c918_b8d5_11e9_9c57_f8633f8c9cdfrow9_col0 {\n",
       "            background-color:  #5977e3;\n",
       "        }    #T_a1f8c918_b8d5_11e9_9c57_f8633f8c9cdfrow9_col1 {\n",
       "            background-color:  #5470de;\n",
       "        }    #T_a1f8c918_b8d5_11e9_9c57_f8633f8c9cdfrow9_col2 {\n",
       "            background-color:  #6c8ff1;\n",
       "        }    #T_a1f8c918_b8d5_11e9_9c57_f8633f8c9cdfrow9_col3 {\n",
       "            background-color:  #4f69d9;\n",
       "        }    #T_a1f8c918_b8d5_11e9_9c57_f8633f8c9cdfrow9_col4 {\n",
       "            background-color:  #5f7fe8;\n",
       "        }    #T_a1f8c918_b8d5_11e9_9c57_f8633f8c9cdfrow9_col5 {\n",
       "            background-color:  #5b7ae5;\n",
       "        }    #T_a1f8c918_b8d5_11e9_9c57_f8633f8c9cdfrow9_col6 {\n",
       "            background-color:  #3f53c6;\n",
       "        }    #T_a1f8c918_b8d5_11e9_9c57_f8633f8c9cdfrow9_col7 {\n",
       "            background-color:  #4b64d5;\n",
       "        }    #T_a1f8c918_b8d5_11e9_9c57_f8633f8c9cdfrow9_col8 {\n",
       "            background-color:  #5e7de7;\n",
       "        }    #T_a1f8c918_b8d5_11e9_9c57_f8633f8c9cdfrow9_col9 {\n",
       "            background-color:  #b40426;\n",
       "        }    #T_a1f8c918_b8d5_11e9_9c57_f8633f8c9cdfrow9_col10 {\n",
       "            background-color:  #445acc;\n",
       "        }    #T_a1f8c918_b8d5_11e9_9c57_f8633f8c9cdfrow9_col11 {\n",
       "            background-color:  #536edd;\n",
       "        }    #T_a1f8c918_b8d5_11e9_9c57_f8633f8c9cdfrow9_col12 {\n",
       "            background-color:  #abc8fd;\n",
       "        }    #T_a1f8c918_b8d5_11e9_9c57_f8633f8c9cdfrow9_col13 {\n",
       "            background-color:  #3b4cc0;\n",
       "        }    #T_a1f8c918_b8d5_11e9_9c57_f8633f8c9cdfrow9_col14 {\n",
       "            background-color:  #6485ec;\n",
       "        }    #T_a1f8c918_b8d5_11e9_9c57_f8633f8c9cdfrow9_col15 {\n",
       "            background-color:  #b3cdfb;\n",
       "        }    #T_a1f8c918_b8d5_11e9_9c57_f8633f8c9cdfrow9_col16 {\n",
       "            background-color:  #5e7de7;\n",
       "        }    #T_a1f8c918_b8d5_11e9_9c57_f8633f8c9cdfrow9_col17 {\n",
       "            background-color:  #9bbcff;\n",
       "        }    #T_a1f8c918_b8d5_11e9_9c57_f8633f8c9cdfrow9_col18 {\n",
       "            background-color:  #688aef;\n",
       "        }    #T_a1f8c918_b8d5_11e9_9c57_f8633f8c9cdfrow9_col19 {\n",
       "            background-color:  #6282ea;\n",
       "        }    #T_a1f8c918_b8d5_11e9_9c57_f8633f8c9cdfrow10_col0 {\n",
       "            background-color:  #6384eb;\n",
       "        }    #T_a1f8c918_b8d5_11e9_9c57_f8633f8c9cdfrow10_col1 {\n",
       "            background-color:  #f7b194;\n",
       "        }    #T_a1f8c918_b8d5_11e9_9c57_f8633f8c9cdfrow10_col2 {\n",
       "            background-color:  #d1dae9;\n",
       "        }    #T_a1f8c918_b8d5_11e9_9c57_f8633f8c9cdfrow10_col3 {\n",
       "            background-color:  #f6bfa6;\n",
       "        }    #T_a1f8c918_b8d5_11e9_9c57_f8633f8c9cdfrow10_col4 {\n",
       "            background-color:  #ed8366;\n",
       "        }    #T_a1f8c918_b8d5_11e9_9c57_f8633f8c9cdfrow10_col5 {\n",
       "            background-color:  #81a4fb;\n",
       "        }    #T_a1f8c918_b8d5_11e9_9c57_f8633f8c9cdfrow10_col6 {\n",
       "            background-color:  #e3d9d3;\n",
       "        }    #T_a1f8c918_b8d5_11e9_9c57_f8633f8c9cdfrow10_col7 {\n",
       "            background-color:  #5f7fe8;\n",
       "        }    #T_a1f8c918_b8d5_11e9_9c57_f8633f8c9cdfrow10_col8 {\n",
       "            background-color:  #a1c0ff;\n",
       "        }    #T_a1f8c918_b8d5_11e9_9c57_f8633f8c9cdfrow10_col9 {\n",
       "            background-color:  #6c8ff1;\n",
       "        }    #T_a1f8c918_b8d5_11e9_9c57_f8633f8c9cdfrow10_col10 {\n",
       "            background-color:  #b40426;\n",
       "        }    #T_a1f8c918_b8d5_11e9_9c57_f8633f8c9cdfrow10_col11 {\n",
       "            background-color:  #ec8165;\n",
       "        }    #T_a1f8c918_b8d5_11e9_9c57_f8633f8c9cdfrow10_col12 {\n",
       "            background-color:  #aac7fd;\n",
       "        }    #T_a1f8c918_b8d5_11e9_9c57_f8633f8c9cdfrow10_col13 {\n",
       "            background-color:  #f1cdba;\n",
       "        }    #T_a1f8c918_b8d5_11e9_9c57_f8633f8c9cdfrow10_col14 {\n",
       "            background-color:  #7a9df8;\n",
       "        }    #T_a1f8c918_b8d5_11e9_9c57_f8633f8c9cdfrow10_col15 {\n",
       "            background-color:  #8badfd;\n",
       "        }    #T_a1f8c918_b8d5_11e9_9c57_f8633f8c9cdfrow10_col16 {\n",
       "            background-color:  #85a8fc;\n",
       "        }    #T_a1f8c918_b8d5_11e9_9c57_f8633f8c9cdfrow10_col17 {\n",
       "            background-color:  #d9dce1;\n",
       "        }    #T_a1f8c918_b8d5_11e9_9c57_f8633f8c9cdfrow10_col18 {\n",
       "            background-color:  #f18f71;\n",
       "        }    #T_a1f8c918_b8d5_11e9_9c57_f8633f8c9cdfrow10_col19 {\n",
       "            background-color:  #86a9fc;\n",
       "        }    #T_a1f8c918_b8d5_11e9_9c57_f8633f8c9cdfrow11_col0 {\n",
       "            background-color:  #5d7ce6;\n",
       "        }    #T_a1f8c918_b8d5_11e9_9c57_f8633f8c9cdfrow11_col1 {\n",
       "            background-color:  #f5c4ac;\n",
       "        }    #T_a1f8c918_b8d5_11e9_9c57_f8633f8c9cdfrow11_col2 {\n",
       "            background-color:  #ebd3c6;\n",
       "        }    #T_a1f8c918_b8d5_11e9_9c57_f8633f8c9cdfrow11_col3 {\n",
       "            background-color:  #f6bda2;\n",
       "        }    #T_a1f8c918_b8d5_11e9_9c57_f8633f8c9cdfrow11_col4 {\n",
       "            background-color:  #d75445;\n",
       "        }    #T_a1f8c918_b8d5_11e9_9c57_f8633f8c9cdfrow11_col5 {\n",
       "            background-color:  #97b8ff;\n",
       "        }    #T_a1f8c918_b8d5_11e9_9c57_f8633f8c9cdfrow11_col6 {\n",
       "            background-color:  #f0cdbb;\n",
       "        }    #T_a1f8c918_b8d5_11e9_9c57_f8633f8c9cdfrow11_col7 {\n",
       "            background-color:  #5d7ce6;\n",
       "        }    #T_a1f8c918_b8d5_11e9_9c57_f8633f8c9cdfrow11_col8 {\n",
       "            background-color:  #85a8fc;\n",
       "        }    #T_a1f8c918_b8d5_11e9_9c57_f8633f8c9cdfrow11_col9 {\n",
       "            background-color:  #6a8bef;\n",
       "        }    #T_a1f8c918_b8d5_11e9_9c57_f8633f8c9cdfrow11_col10 {\n",
       "            background-color:  #ee8669;\n",
       "        }    #T_a1f8c918_b8d5_11e9_9c57_f8633f8c9cdfrow11_col11 {\n",
       "            background-color:  #b40426;\n",
       "        }    #T_a1f8c918_b8d5_11e9_9c57_f8633f8c9cdfrow11_col12 {\n",
       "            background-color:  #6b8df0;\n",
       "        }    #T_a1f8c918_b8d5_11e9_9c57_f8633f8c9cdfrow11_col13 {\n",
       "            background-color:  #eed0c0;\n",
       "        }    #T_a1f8c918_b8d5_11e9_9c57_f8633f8c9cdfrow11_col14 {\n",
       "            background-color:  #7b9ff9;\n",
       "        }    #T_a1f8c918_b8d5_11e9_9c57_f8633f8c9cdfrow11_col15 {\n",
       "            background-color:  #799cf8;\n",
       "        }    #T_a1f8c918_b8d5_11e9_9c57_f8633f8c9cdfrow11_col16 {\n",
       "            background-color:  #6282ea;\n",
       "        }    #T_a1f8c918_b8d5_11e9_9c57_f8633f8c9cdfrow11_col17 {\n",
       "            background-color:  #efcfbf;\n",
       "        }    #T_a1f8c918_b8d5_11e9_9c57_f8633f8c9cdfrow11_col18 {\n",
       "            background-color:  #ef886b;\n",
       "        }    #T_a1f8c918_b8d5_11e9_9c57_f8633f8c9cdfrow11_col19 {\n",
       "            background-color:  #9ebeff;\n",
       "        }    #T_a1f8c918_b8d5_11e9_9c57_f8633f8c9cdfrow12_col0 {\n",
       "            background-color:  #5f7fe8;\n",
       "        }    #T_a1f8c918_b8d5_11e9_9c57_f8633f8c9cdfrow12_col1 {\n",
       "            background-color:  #b2ccfb;\n",
       "        }    #T_a1f8c918_b8d5_11e9_9c57_f8633f8c9cdfrow12_col2 {\n",
       "            background-color:  #c1d4f4;\n",
       "        }    #T_a1f8c918_b8d5_11e9_9c57_f8633f8c9cdfrow12_col3 {\n",
       "            background-color:  #c6d6f1;\n",
       "        }    #T_a1f8c918_b8d5_11e9_9c57_f8633f8c9cdfrow12_col4 {\n",
       "            background-color:  #e4d9d2;\n",
       "        }    #T_a1f8c918_b8d5_11e9_9c57_f8633f8c9cdfrow12_col5 {\n",
       "            background-color:  #6384eb;\n",
       "        }    #T_a1f8c918_b8d5_11e9_9c57_f8633f8c9cdfrow12_col6 {\n",
       "            background-color:  #3b4cc0;\n",
       "        }    #T_a1f8c918_b8d5_11e9_9c57_f8633f8c9cdfrow12_col7 {\n",
       "            background-color:  #5f7fe8;\n",
       "        }    #T_a1f8c918_b8d5_11e9_9c57_f8633f8c9cdfrow12_col8 {\n",
       "            background-color:  #a9c6fd;\n",
       "        }    #T_a1f8c918_b8d5_11e9_9c57_f8633f8c9cdfrow12_col9 {\n",
       "            background-color:  #bed2f6;\n",
       "        }    #T_a1f8c918_b8d5_11e9_9c57_f8633f8c9cdfrow12_col10 {\n",
       "            background-color:  #9ebeff;\n",
       "        }    #T_a1f8c918_b8d5_11e9_9c57_f8633f8c9cdfrow12_col11 {\n",
       "            background-color:  #6f92f3;\n",
       "        }    #T_a1f8c918_b8d5_11e9_9c57_f8633f8c9cdfrow12_col12 {\n",
       "            background-color:  #b40426;\n",
       "        }    #T_a1f8c918_b8d5_11e9_9c57_f8633f8c9cdfrow12_col13 {\n",
       "            background-color:  #6f92f3;\n",
       "        }    #T_a1f8c918_b8d5_11e9_9c57_f8633f8c9cdfrow12_col14 {\n",
       "            background-color:  #89acfd;\n",
       "        }    #T_a1f8c918_b8d5_11e9_9c57_f8633f8c9cdfrow12_col15 {\n",
       "            background-color:  #c3d5f4;\n",
       "        }    #T_a1f8c918_b8d5_11e9_9c57_f8633f8c9cdfrow12_col16 {\n",
       "            background-color:  #84a7fc;\n",
       "        }    #T_a1f8c918_b8d5_11e9_9c57_f8633f8c9cdfrow12_col17 {\n",
       "            background-color:  #93b5fe;\n",
       "        }    #T_a1f8c918_b8d5_11e9_9c57_f8633f8c9cdfrow12_col18 {\n",
       "            background-color:  #b7cff9;\n",
       "        }    #T_a1f8c918_b8d5_11e9_9c57_f8633f8c9cdfrow12_col19 {\n",
       "            background-color:  #6788ee;\n",
       "        }    #T_a1f8c918_b8d5_11e9_9c57_f8633f8c9cdfrow13_col0 {\n",
       "            background-color:  #6788ee;\n",
       "        }    #T_a1f8c918_b8d5_11e9_9c57_f8633f8c9cdfrow13_col1 {\n",
       "            background-color:  #5a78e4;\n",
       "        }    #T_a1f8c918_b8d5_11e9_9c57_f8633f8c9cdfrow13_col2 {\n",
       "            background-color:  #96b7ff;\n",
       "        }    #T_a1f8c918_b8d5_11e9_9c57_f8633f8c9cdfrow13_col3 {\n",
       "            background-color:  #d1dae9;\n",
       "        }    #T_a1f8c918_b8d5_11e9_9c57_f8633f8c9cdfrow13_col4 {\n",
       "            background-color:  #cad8ef;\n",
       "        }    #T_a1f8c918_b8d5_11e9_9c57_f8633f8c9cdfrow13_col5 {\n",
       "            background-color:  #6e90f2;\n",
       "        }    #T_a1f8c918_b8d5_11e9_9c57_f8633f8c9cdfrow13_col6 {\n",
       "            background-color:  #dddcdc;\n",
       "        }    #T_a1f8c918_b8d5_11e9_9c57_f8633f8c9cdfrow13_col7 {\n",
       "            background-color:  #3e51c5;\n",
       "        }    #T_a1f8c918_b8d5_11e9_9c57_f8633f8c9cdfrow13_col8 {\n",
       "            background-color:  #4055c8;\n",
       "        }    #T_a1f8c918_b8d5_11e9_9c57_f8633f8c9cdfrow13_col9 {\n",
       "            background-color:  #3b4cc0;\n",
       "        }    #T_a1f8c918_b8d5_11e9_9c57_f8633f8c9cdfrow13_col10 {\n",
       "            background-color:  #e5d8d1;\n",
       "        }    #T_a1f8c918_b8d5_11e9_9c57_f8633f8c9cdfrow13_col11 {\n",
       "            background-color:  #e8d6cc;\n",
       "        }    #T_a1f8c918_b8d5_11e9_9c57_f8633f8c9cdfrow13_col12 {\n",
       "            background-color:  #5673e0;\n",
       "        }    #T_a1f8c918_b8d5_11e9_9c57_f8633f8c9cdfrow13_col13 {\n",
       "            background-color:  #b40426;\n",
       "        }    #T_a1f8c918_b8d5_11e9_9c57_f8633f8c9cdfrow13_col14 {\n",
       "            background-color:  #3b4cc0;\n",
       "        }    #T_a1f8c918_b8d5_11e9_9c57_f8633f8c9cdfrow13_col15 {\n",
       "            background-color:  #6687ed;\n",
       "        }    #T_a1f8c918_b8d5_11e9_9c57_f8633f8c9cdfrow13_col16 {\n",
       "            background-color:  #3b4cc0;\n",
       "        }    #T_a1f8c918_b8d5_11e9_9c57_f8633f8c9cdfrow13_col17 {\n",
       "            background-color:  #f4c5ad;\n",
       "        }    #T_a1f8c918_b8d5_11e9_9c57_f8633f8c9cdfrow13_col18 {\n",
       "            background-color:  #d6dce4;\n",
       "        }    #T_a1f8c918_b8d5_11e9_9c57_f8633f8c9cdfrow13_col19 {\n",
       "            background-color:  #779af7;\n",
       "        }    #T_a1f8c918_b8d5_11e9_9c57_f8633f8c9cdfrow14_col0 {\n",
       "            background-color:  #5b7ae5;\n",
       "        }    #T_a1f8c918_b8d5_11e9_9c57_f8633f8c9cdfrow14_col1 {\n",
       "            background-color:  #7093f3;\n",
       "        }    #T_a1f8c918_b8d5_11e9_9c57_f8633f8c9cdfrow14_col2 {\n",
       "            background-color:  #6a8bef;\n",
       "        }    #T_a1f8c918_b8d5_11e9_9c57_f8633f8c9cdfrow14_col3 {\n",
       "            background-color:  #7699f6;\n",
       "        }    #T_a1f8c918_b8d5_11e9_9c57_f8633f8c9cdfrow14_col4 {\n",
       "            background-color:  #80a3fa;\n",
       "        }    #T_a1f8c918_b8d5_11e9_9c57_f8633f8c9cdfrow14_col5 {\n",
       "            background-color:  #6180e9;\n",
       "        }    #T_a1f8c918_b8d5_11e9_9c57_f8633f8c9cdfrow14_col6 {\n",
       "            background-color:  #7ea1fa;\n",
       "        }    #T_a1f8c918_b8d5_11e9_9c57_f8633f8c9cdfrow14_col7 {\n",
       "            background-color:  #6384eb;\n",
       "        }    #T_a1f8c918_b8d5_11e9_9c57_f8633f8c9cdfrow14_col8 {\n",
       "            background-color:  #7093f3;\n",
       "        }    #T_a1f8c918_b8d5_11e9_9c57_f8633f8c9cdfrow14_col9 {\n",
       "            background-color:  #82a6fb;\n",
       "        }    #T_a1f8c918_b8d5_11e9_9c57_f8633f8c9cdfrow14_col10 {\n",
       "            background-color:  #7093f3;\n",
       "        }    #T_a1f8c918_b8d5_11e9_9c57_f8633f8c9cdfrow14_col11 {\n",
       "            background-color:  #84a7fc;\n",
       "        }    #T_a1f8c918_b8d5_11e9_9c57_f8633f8c9cdfrow14_col12 {\n",
       "            background-color:  #8fb1fe;\n",
       "        }    #T_a1f8c918_b8d5_11e9_9c57_f8633f8c9cdfrow14_col13 {\n",
       "            background-color:  #5977e3;\n",
       "        }    #T_a1f8c918_b8d5_11e9_9c57_f8633f8c9cdfrow14_col14 {\n",
       "            background-color:  #b40426;\n",
       "        }    #T_a1f8c918_b8d5_11e9_9c57_f8633f8c9cdfrow14_col15 {\n",
       "            background-color:  #c0d4f5;\n",
       "        }    #T_a1f8c918_b8d5_11e9_9c57_f8633f8c9cdfrow14_col16 {\n",
       "            background-color:  #6b8df0;\n",
       "        }    #T_a1f8c918_b8d5_11e9_9c57_f8633f8c9cdfrow14_col17 {\n",
       "            background-color:  #a5c3fe;\n",
       "        }    #T_a1f8c918_b8d5_11e9_9c57_f8633f8c9cdfrow14_col18 {\n",
       "            background-color:  #81a4fb;\n",
       "        }    #T_a1f8c918_b8d5_11e9_9c57_f8633f8c9cdfrow14_col19 {\n",
       "            background-color:  #6485ec;\n",
       "        }    #T_a1f8c918_b8d5_11e9_9c57_f8633f8c9cdfrow15_col0 {\n",
       "            background-color:  #5e7de7;\n",
       "        }    #T_a1f8c918_b8d5_11e9_9c57_f8633f8c9cdfrow15_col1 {\n",
       "            background-color:  #3b4cc0;\n",
       "        }    #T_a1f8c918_b8d5_11e9_9c57_f8633f8c9cdfrow15_col2 {\n",
       "            background-color:  #3b4cc0;\n",
       "        }    #T_a1f8c918_b8d5_11e9_9c57_f8633f8c9cdfrow15_col3 {\n",
       "            background-color:  #3b4cc0;\n",
       "        }    #T_a1f8c918_b8d5_11e9_9c57_f8633f8c9cdfrow15_col4 {\n",
       "            background-color:  #3b4cc0;\n",
       "        }    #T_a1f8c918_b8d5_11e9_9c57_f8633f8c9cdfrow15_col5 {\n",
       "            background-color:  #3b4cc0;\n",
       "        }    #T_a1f8c918_b8d5_11e9_9c57_f8633f8c9cdfrow15_col6 {\n",
       "            background-color:  #7396f5;\n",
       "        }    #T_a1f8c918_b8d5_11e9_9c57_f8633f8c9cdfrow15_col7 {\n",
       "            background-color:  #4f69d9;\n",
       "        }    #T_a1f8c918_b8d5_11e9_9c57_f8633f8c9cdfrow15_col8 {\n",
       "            background-color:  #6a8bef;\n",
       "        }    #T_a1f8c918_b8d5_11e9_9c57_f8633f8c9cdfrow15_col9 {\n",
       "            background-color:  #93b5fe;\n",
       "        }    #T_a1f8c918_b8d5_11e9_9c57_f8633f8c9cdfrow15_col10 {\n",
       "            background-color:  #3b4cc0;\n",
       "        }    #T_a1f8c918_b8d5_11e9_9c57_f8633f8c9cdfrow15_col11 {\n",
       "            background-color:  #3b4cc0;\n",
       "        }    #T_a1f8c918_b8d5_11e9_9c57_f8633f8c9cdfrow15_col12 {\n",
       "            background-color:  #8fb1fe;\n",
       "        }    #T_a1f8c918_b8d5_11e9_9c57_f8633f8c9cdfrow15_col13 {\n",
       "            background-color:  #3d50c3;\n",
       "        }    #T_a1f8c918_b8d5_11e9_9c57_f8633f8c9cdfrow15_col14 {\n",
       "            background-color:  #88abfd;\n",
       "        }    #T_a1f8c918_b8d5_11e9_9c57_f8633f8c9cdfrow15_col15 {\n",
       "            background-color:  #b40426;\n",
       "        }    #T_a1f8c918_b8d5_11e9_9c57_f8633f8c9cdfrow15_col16 {\n",
       "            background-color:  #b3cdfb;\n",
       "        }    #T_a1f8c918_b8d5_11e9_9c57_f8633f8c9cdfrow15_col17 {\n",
       "            background-color:  #3b4cc0;\n",
       "        }    #T_a1f8c918_b8d5_11e9_9c57_f8633f8c9cdfrow15_col18 {\n",
       "            background-color:  #3b4cc0;\n",
       "        }    #T_a1f8c918_b8d5_11e9_9c57_f8633f8c9cdfrow15_col19 {\n",
       "            background-color:  #3b4cc0;\n",
       "        }    #T_a1f8c918_b8d5_11e9_9c57_f8633f8c9cdfrow16_col0 {\n",
       "            background-color:  #5f7fe8;\n",
       "        }    #T_a1f8c918_b8d5_11e9_9c57_f8633f8c9cdfrow16_col1 {\n",
       "            background-color:  #adc9fd;\n",
       "        }    #T_a1f8c918_b8d5_11e9_9c57_f8633f8c9cdfrow16_col2 {\n",
       "            background-color:  #6282ea;\n",
       "        }    #T_a1f8c918_b8d5_11e9_9c57_f8633f8c9cdfrow16_col3 {\n",
       "            background-color:  #7093f3;\n",
       "        }    #T_a1f8c918_b8d5_11e9_9c57_f8633f8c9cdfrow16_col4 {\n",
       "            background-color:  #7ea1fa;\n",
       "        }    #T_a1f8c918_b8d5_11e9_9c57_f8633f8c9cdfrow16_col5 {\n",
       "            background-color:  #465ecf;\n",
       "        }    #T_a1f8c918_b8d5_11e9_9c57_f8633f8c9cdfrow16_col6 {\n",
       "            background-color:  #8caffe;\n",
       "        }    #T_a1f8c918_b8d5_11e9_9c57_f8633f8c9cdfrow16_col7 {\n",
       "            background-color:  #4257c9;\n",
       "        }    #T_a1f8c918_b8d5_11e9_9c57_f8633f8c9cdfrow16_col8 {\n",
       "            background-color:  #536edd;\n",
       "        }    #T_a1f8c918_b8d5_11e9_9c57_f8633f8c9cdfrow16_col9 {\n",
       "            background-color:  #8fb1fe;\n",
       "        }    #T_a1f8c918_b8d5_11e9_9c57_f8633f8c9cdfrow16_col10 {\n",
       "            background-color:  #8db0fe;\n",
       "        }    #T_a1f8c918_b8d5_11e9_9c57_f8633f8c9cdfrow16_col11 {\n",
       "            background-color:  #7da0f9;\n",
       "        }    #T_a1f8c918_b8d5_11e9_9c57_f8633f8c9cdfrow16_col12 {\n",
       "            background-color:  #9abbff;\n",
       "        }    #T_a1f8c918_b8d5_11e9_9c57_f8633f8c9cdfrow16_col13 {\n",
       "            background-color:  #6c8ff1;\n",
       "        }    #T_a1f8c918_b8d5_11e9_9c57_f8633f8c9cdfrow16_col14 {\n",
       "            background-color:  #7ea1fa;\n",
       "        }    #T_a1f8c918_b8d5_11e9_9c57_f8633f8c9cdfrow16_col15 {\n",
       "            background-color:  #e5d8d1;\n",
       "        }    #T_a1f8c918_b8d5_11e9_9c57_f8633f8c9cdfrow16_col16 {\n",
       "            background-color:  #b40426;\n",
       "        }    #T_a1f8c918_b8d5_11e9_9c57_f8633f8c9cdfrow16_col17 {\n",
       "            background-color:  #96b7ff;\n",
       "        }    #T_a1f8c918_b8d5_11e9_9c57_f8633f8c9cdfrow16_col18 {\n",
       "            background-color:  #8fb1fe;\n",
       "        }    #T_a1f8c918_b8d5_11e9_9c57_f8633f8c9cdfrow16_col19 {\n",
       "            background-color:  #4a63d3;\n",
       "        }    #T_a1f8c918_b8d5_11e9_9c57_f8633f8c9cdfrow17_col0 {\n",
       "            background-color:  #6687ed;\n",
       "        }    #T_a1f8c918_b8d5_11e9_9c57_f8633f8c9cdfrow17_col1 {\n",
       "            background-color:  #506bda;\n",
       "        }    #T_a1f8c918_b8d5_11e9_9c57_f8633f8c9cdfrow17_col2 {\n",
       "            background-color:  #8db0fe;\n",
       "        }    #T_a1f8c918_b8d5_11e9_9c57_f8633f8c9cdfrow17_col3 {\n",
       "            background-color:  #8fb1fe;\n",
       "        }    #T_a1f8c918_b8d5_11e9_9c57_f8633f8c9cdfrow17_col4 {\n",
       "            background-color:  #b5cdfa;\n",
       "        }    #T_a1f8c918_b8d5_11e9_9c57_f8633f8c9cdfrow17_col5 {\n",
       "            background-color:  #a5c3fe;\n",
       "        }    #T_a1f8c918_b8d5_11e9_9c57_f8633f8c9cdfrow17_col6 {\n",
       "            background-color:  #93b5fe;\n",
       "        }    #T_a1f8c918_b8d5_11e9_9c57_f8633f8c9cdfrow17_col7 {\n",
       "            background-color:  #3b4cc0;\n",
       "        }    #T_a1f8c918_b8d5_11e9_9c57_f8633f8c9cdfrow17_col8 {\n",
       "            background-color:  #3b4cc0;\n",
       "        }    #T_a1f8c918_b8d5_11e9_9c57_f8633f8c9cdfrow17_col9 {\n",
       "            background-color:  #7699f6;\n",
       "        }    #T_a1f8c918_b8d5_11e9_9c57_f8633f8c9cdfrow17_col10 {\n",
       "            background-color:  #a6c4fe;\n",
       "        }    #T_a1f8c918_b8d5_11e9_9c57_f8633f8c9cdfrow17_col11 {\n",
       "            background-color:  #d7dce3;\n",
       "        }    #T_a1f8c918_b8d5_11e9_9c57_f8633f8c9cdfrow17_col12 {\n",
       "            background-color:  #536edd;\n",
       "        }    #T_a1f8c918_b8d5_11e9_9c57_f8633f8c9cdfrow17_col13 {\n",
       "            background-color:  #ecd3c5;\n",
       "        }    #T_a1f8c918_b8d5_11e9_9c57_f8633f8c9cdfrow17_col14 {\n",
       "            background-color:  #6282ea;\n",
       "        }    #T_a1f8c918_b8d5_11e9_9c57_f8633f8c9cdfrow17_col15 {\n",
       "            background-color:  #3b4cc0;\n",
       "        }    #T_a1f8c918_b8d5_11e9_9c57_f8633f8c9cdfrow17_col16 {\n",
       "            background-color:  #3d50c3;\n",
       "        }    #T_a1f8c918_b8d5_11e9_9c57_f8633f8c9cdfrow17_col17 {\n",
       "            background-color:  #b40426;\n",
       "        }    #T_a1f8c918_b8d5_11e9_9c57_f8633f8c9cdfrow17_col18 {\n",
       "            background-color:  #d7dce3;\n",
       "        }    #T_a1f8c918_b8d5_11e9_9c57_f8633f8c9cdfrow17_col19 {\n",
       "            background-color:  #afcafc;\n",
       "        }    #T_a1f8c918_b8d5_11e9_9c57_f8633f8c9cdfrow18_col0 {\n",
       "            background-color:  #5f7fe8;\n",
       "        }    #T_a1f8c918_b8d5_11e9_9c57_f8633f8c9cdfrow18_col1 {\n",
       "            background-color:  #f2c9b4;\n",
       "        }    #T_a1f8c918_b8d5_11e9_9c57_f8633f8c9cdfrow18_col2 {\n",
       "            background-color:  #d9dce1;\n",
       "        }    #T_a1f8c918_b8d5_11e9_9c57_f8633f8c9cdfrow18_col3 {\n",
       "            background-color:  #ebd3c6;\n",
       "        }    #T_a1f8c918_b8d5_11e9_9c57_f8633f8c9cdfrow18_col4 {\n",
       "            background-color:  #ee8468;\n",
       "        }    #T_a1f8c918_b8d5_11e9_9c57_f8633f8c9cdfrow18_col5 {\n",
       "            background-color:  #8badfd;\n",
       "        }    #T_a1f8c918_b8d5_11e9_9c57_f8633f8c9cdfrow18_col6 {\n",
       "            background-color:  #bed2f6;\n",
       "        }    #T_a1f8c918_b8d5_11e9_9c57_f8633f8c9cdfrow18_col7 {\n",
       "            background-color:  #6180e9;\n",
       "        }    #T_a1f8c918_b8d5_11e9_9c57_f8633f8c9cdfrow18_col8 {\n",
       "            background-color:  #aac7fd;\n",
       "        }    #T_a1f8c918_b8d5_11e9_9c57_f8633f8c9cdfrow18_col9 {\n",
       "            background-color:  #7a9df8;\n",
       "        }    #T_a1f8c918_b8d5_11e9_9c57_f8633f8c9cdfrow18_col10 {\n",
       "            background-color:  #f39577;\n",
       "        }    #T_a1f8c918_b8d5_11e9_9c57_f8633f8c9cdfrow18_col11 {\n",
       "            background-color:  #f08a6c;\n",
       "        }    #T_a1f8c918_b8d5_11e9_9c57_f8633f8c9cdfrow18_col12 {\n",
       "            background-color:  #b2ccfb;\n",
       "        }    #T_a1f8c918_b8d5_11e9_9c57_f8633f8c9cdfrow18_col13 {\n",
       "            background-color:  #dedcdb;\n",
       "        }    #T_a1f8c918_b8d5_11e9_9c57_f8633f8c9cdfrow18_col14 {\n",
       "            background-color:  #7597f6;\n",
       "        }    #T_a1f8c918_b8d5_11e9_9c57_f8633f8c9cdfrow18_col15 {\n",
       "            background-color:  #7597f6;\n",
       "        }    #T_a1f8c918_b8d5_11e9_9c57_f8633f8c9cdfrow18_col16 {\n",
       "            background-color:  #7093f3;\n",
       "        }    #T_a1f8c918_b8d5_11e9_9c57_f8633f8c9cdfrow18_col17 {\n",
       "            background-color:  #eed0c0;\n",
       "        }    #T_a1f8c918_b8d5_11e9_9c57_f8633f8c9cdfrow18_col18 {\n",
       "            background-color:  #b40426;\n",
       "        }    #T_a1f8c918_b8d5_11e9_9c57_f8633f8c9cdfrow18_col19 {\n",
       "            background-color:  #9abbff;\n",
       "        }    #T_a1f8c918_b8d5_11e9_9c57_f8633f8c9cdfrow19_col0 {\n",
       "            background-color:  #3b4cc0;\n",
       "        }    #T_a1f8c918_b8d5_11e9_9c57_f8633f8c9cdfrow19_col1 {\n",
       "            background-color:  #6282ea;\n",
       "        }    #T_a1f8c918_b8d5_11e9_9c57_f8633f8c9cdfrow19_col2 {\n",
       "            background-color:  #6e90f2;\n",
       "        }    #T_a1f8c918_b8d5_11e9_9c57_f8633f8c9cdfrow19_col3 {\n",
       "            background-color:  #7b9ff9;\n",
       "        }    #T_a1f8c918_b8d5_11e9_9c57_f8633f8c9cdfrow19_col4 {\n",
       "            background-color:  #a5c3fe;\n",
       "        }    #T_a1f8c918_b8d5_11e9_9c57_f8633f8c9cdfrow19_col5 {\n",
       "            background-color:  #f4987a;\n",
       "        }    #T_a1f8c918_b8d5_11e9_9c57_f8633f8c9cdfrow19_col6 {\n",
       "            background-color:  #779af7;\n",
       "        }    #T_a1f8c918_b8d5_11e9_9c57_f8633f8c9cdfrow19_col7 {\n",
       "            background-color:  #4f69d9;\n",
       "        }    #T_a1f8c918_b8d5_11e9_9c57_f8633f8c9cdfrow19_col8 {\n",
       "            background-color:  #6687ed;\n",
       "        }    #T_a1f8c918_b8d5_11e9_9c57_f8633f8c9cdfrow19_col9 {\n",
       "            background-color:  #92b4fe;\n",
       "        }    #T_a1f8c918_b8d5_11e9_9c57_f8633f8c9cdfrow19_col10 {\n",
       "            background-color:  #8fb1fe;\n",
       "        }    #T_a1f8c918_b8d5_11e9_9c57_f8633f8c9cdfrow19_col11 {\n",
       "            background-color:  #b3cdfb;\n",
       "        }    #T_a1f8c918_b8d5_11e9_9c57_f8633f8c9cdfrow19_col12 {\n",
       "            background-color:  #80a3fa;\n",
       "        }    #T_a1f8c918_b8d5_11e9_9c57_f8633f8c9cdfrow19_col13 {\n",
       "            background-color:  #a5c3fe;\n",
       "        }    #T_a1f8c918_b8d5_11e9_9c57_f8633f8c9cdfrow19_col14 {\n",
       "            background-color:  #779af7;\n",
       "        }    #T_a1f8c918_b8d5_11e9_9c57_f8633f8c9cdfrow19_col15 {\n",
       "            background-color:  #93b5fe;\n",
       "        }    #T_a1f8c918_b8d5_11e9_9c57_f8633f8c9cdfrow19_col16 {\n",
       "            background-color:  #4a63d3;\n",
       "        }    #T_a1f8c918_b8d5_11e9_9c57_f8633f8c9cdfrow19_col17 {\n",
       "            background-color:  #e2dad5;\n",
       "        }    #T_a1f8c918_b8d5_11e9_9c57_f8633f8c9cdfrow19_col18 {\n",
       "            background-color:  #b3cdfb;\n",
       "        }    #T_a1f8c918_b8d5_11e9_9c57_f8633f8c9cdfrow19_col19 {\n",
       "            background-color:  #b40426;\n",
       "        }</style>  \n",
       "<table id=\"T_a1f8c918_b8d5_11e9_9c57_f8633f8c9cdf\" > \n",
       "<thead>    <tr> \n",
       "        <th class=\"blank level0\" ></th> \n",
       "        <th class=\"col_heading level0 col0\" >id</th> \n",
       "        <th class=\"col_heading level0 col1\" >price</th> \n",
       "        <th class=\"col_heading level0 col2\" >bedrooms</th> \n",
       "        <th class=\"col_heading level0 col3\" >bathrooms</th> \n",
       "        <th class=\"col_heading level0 col4\" >sqft_living</th> \n",
       "        <th class=\"col_heading level0 col5\" >sqft_lot</th> \n",
       "        <th class=\"col_heading level0 col6\" >floors</th> \n",
       "        <th class=\"col_heading level0 col7\" >waterfront</th> \n",
       "        <th class=\"col_heading level0 col8\" >view</th> \n",
       "        <th class=\"col_heading level0 col9\" >condition</th> \n",
       "        <th class=\"col_heading level0 col10\" >grade</th> \n",
       "        <th class=\"col_heading level0 col11\" >sqft_above</th> \n",
       "        <th class=\"col_heading level0 col12\" >sqft_basement</th> \n",
       "        <th class=\"col_heading level0 col13\" >yr_built</th> \n",
       "        <th class=\"col_heading level0 col14\" >yr_renovated</th> \n",
       "        <th class=\"col_heading level0 col15\" >zipcode</th> \n",
       "        <th class=\"col_heading level0 col16\" >lat</th> \n",
       "        <th class=\"col_heading level0 col17\" >long</th> \n",
       "        <th class=\"col_heading level0 col18\" >sqft_living15</th> \n",
       "        <th class=\"col_heading level0 col19\" >sqft_lot15</th> \n",
       "    </tr></thead> \n",
       "<tbody>    <tr> \n",
       "        <th id=\"T_a1f8c918_b8d5_11e9_9c57_f8633f8c9cdflevel0_row0\" class=\"row_heading level0 row0\" >id</th> \n",
       "        <td id=\"T_a1f8c918_b8d5_11e9_9c57_f8633f8c9cdfrow0_col0\" class=\"data row0 col0\" >1</td> \n",
       "        <td id=\"T_a1f8c918_b8d5_11e9_9c57_f8633f8c9cdfrow0_col1\" class=\"data row0 col1\" >-0.0166802</td> \n",
       "        <td id=\"T_a1f8c918_b8d5_11e9_9c57_f8633f8c9cdfrow0_col2\" class=\"data row0 col2\" >0.00270682</td> \n",
       "        <td id=\"T_a1f8c918_b8d5_11e9_9c57_f8633f8c9cdfrow0_col3\" class=\"data row0 col3\" >-0.00566703</td> \n",
       "        <td id=\"T_a1f8c918_b8d5_11e9_9c57_f8633f8c9cdfrow0_col4\" class=\"data row0 col4\" >-0.01215</td> \n",
       "        <td id=\"T_a1f8c918_b8d5_11e9_9c57_f8633f8c9cdfrow0_col5\" class=\"data row0 col5\" >-0.132132</td> \n",
       "        <td id=\"T_a1f8c918_b8d5_11e9_9c57_f8633f8c9cdfrow0_col6\" class=\"data row0 col6\" >0.0169303</td> \n",
       "        <td id=\"T_a1f8c918_b8d5_11e9_9c57_f8633f8c9cdfrow0_col7\" class=\"data row0 col7\" >-0.00272667</td> \n",
       "        <td id=\"T_a1f8c918_b8d5_11e9_9c57_f8633f8c9cdfrow0_col8\" class=\"data row0 col8\" >0.0117431</td> \n",
       "        <td id=\"T_a1f8c918_b8d5_11e9_9c57_f8633f8c9cdfrow0_col9\" class=\"data row0 col9\" >-0.0238493</td> \n",
       "        <td id=\"T_a1f8c918_b8d5_11e9_9c57_f8633f8c9cdfrow0_col10\" class=\"data row0 col10\" >0.00820676</td> \n",
       "        <td id=\"T_a1f8c918_b8d5_11e9_9c57_f8633f8c9cdfrow0_col11\" class=\"data row0 col11\" >-0.0108176</td> \n",
       "        <td id=\"T_a1f8c918_b8d5_11e9_9c57_f8633f8c9cdfrow0_col12\" class=\"data row0 col12\" >-0.00497072</td> \n",
       "        <td id=\"T_a1f8c918_b8d5_11e9_9c57_f8633f8c9cdfrow0_col13\" class=\"data row0 col13\" >0.0214991</td> \n",
       "        <td id=\"T_a1f8c918_b8d5_11e9_9c57_f8633f8c9cdfrow0_col14\" class=\"data row0 col14\" >-0.0167059</td> \n",
       "        <td id=\"T_a1f8c918_b8d5_11e9_9c57_f8633f8c9cdfrow0_col15\" class=\"data row0 col15\" >-0.00828716</td> \n",
       "        <td id=\"T_a1f8c918_b8d5_11e9_9c57_f8633f8c9cdfrow0_col16\" class=\"data row0 col16\" >-0.00190033</td> \n",
       "        <td id=\"T_a1f8c918_b8d5_11e9_9c57_f8633f8c9cdfrow0_col17\" class=\"data row0 col17\" >0.0208183</td> \n",
       "        <td id=\"T_a1f8c918_b8d5_11e9_9c57_f8633f8c9cdfrow0_col18\" class=\"data row0 col18\" >-0.00288719</td> \n",
       "        <td id=\"T_a1f8c918_b8d5_11e9_9c57_f8633f8c9cdfrow0_col19\" class=\"data row0 col19\" >-0.138823</td> \n",
       "    </tr>    <tr> \n",
       "        <th id=\"T_a1f8c918_b8d5_11e9_9c57_f8633f8c9cdflevel0_row1\" class=\"row_heading level0 row1\" >price</th> \n",
       "        <td id=\"T_a1f8c918_b8d5_11e9_9c57_f8633f8c9cdfrow1_col0\" class=\"data row1 col0\" >-0.0166802</td> \n",
       "        <td id=\"T_a1f8c918_b8d5_11e9_9c57_f8633f8c9cdfrow1_col1\" class=\"data row1 col1\" >1</td> \n",
       "        <td id=\"T_a1f8c918_b8d5_11e9_9c57_f8633f8c9cdfrow1_col2\" class=\"data row1 col2\" >0.316409</td> \n",
       "        <td id=\"T_a1f8c918_b8d5_11e9_9c57_f8633f8c9cdfrow1_col3\" class=\"data row1 col3\" >0.518856</td> \n",
       "        <td id=\"T_a1f8c918_b8d5_11e9_9c57_f8633f8c9cdfrow1_col4\" class=\"data row1 col4\" >0.702047</td> \n",
       "        <td id=\"T_a1f8c918_b8d5_11e9_9c57_f8633f8c9cdfrow1_col5\" class=\"data row1 col5\" >0.0896826</td> \n",
       "        <td id=\"T_a1f8c918_b8d5_11e9_9c57_f8633f8c9cdfrow1_col6\" class=\"data row1 col6\" >0.24501</td> \n",
       "        <td id=\"T_a1f8c918_b8d5_11e9_9c57_f8633f8c9cdfrow1_col7\" class=\"data row1 col7\" >0.266398</td> \n",
       "        <td id=\"T_a1f8c918_b8d5_11e9_9c57_f8633f8c9cdfrow1_col8\" class=\"data row1 col8\" >0.397209</td> \n",
       "        <td id=\"T_a1f8c918_b8d5_11e9_9c57_f8633f8c9cdfrow1_col9\" class=\"data row1 col9\" >0.0363609</td> \n",
       "        <td id=\"T_a1f8c918_b8d5_11e9_9c57_f8633f8c9cdfrow1_col10\" class=\"data row1 col10\" >0.667455</td> \n",
       "        <td id=\"T_a1f8c918_b8d5_11e9_9c57_f8633f8c9cdfrow1_col11\" class=\"data row1 col11\" >0.605595</td> \n",
       "        <td id=\"T_a1f8c918_b8d5_11e9_9c57_f8633f8c9cdfrow1_col12\" class=\"data row1 col12\" >0.323642</td> \n",
       "        <td id=\"T_a1f8c918_b8d5_11e9_9c57_f8633f8c9cdfrow1_col13\" class=\"data row1 col13\" >0.0539725</td> \n",
       "        <td id=\"T_a1f8c918_b8d5_11e9_9c57_f8633f8c9cdfrow1_col14\" class=\"data row1 col14\" >0.126547</td> \n",
       "        <td id=\"T_a1f8c918_b8d5_11e9_9c57_f8633f8c9cdfrow1_col15\" class=\"data row1 col15\" >-0.0530997</td> \n",
       "        <td id=\"T_a1f8c918_b8d5_11e9_9c57_f8633f8c9cdfrow1_col16\" class=\"data row1 col16\" >0.306997</td> \n",
       "        <td id=\"T_a1f8c918_b8d5_11e9_9c57_f8633f8c9cdfrow1_col17\" class=\"data row1 col17\" >0.0215897</td> \n",
       "        <td id=\"T_a1f8c918_b8d5_11e9_9c57_f8633f8c9cdfrow1_col18\" class=\"data row1 col18\" >0.585388</td> \n",
       "        <td id=\"T_a1f8c918_b8d5_11e9_9c57_f8633f8c9cdfrow1_col19\" class=\"data row1 col19\" >0.0824685</td> \n",
       "    </tr>    <tr> \n",
       "        <th id=\"T_a1f8c918_b8d5_11e9_9c57_f8633f8c9cdflevel0_row2\" class=\"row_heading level0 row2\" >bedrooms</th> \n",
       "        <td id=\"T_a1f8c918_b8d5_11e9_9c57_f8633f8c9cdfrow2_col0\" class=\"data row2 col0\" >0.00270682</td> \n",
       "        <td id=\"T_a1f8c918_b8d5_11e9_9c57_f8633f8c9cdfrow2_col1\" class=\"data row2 col1\" >0.316409</td> \n",
       "        <td id=\"T_a1f8c918_b8d5_11e9_9c57_f8633f8c9cdfrow2_col2\" class=\"data row2 col2\" >1</td> \n",
       "        <td id=\"T_a1f8c918_b8d5_11e9_9c57_f8633f8c9cdfrow2_col3\" class=\"data row2 col3\" >0.502348</td> \n",
       "        <td id=\"T_a1f8c918_b8d5_11e9_9c57_f8633f8c9cdfrow2_col4\" class=\"data row2 col4\" >0.592618</td> \n",
       "        <td id=\"T_a1f8c918_b8d5_11e9_9c57_f8633f8c9cdfrow2_col5\" class=\"data row2 col5\" >0.0332331</td> \n",
       "        <td id=\"T_a1f8c918_b8d5_11e9_9c57_f8633f8c9cdfrow2_col6\" class=\"data row2 col6\" >0.183996</td> \n",
       "        <td id=\"T_a1f8c918_b8d5_11e9_9c57_f8633f8c9cdfrow2_col7\" class=\"data row2 col7\" >-0.0065237</td> \n",
       "        <td id=\"T_a1f8c918_b8d5_11e9_9c57_f8633f8c9cdfrow2_col8\" class=\"data row2 col8\" >0.0819254</td> \n",
       "        <td id=\"T_a1f8c918_b8d5_11e9_9c57_f8633f8c9cdfrow2_col9\" class=\"data row2 col9\" >0.0254593</td> \n",
       "        <td id=\"T_a1f8c918_b8d5_11e9_9c57_f8633f8c9cdfrow2_col10\" class=\"data row2 col10\" >0.368703</td> \n",
       "        <td id=\"T_a1f8c918_b8d5_11e9_9c57_f8633f8c9cdfrow2_col11\" class=\"data row2 col11\" >0.492167</td> \n",
       "        <td id=\"T_a1f8c918_b8d5_11e9_9c57_f8633f8c9cdfrow2_col12\" class=\"data row2 col12\" >0.308821</td> \n",
       "        <td id=\"T_a1f8c918_b8d5_11e9_9c57_f8633f8c9cdfrow2_col13\" class=\"data row2 col13\" >0.161156</td> \n",
       "        <td id=\"T_a1f8c918_b8d5_11e9_9c57_f8633f8c9cdfrow2_col14\" class=\"data row2 col14\" >0.0180823</td> \n",
       "        <td id=\"T_a1f8c918_b8d5_11e9_9c57_f8633f8c9cdfrow2_col15\" class=\"data row2 col15\" >-0.157404</td> \n",
       "        <td id=\"T_a1f8c918_b8d5_11e9_9c57_f8633f8c9cdfrow2_col16\" class=\"data row2 col16\" >-0.0109294</td> \n",
       "        <td id=\"T_a1f8c918_b8d5_11e9_9c57_f8633f8c9cdfrow2_col17\" class=\"data row2 col17\" >0.134942</td> \n",
       "        <td id=\"T_a1f8c918_b8d5_11e9_9c57_f8633f8c9cdfrow2_col18\" class=\"data row2 col18\" >0.404825</td> \n",
       "        <td id=\"T_a1f8c918_b8d5_11e9_9c57_f8633f8c9cdfrow2_col19\" class=\"data row2 col19\" >0.0308303</td> \n",
       "    </tr>    <tr> \n",
       "        <th id=\"T_a1f8c918_b8d5_11e9_9c57_f8633f8c9cdflevel0_row3\" class=\"row_heading level0 row3\" >bathrooms</th> \n",
       "        <td id=\"T_a1f8c918_b8d5_11e9_9c57_f8633f8c9cdfrow3_col0\" class=\"data row3 col0\" >-0.00566703</td> \n",
       "        <td id=\"T_a1f8c918_b8d5_11e9_9c57_f8633f8c9cdfrow3_col1\" class=\"data row3 col1\" >0.518856</td> \n",
       "        <td id=\"T_a1f8c918_b8d5_11e9_9c57_f8633f8c9cdfrow3_col2\" class=\"data row3 col2\" >0.502348</td> \n",
       "        <td id=\"T_a1f8c918_b8d5_11e9_9c57_f8633f8c9cdfrow3_col3\" class=\"data row3 col3\" >1</td> \n",
       "        <td id=\"T_a1f8c918_b8d5_11e9_9c57_f8633f8c9cdfrow3_col4\" class=\"data row3 col4\" >0.701682</td> \n",
       "        <td id=\"T_a1f8c918_b8d5_11e9_9c57_f8633f8c9cdfrow3_col5\" class=\"data row3 col5\" >0.0900735</td> \n",
       "        <td id=\"T_a1f8c918_b8d5_11e9_9c57_f8633f8c9cdfrow3_col6\" class=\"data row3 col6\" >0.326711</td> \n",
       "        <td id=\"T_a1f8c918_b8d5_11e9_9c57_f8633f8c9cdfrow3_col7\" class=\"data row3 col7\" >0.0654811</td> \n",
       "        <td id=\"T_a1f8c918_b8d5_11e9_9c57_f8633f8c9cdfrow3_col8\" class=\"data row3 col8\" >0.202377</td> \n",
       "        <td id=\"T_a1f8c918_b8d5_11e9_9c57_f8633f8c9cdfrow3_col9\" class=\"data row3 col9\" >-0.0666167</td> \n",
       "        <td id=\"T_a1f8c918_b8d5_11e9_9c57_f8633f8c9cdfrow3_col10\" class=\"data row3 col10\" >0.591408</td> \n",
       "        <td id=\"T_a1f8c918_b8d5_11e9_9c57_f8633f8c9cdfrow3_col11\" class=\"data row3 col11\" >0.599473</td> \n",
       "        <td id=\"T_a1f8c918_b8d5_11e9_9c57_f8633f8c9cdfrow3_col12\" class=\"data row3 col12\" >0.334345</td> \n",
       "        <td id=\"T_a1f8c918_b8d5_11e9_9c57_f8633f8c9cdfrow3_col13\" class=\"data row3 col13\" >0.377663</td> \n",
       "        <td id=\"T_a1f8c918_b8d5_11e9_9c57_f8633f8c9cdfrow3_col14\" class=\"data row3 col14\" >0.0691615</td> \n",
       "        <td id=\"T_a1f8c918_b8d5_11e9_9c57_f8633f8c9cdfrow3_col15\" class=\"data row3 col15\" >-0.143977</td> \n",
       "        <td id=\"T_a1f8c918_b8d5_11e9_9c57_f8633f8c9cdfrow3_col16\" class=\"data row3 col16\" >0.049186</td> \n",
       "        <td id=\"T_a1f8c918_b8d5_11e9_9c57_f8633f8c9cdfrow3_col17\" class=\"data row3 col17\" >0.149203</td> \n",
       "        <td id=\"T_a1f8c918_b8d5_11e9_9c57_f8633f8c9cdfrow3_col18\" class=\"data row3 col18\" >0.497591</td> \n",
       "        <td id=\"T_a1f8c918_b8d5_11e9_9c57_f8633f8c9cdfrow3_col19\" class=\"data row3 col19\" >0.0870392</td> \n",
       "    </tr>    <tr> \n",
       "        <th id=\"T_a1f8c918_b8d5_11e9_9c57_f8633f8c9cdflevel0_row4\" class=\"row_heading level0 row4\" >sqft_living</th> \n",
       "        <td id=\"T_a1f8c918_b8d5_11e9_9c57_f8633f8c9cdfrow4_col0\" class=\"data row4 col0\" >-0.01215</td> \n",
       "        <td id=\"T_a1f8c918_b8d5_11e9_9c57_f8633f8c9cdfrow4_col1\" class=\"data row4 col1\" >0.702047</td> \n",
       "        <td id=\"T_a1f8c918_b8d5_11e9_9c57_f8633f8c9cdfrow4_col2\" class=\"data row4 col2\" >0.592618</td> \n",
       "        <td id=\"T_a1f8c918_b8d5_11e9_9c57_f8633f8c9cdfrow4_col3\" class=\"data row4 col3\" >0.701682</td> \n",
       "        <td id=\"T_a1f8c918_b8d5_11e9_9c57_f8633f8c9cdfrow4_col4\" class=\"data row4 col4\" >1</td> \n",
       "        <td id=\"T_a1f8c918_b8d5_11e9_9c57_f8633f8c9cdfrow4_col5\" class=\"data row4 col5\" >0.172912</td> \n",
       "        <td id=\"T_a1f8c918_b8d5_11e9_9c57_f8633f8c9cdfrow4_col6\" class=\"data row4 col6\" >0.322069</td> \n",
       "        <td id=\"T_a1f8c918_b8d5_11e9_9c57_f8633f8c9cdfrow4_col7\" class=\"data row4 col7\" >0.103871</td> \n",
       "        <td id=\"T_a1f8c918_b8d5_11e9_9c57_f8633f8c9cdfrow4_col8\" class=\"data row4 col8\" >0.284482</td> \n",
       "        <td id=\"T_a1f8c918_b8d5_11e9_9c57_f8633f8c9cdfrow4_col9\" class=\"data row4 col9\" >-0.0587238</td> \n",
       "        <td id=\"T_a1f8c918_b8d5_11e9_9c57_f8633f8c9cdfrow4_col10\" class=\"data row4 col10\" >0.762903</td> \n",
       "        <td id=\"T_a1f8c918_b8d5_11e9_9c57_f8633f8c9cdfrow4_col11\" class=\"data row4 col11\" >0.876652</td> \n",
       "        <td id=\"T_a1f8c918_b8d5_11e9_9c57_f8633f8c9cdfrow4_col12\" class=\"data row4 col12\" >0.434719</td> \n",
       "        <td id=\"T_a1f8c918_b8d5_11e9_9c57_f8633f8c9cdfrow4_col13\" class=\"data row4 col13\" >0.318234</td> \n",
       "        <td id=\"T_a1f8c918_b8d5_11e9_9c57_f8633f8c9cdfrow4_col14\" class=\"data row4 col14\" >0.0552338</td> \n",
       "        <td id=\"T_a1f8c918_b8d5_11e9_9c57_f8633f8c9cdfrow4_col15\" class=\"data row4 col15\" >-0.199264</td> \n",
       "        <td id=\"T_a1f8c918_b8d5_11e9_9c57_f8633f8c9cdfrow4_col16\" class=\"data row4 col16\" >0.0525077</td> \n",
       "        <td id=\"T_a1f8c918_b8d5_11e9_9c57_f8633f8c9cdfrow4_col17\" class=\"data row4 col17\" >0.240258</td> \n",
       "        <td id=\"T_a1f8c918_b8d5_11e9_9c57_f8633f8c9cdfrow4_col18\" class=\"data row4 col18\" >0.75657</td> \n",
       "        <td id=\"T_a1f8c918_b8d5_11e9_9c57_f8633f8c9cdfrow4_col19\" class=\"data row4 col19\" >0.183373</td> \n",
       "    </tr>    <tr> \n",
       "        <th id=\"T_a1f8c918_b8d5_11e9_9c57_f8633f8c9cdflevel0_row5\" class=\"row_heading level0 row5\" >sqft_lot</th> \n",
       "        <td id=\"T_a1f8c918_b8d5_11e9_9c57_f8633f8c9cdfrow5_col0\" class=\"data row5 col0\" >-0.132132</td> \n",
       "        <td id=\"T_a1f8c918_b8d5_11e9_9c57_f8633f8c9cdfrow5_col1\" class=\"data row5 col1\" >0.0896826</td> \n",
       "        <td id=\"T_a1f8c918_b8d5_11e9_9c57_f8633f8c9cdfrow5_col2\" class=\"data row5 col2\" >0.0332331</td> \n",
       "        <td id=\"T_a1f8c918_b8d5_11e9_9c57_f8633f8c9cdfrow5_col3\" class=\"data row5 col3\" >0.0900735</td> \n",
       "        <td id=\"T_a1f8c918_b8d5_11e9_9c57_f8633f8c9cdfrow5_col4\" class=\"data row5 col4\" >0.172912</td> \n",
       "        <td id=\"T_a1f8c918_b8d5_11e9_9c57_f8633f8c9cdfrow5_col5\" class=\"data row5 col5\" >1</td> \n",
       "        <td id=\"T_a1f8c918_b8d5_11e9_9c57_f8633f8c9cdfrow5_col6\" class=\"data row5 col6\" >-0.0019384</td> \n",
       "        <td id=\"T_a1f8c918_b8d5_11e9_9c57_f8633f8c9cdfrow5_col7\" class=\"data row5 col7\" >0.0216001</td> \n",
       "        <td id=\"T_a1f8c918_b8d5_11e9_9c57_f8633f8c9cdfrow5_col8\" class=\"data row5 col8\" >0.0747195</td> \n",
       "        <td id=\"T_a1f8c918_b8d5_11e9_9c57_f8633f8c9cdfrow5_col9\" class=\"data row5 col9\" >-0.00893048</td> \n",
       "        <td id=\"T_a1f8c918_b8d5_11e9_9c57_f8633f8c9cdfrow5_col10\" class=\"data row5 col10\" >0.113613</td> \n",
       "        <td id=\"T_a1f8c918_b8d5_11e9_9c57_f8633f8c9cdfrow5_col11\" class=\"data row5 col11\" >0.183541</td> \n",
       "        <td id=\"T_a1f8c918_b8d5_11e9_9c57_f8633f8c9cdfrow5_col12\" class=\"data row5 col12\" >0.0153518</td> \n",
       "        <td id=\"T_a1f8c918_b8d5_11e9_9c57_f8633f8c9cdfrow5_col13\" class=\"data row5 col13\" >0.0530429</td> \n",
       "        <td id=\"T_a1f8c918_b8d5_11e9_9c57_f8633f8c9cdfrow5_col14\" class=\"data row5 col14\" >0.00769512</td> \n",
       "        <td id=\"T_a1f8c918_b8d5_11e9_9c57_f8633f8c9cdfrow5_col15\" class=\"data row5 col15\" >-0.129583</td> \n",
       "        <td id=\"T_a1f8c918_b8d5_11e9_9c57_f8633f8c9cdfrow5_col16\" class=\"data row5 col16\" >-0.0856664</td> \n",
       "        <td id=\"T_a1f8c918_b8d5_11e9_9c57_f8633f8c9cdfrow5_col17\" class=\"data row5 col17\" >0.229512</td> \n",
       "        <td id=\"T_a1f8c918_b8d5_11e9_9c57_f8633f8c9cdfrow5_col18\" class=\"data row5 col18\" >0.144601</td> \n",
       "        <td id=\"T_a1f8c918_b8d5_11e9_9c57_f8633f8c9cdfrow5_col19\" class=\"data row5 col19\" >0.718554</td> \n",
       "    </tr>    <tr> \n",
       "        <th id=\"T_a1f8c918_b8d5_11e9_9c57_f8633f8c9cdflevel0_row6\" class=\"row_heading level0 row6\" >floors</th> \n",
       "        <td id=\"T_a1f8c918_b8d5_11e9_9c57_f8633f8c9cdfrow6_col0\" class=\"data row6 col0\" >0.0169303</td> \n",
       "        <td id=\"T_a1f8c918_b8d5_11e9_9c57_f8633f8c9cdfrow6_col1\" class=\"data row6 col1\" >0.24501</td> \n",
       "        <td id=\"T_a1f8c918_b8d5_11e9_9c57_f8633f8c9cdfrow6_col2\" class=\"data row6 col2\" >0.183996</td> \n",
       "        <td id=\"T_a1f8c918_b8d5_11e9_9c57_f8633f8c9cdfrow6_col3\" class=\"data row6 col3\" >0.326711</td> \n",
       "        <td id=\"T_a1f8c918_b8d5_11e9_9c57_f8633f8c9cdfrow6_col4\" class=\"data row6 col4\" >0.322069</td> \n",
       "        <td id=\"T_a1f8c918_b8d5_11e9_9c57_f8633f8c9cdfrow6_col5\" class=\"data row6 col5\" >-0.0019384</td> \n",
       "        <td id=\"T_a1f8c918_b8d5_11e9_9c57_f8633f8c9cdfrow6_col6\" class=\"data row6 col6\" >1</td> \n",
       "        <td id=\"T_a1f8c918_b8d5_11e9_9c57_f8633f8c9cdfrow6_col7\" class=\"data row6 col7\" >0.0258442</td> \n",
       "        <td id=\"T_a1f8c918_b8d5_11e9_9c57_f8633f8c9cdfrow6_col8\" class=\"data row6 col8\" >0.0281022</td> \n",
       "        <td id=\"T_a1f8c918_b8d5_11e9_9c57_f8633f8c9cdfrow6_col9\" class=\"data row6 col9\" >-0.223288</td> \n",
       "        <td id=\"T_a1f8c918_b8d5_11e9_9c57_f8633f8c9cdfrow6_col10\" class=\"data row6 col10\" >0.407828</td> \n",
       "        <td id=\"T_a1f8c918_b8d5_11e9_9c57_f8633f8c9cdfrow6_col11\" class=\"data row6 col11\" >0.488413</td> \n",
       "        <td id=\"T_a1f8c918_b8d5_11e9_9c57_f8633f8c9cdfrow6_col12\" class=\"data row6 col12\" >-0.245712</td> \n",
       "        <td id=\"T_a1f8c918_b8d5_11e9_9c57_f8633f8c9cdfrow6_col13\" class=\"data row6 col13\" >0.3817</td> \n",
       "        <td id=\"T_a1f8c918_b8d5_11e9_9c57_f8633f8c9cdfrow6_col14\" class=\"data row6 col14\" >0.0152461</td> \n",
       "        <td id=\"T_a1f8c918_b8d5_11e9_9c57_f8633f8c9cdfrow6_col15\" class=\"data row6 col15\" >-0.0225389</td> \n",
       "        <td id=\"T_a1f8c918_b8d5_11e9_9c57_f8633f8c9cdfrow6_col16\" class=\"data row6 col16\" >0.0646294</td> \n",
       "        <td id=\"T_a1f8c918_b8d5_11e9_9c57_f8633f8c9cdfrow6_col17\" class=\"data row6 col17\" >0.0889132</td> \n",
       "        <td id=\"T_a1f8c918_b8d5_11e9_9c57_f8633f8c9cdfrow6_col18\" class=\"data row6 col18\" >0.242813</td> \n",
       "        <td id=\"T_a1f8c918_b8d5_11e9_9c57_f8633f8c9cdfrow6_col19\" class=\"data row6 col19\" >-0.0108879</td> \n",
       "    </tr>    <tr> \n",
       "        <th id=\"T_a1f8c918_b8d5_11e9_9c57_f8633f8c9cdflevel0_row7\" class=\"row_heading level0 row7\" >waterfront</th> \n",
       "        <td id=\"T_a1f8c918_b8d5_11e9_9c57_f8633f8c9cdfrow7_col0\" class=\"data row7 col0\" >-0.00272667</td> \n",
       "        <td id=\"T_a1f8c918_b8d5_11e9_9c57_f8633f8c9cdfrow7_col1\" class=\"data row7 col1\" >0.266398</td> \n",
       "        <td id=\"T_a1f8c918_b8d5_11e9_9c57_f8633f8c9cdfrow7_col2\" class=\"data row7 col2\" >-0.0065237</td> \n",
       "        <td id=\"T_a1f8c918_b8d5_11e9_9c57_f8633f8c9cdfrow7_col3\" class=\"data row7 col3\" >0.0654811</td> \n",
       "        <td id=\"T_a1f8c918_b8d5_11e9_9c57_f8633f8c9cdfrow7_col4\" class=\"data row7 col4\" >0.103871</td> \n",
       "        <td id=\"T_a1f8c918_b8d5_11e9_9c57_f8633f8c9cdfrow7_col5\" class=\"data row7 col5\" >0.0216001</td> \n",
       "        <td id=\"T_a1f8c918_b8d5_11e9_9c57_f8633f8c9cdfrow7_col6\" class=\"data row7 col6\" >0.0258442</td> \n",
       "        <td id=\"T_a1f8c918_b8d5_11e9_9c57_f8633f8c9cdfrow7_col7\" class=\"data row7 col7\" >1</td> \n",
       "        <td id=\"T_a1f8c918_b8d5_11e9_9c57_f8633f8c9cdfrow7_col8\" class=\"data row7 col8\" >0.401915</td> \n",
       "        <td id=\"T_a1f8c918_b8d5_11e9_9c57_f8633f8c9cdfrow7_col9\" class=\"data row7 col9\" >0.0166685</td> \n",
       "        <td id=\"T_a1f8c918_b8d5_11e9_9c57_f8633f8c9cdfrow7_col10\" class=\"data row7 col10\" >0.0827755</td> \n",
       "        <td id=\"T_a1f8c918_b8d5_11e9_9c57_f8633f8c9cdfrow7_col11\" class=\"data row7 col11\" >0.0720909</td> \n",
       "        <td id=\"T_a1f8c918_b8d5_11e9_9c57_f8633f8c9cdfrow7_col12\" class=\"data row7 col12\" >0.0806587</td> \n",
       "        <td id=\"T_a1f8c918_b8d5_11e9_9c57_f8633f8c9cdfrow7_col13\" class=\"data row7 col13\" >-0.0261822</td> \n",
       "        <td id=\"T_a1f8c918_b8d5_11e9_9c57_f8633f8c9cdfrow7_col14\" class=\"data row7 col14\" >0.09295</td> \n",
       "        <td id=\"T_a1f8c918_b8d5_11e9_9c57_f8633f8c9cdfrow7_col15\" class=\"data row7 col15\" >0.0302829</td> \n",
       "        <td id=\"T_a1f8c918_b8d5_11e9_9c57_f8633f8c9cdfrow7_col16\" class=\"data row7 col16\" >-0.0142666</td> \n",
       "        <td id=\"T_a1f8c918_b8d5_11e9_9c57_f8633f8c9cdfrow7_col17\" class=\"data row7 col17\" >-0.0419198</td> \n",
       "        <td id=\"T_a1f8c918_b8d5_11e9_9c57_f8633f8c9cdfrow7_col18\" class=\"data row7 col18\" >0.0864654</td> \n",
       "        <td id=\"T_a1f8c918_b8d5_11e9_9c57_f8633f8c9cdfrow7_col19\" class=\"data row7 col19\" >0.0306994</td> \n",
       "    </tr>    <tr> \n",
       "        <th id=\"T_a1f8c918_b8d5_11e9_9c57_f8633f8c9cdflevel0_row8\" class=\"row_heading level0 row8\" >view</th> \n",
       "        <td id=\"T_a1f8c918_b8d5_11e9_9c57_f8633f8c9cdfrow8_col0\" class=\"data row8 col0\" >0.0117431</td> \n",
       "        <td id=\"T_a1f8c918_b8d5_11e9_9c57_f8633f8c9cdfrow8_col1\" class=\"data row8 col1\" >0.397209</td> \n",
       "        <td id=\"T_a1f8c918_b8d5_11e9_9c57_f8633f8c9cdfrow8_col2\" class=\"data row8 col2\" >0.0819254</td> \n",
       "        <td id=\"T_a1f8c918_b8d5_11e9_9c57_f8633f8c9cdfrow8_col3\" class=\"data row8 col3\" >0.202377</td> \n",
       "        <td id=\"T_a1f8c918_b8d5_11e9_9c57_f8633f8c9cdfrow8_col4\" class=\"data row8 col4\" >0.284482</td> \n",
       "        <td id=\"T_a1f8c918_b8d5_11e9_9c57_f8633f8c9cdfrow8_col5\" class=\"data row8 col5\" >0.0747195</td> \n",
       "        <td id=\"T_a1f8c918_b8d5_11e9_9c57_f8633f8c9cdfrow8_col6\" class=\"data row8 col6\" >0.0281022</td> \n",
       "        <td id=\"T_a1f8c918_b8d5_11e9_9c57_f8633f8c9cdfrow8_col7\" class=\"data row8 col7\" >0.401915</td> \n",
       "        <td id=\"T_a1f8c918_b8d5_11e9_9c57_f8633f8c9cdfrow8_col8\" class=\"data row8 col8\" >1</td> \n",
       "        <td id=\"T_a1f8c918_b8d5_11e9_9c57_f8633f8c9cdfrow8_col9\" class=\"data row8 col9\" >0.0461232</td> \n",
       "        <td id=\"T_a1f8c918_b8d5_11e9_9c57_f8633f8c9cdfrow8_col10\" class=\"data row8 col10\" >0.251215</td> \n",
       "        <td id=\"T_a1f8c918_b8d5_11e9_9c57_f8633f8c9cdfrow8_col11\" class=\"data row8 col11\" >0.167616</td> \n",
       "        <td id=\"T_a1f8c918_b8d5_11e9_9c57_f8633f8c9cdfrow8_col12\" class=\"data row8 col12\" >0.276737</td> \n",
       "        <td id=\"T_a1f8c918_b8d5_11e9_9c57_f8633f8c9cdfrow8_col13\" class=\"data row8 col13\" >-0.0536644</td> \n",
       "        <td id=\"T_a1f8c918_b8d5_11e9_9c57_f8633f8c9cdfrow8_col14\" class=\"data row8 col14\" >0.104067</td> \n",
       "        <td id=\"T_a1f8c918_b8d5_11e9_9c57_f8633f8c9cdfrow8_col15\" class=\"data row8 col15\" >0.0849964</td> \n",
       "        <td id=\"T_a1f8c918_b8d5_11e9_9c57_f8633f8c9cdfrow8_col16\" class=\"data row8 col16\" >0.00616196</td> \n",
       "        <td id=\"T_a1f8c918_b8d5_11e9_9c57_f8633f8c9cdfrow8_col17\" class=\"data row8 col17\" >-0.0785253</td> \n",
       "        <td id=\"T_a1f8c918_b8d5_11e9_9c57_f8633f8c9cdfrow8_col18\" class=\"data row8 col18\" >0.280351</td> \n",
       "        <td id=\"T_a1f8c918_b8d5_11e9_9c57_f8633f8c9cdfrow8_col19\" class=\"data row8 col19\" >0.0725805</td> \n",
       "    </tr>    <tr> \n",
       "        <th id=\"T_a1f8c918_b8d5_11e9_9c57_f8633f8c9cdflevel0_row9\" class=\"row_heading level0 row9\" >condition</th> \n",
       "        <td id=\"T_a1f8c918_b8d5_11e9_9c57_f8633f8c9cdfrow9_col0\" class=\"data row9 col0\" >-0.0238493</td> \n",
       "        <td id=\"T_a1f8c918_b8d5_11e9_9c57_f8633f8c9cdfrow9_col1\" class=\"data row9 col1\" >0.0363609</td> \n",
       "        <td id=\"T_a1f8c918_b8d5_11e9_9c57_f8633f8c9cdfrow9_col2\" class=\"data row9 col2\" >0.0254593</td> \n",
       "        <td id=\"T_a1f8c918_b8d5_11e9_9c57_f8633f8c9cdfrow9_col3\" class=\"data row9 col3\" >-0.0666167</td> \n",
       "        <td id=\"T_a1f8c918_b8d5_11e9_9c57_f8633f8c9cdfrow9_col4\" class=\"data row9 col4\" >-0.0587238</td> \n",
       "        <td id=\"T_a1f8c918_b8d5_11e9_9c57_f8633f8c9cdfrow9_col5\" class=\"data row9 col5\" >-0.00893048</td> \n",
       "        <td id=\"T_a1f8c918_b8d5_11e9_9c57_f8633f8c9cdfrow9_col6\" class=\"data row9 col6\" >-0.223288</td> \n",
       "        <td id=\"T_a1f8c918_b8d5_11e9_9c57_f8633f8c9cdfrow9_col7\" class=\"data row9 col7\" >0.0166685</td> \n",
       "        <td id=\"T_a1f8c918_b8d5_11e9_9c57_f8633f8c9cdfrow9_col8\" class=\"data row9 col8\" >0.0461232</td> \n",
       "        <td id=\"T_a1f8c918_b8d5_11e9_9c57_f8633f8c9cdfrow9_col9\" class=\"data row9 col9\" >1</td> \n",
       "        <td id=\"T_a1f8c918_b8d5_11e9_9c57_f8633f8c9cdfrow9_col10\" class=\"data row9 col10\" >-0.144583</td> \n",
       "        <td id=\"T_a1f8c918_b8d5_11e9_9c57_f8633f8c9cdfrow9_col11\" class=\"data row9 col11\" >-0.158177</td> \n",
       "        <td id=\"T_a1f8c918_b8d5_11e9_9c57_f8633f8c9cdfrow9_col12\" class=\"data row9 col12\" >0.174186</td> \n",
       "        <td id=\"T_a1f8c918_b8d5_11e9_9c57_f8633f8c9cdfrow9_col13\" class=\"data row9 col13\" >-0.361389</td> \n",
       "        <td id=\"T_a1f8c918_b8d5_11e9_9c57_f8633f8c9cdfrow9_col14\" class=\"data row9 col14\" >-0.0604876</td> \n",
       "        <td id=\"T_a1f8c918_b8d5_11e9_9c57_f8633f8c9cdfrow9_col15\" class=\"data row9 col15\" >0.00298371</td> \n",
       "        <td id=\"T_a1f8c918_b8d5_11e9_9c57_f8633f8c9cdfrow9_col16\" class=\"data row9 col16\" >-0.0150786</td> \n",
       "        <td id=\"T_a1f8c918_b8d5_11e9_9c57_f8633f8c9cdfrow9_col17\" class=\"data row9 col17\" >-0.106424</td> \n",
       "        <td id=\"T_a1f8c918_b8d5_11e9_9c57_f8633f8c9cdfrow9_col18\" class=\"data row9 col18\" >-0.092725</td> \n",
       "        <td id=\"T_a1f8c918_b8d5_11e9_9c57_f8633f8c9cdfrow9_col19\" class=\"data row9 col19\" >-0.00336843</td> \n",
       "    </tr>    <tr> \n",
       "        <th id=\"T_a1f8c918_b8d5_11e9_9c57_f8633f8c9cdflevel0_row10\" class=\"row_heading level0 row10\" >grade</th> \n",
       "        <td id=\"T_a1f8c918_b8d5_11e9_9c57_f8633f8c9cdfrow10_col0\" class=\"data row10 col0\" >0.00820676</td> \n",
       "        <td id=\"T_a1f8c918_b8d5_11e9_9c57_f8633f8c9cdfrow10_col1\" class=\"data row10 col1\" >0.667455</td> \n",
       "        <td id=\"T_a1f8c918_b8d5_11e9_9c57_f8633f8c9cdfrow10_col2\" class=\"data row10 col2\" >0.368703</td> \n",
       "        <td id=\"T_a1f8c918_b8d5_11e9_9c57_f8633f8c9cdfrow10_col3\" class=\"data row10 col3\" >0.591408</td> \n",
       "        <td id=\"T_a1f8c918_b8d5_11e9_9c57_f8633f8c9cdfrow10_col4\" class=\"data row10 col4\" >0.762903</td> \n",
       "        <td id=\"T_a1f8c918_b8d5_11e9_9c57_f8633f8c9cdfrow10_col5\" class=\"data row10 col5\" >0.113613</td> \n",
       "        <td id=\"T_a1f8c918_b8d5_11e9_9c57_f8633f8c9cdfrow10_col6\" class=\"data row10 col6\" >0.407828</td> \n",
       "        <td id=\"T_a1f8c918_b8d5_11e9_9c57_f8633f8c9cdfrow10_col7\" class=\"data row10 col7\" >0.0827755</td> \n",
       "        <td id=\"T_a1f8c918_b8d5_11e9_9c57_f8633f8c9cdfrow10_col8\" class=\"data row10 col8\" >0.251215</td> \n",
       "        <td id=\"T_a1f8c918_b8d5_11e9_9c57_f8633f8c9cdfrow10_col9\" class=\"data row10 col9\" >-0.144583</td> \n",
       "        <td id=\"T_a1f8c918_b8d5_11e9_9c57_f8633f8c9cdfrow10_col10\" class=\"data row10 col10\" >1</td> \n",
       "        <td id=\"T_a1f8c918_b8d5_11e9_9c57_f8633f8c9cdfrow10_col11\" class=\"data row10 col11\" >0.756033</td> \n",
       "        <td id=\"T_a1f8c918_b8d5_11e9_9c57_f8633f8c9cdfrow10_col12\" class=\"data row10 col12\" >0.168366</td> \n",
       "        <td id=\"T_a1f8c918_b8d5_11e9_9c57_f8633f8c9cdfrow10_col13\" class=\"data row10 col13\" >0.446892</td> \n",
       "        <td id=\"T_a1f8c918_b8d5_11e9_9c57_f8633f8c9cdfrow10_col14\" class=\"data row10 col14\" >0.0145409</td> \n",
       "        <td id=\"T_a1f8c918_b8d5_11e9_9c57_f8633f8c9cdfrow10_col15\" class=\"data row10 col15\" >-0.184815</td> \n",
       "        <td id=\"T_a1f8c918_b8d5_11e9_9c57_f8633f8c9cdfrow10_col16\" class=\"data row10 col16\" >0.114129</td> \n",
       "        <td id=\"T_a1f8c918_b8d5_11e9_9c57_f8633f8c9cdfrow10_col17\" class=\"data row10 col17\" >0.198298</td> \n",
       "        <td id=\"T_a1f8c918_b8d5_11e9_9c57_f8633f8c9cdfrow10_col18\" class=\"data row10 col18\" >0.713183</td> \n",
       "        <td id=\"T_a1f8c918_b8d5_11e9_9c57_f8633f8c9cdfrow10_col19\" class=\"data row10 col19\" >0.119236</td> \n",
       "    </tr>    <tr> \n",
       "        <th id=\"T_a1f8c918_b8d5_11e9_9c57_f8633f8c9cdflevel0_row11\" class=\"row_heading level0 row11\" >sqft_above</th> \n",
       "        <td id=\"T_a1f8c918_b8d5_11e9_9c57_f8633f8c9cdfrow11_col0\" class=\"data row11 col0\" >-0.0108176</td> \n",
       "        <td id=\"T_a1f8c918_b8d5_11e9_9c57_f8633f8c9cdfrow11_col1\" class=\"data row11 col1\" >0.605595</td> \n",
       "        <td id=\"T_a1f8c918_b8d5_11e9_9c57_f8633f8c9cdfrow11_col2\" class=\"data row11 col2\" >0.492167</td> \n",
       "        <td id=\"T_a1f8c918_b8d5_11e9_9c57_f8633f8c9cdfrow11_col3\" class=\"data row11 col3\" >0.599473</td> \n",
       "        <td id=\"T_a1f8c918_b8d5_11e9_9c57_f8633f8c9cdfrow11_col4\" class=\"data row11 col4\" >0.876652</td> \n",
       "        <td id=\"T_a1f8c918_b8d5_11e9_9c57_f8633f8c9cdfrow11_col5\" class=\"data row11 col5\" >0.183541</td> \n",
       "        <td id=\"T_a1f8c918_b8d5_11e9_9c57_f8633f8c9cdfrow11_col6\" class=\"data row11 col6\" >0.488413</td> \n",
       "        <td id=\"T_a1f8c918_b8d5_11e9_9c57_f8633f8c9cdfrow11_col7\" class=\"data row11 col7\" >0.0720909</td> \n",
       "        <td id=\"T_a1f8c918_b8d5_11e9_9c57_f8633f8c9cdfrow11_col8\" class=\"data row11 col8\" >0.167616</td> \n",
       "        <td id=\"T_a1f8c918_b8d5_11e9_9c57_f8633f8c9cdfrow11_col9\" class=\"data row11 col9\" >-0.158177</td> \n",
       "        <td id=\"T_a1f8c918_b8d5_11e9_9c57_f8633f8c9cdfrow11_col10\" class=\"data row11 col10\" >0.756033</td> \n",
       "        <td id=\"T_a1f8c918_b8d5_11e9_9c57_f8633f8c9cdfrow11_col11\" class=\"data row11 col11\" >1</td> \n",
       "        <td id=\"T_a1f8c918_b8d5_11e9_9c57_f8633f8c9cdfrow11_col12\" class=\"data row11 col12\" >-0.0521865</td> \n",
       "        <td id=\"T_a1f8c918_b8d5_11e9_9c57_f8633f8c9cdfrow11_col13\" class=\"data row11 col13\" >0.42405</td> \n",
       "        <td id=\"T_a1f8c918_b8d5_11e9_9c57_f8633f8c9cdfrow11_col14\" class=\"data row11 col14\" >0.0231511</td> \n",
       "        <td id=\"T_a1f8c918_b8d5_11e9_9c57_f8633f8c9cdfrow11_col15\" class=\"data row11 col15\" >-0.261096</td> \n",
       "        <td id=\"T_a1f8c918_b8d5_11e9_9c57_f8633f8c9cdfrow11_col16\" class=\"data row11 col16\" >-0.000792669</td> \n",
       "        <td id=\"T_a1f8c918_b8d5_11e9_9c57_f8633f8c9cdfrow11_col17\" class=\"data row11 col17\" >0.343818</td> \n",
       "        <td id=\"T_a1f8c918_b8d5_11e9_9c57_f8633f8c9cdfrow11_col18\" class=\"data row11 col18\" >0.731932</td> \n",
       "        <td id=\"T_a1f8c918_b8d5_11e9_9c57_f8633f8c9cdfrow11_col19\" class=\"data row11 col19\" >0.194075</td> \n",
       "    </tr>    <tr> \n",
       "        <th id=\"T_a1f8c918_b8d5_11e9_9c57_f8633f8c9cdflevel0_row12\" class=\"row_heading level0 row12\" >sqft_basement</th> \n",
       "        <td id=\"T_a1f8c918_b8d5_11e9_9c57_f8633f8c9cdfrow12_col0\" class=\"data row12 col0\" >-0.00497072</td> \n",
       "        <td id=\"T_a1f8c918_b8d5_11e9_9c57_f8633f8c9cdfrow12_col1\" class=\"data row12 col1\" >0.323642</td> \n",
       "        <td id=\"T_a1f8c918_b8d5_11e9_9c57_f8633f8c9cdfrow12_col2\" class=\"data row12 col2\" >0.308821</td> \n",
       "        <td id=\"T_a1f8c918_b8d5_11e9_9c57_f8633f8c9cdfrow12_col3\" class=\"data row12 col3\" >0.334345</td> \n",
       "        <td id=\"T_a1f8c918_b8d5_11e9_9c57_f8633f8c9cdfrow12_col4\" class=\"data row12 col4\" >0.434719</td> \n",
       "        <td id=\"T_a1f8c918_b8d5_11e9_9c57_f8633f8c9cdfrow12_col5\" class=\"data row12 col5\" >0.0153518</td> \n",
       "        <td id=\"T_a1f8c918_b8d5_11e9_9c57_f8633f8c9cdfrow12_col6\" class=\"data row12 col6\" >-0.245712</td> \n",
       "        <td id=\"T_a1f8c918_b8d5_11e9_9c57_f8633f8c9cdfrow12_col7\" class=\"data row12 col7\" >0.0806587</td> \n",
       "        <td id=\"T_a1f8c918_b8d5_11e9_9c57_f8633f8c9cdfrow12_col8\" class=\"data row12 col8\" >0.276737</td> \n",
       "        <td id=\"T_a1f8c918_b8d5_11e9_9c57_f8633f8c9cdfrow12_col9\" class=\"data row12 col9\" >0.174186</td> \n",
       "        <td id=\"T_a1f8c918_b8d5_11e9_9c57_f8633f8c9cdfrow12_col10\" class=\"data row12 col10\" >0.168366</td> \n",
       "        <td id=\"T_a1f8c918_b8d5_11e9_9c57_f8633f8c9cdfrow12_col11\" class=\"data row12 col11\" >-0.0521865</td> \n",
       "        <td id=\"T_a1f8c918_b8d5_11e9_9c57_f8633f8c9cdfrow12_col12\" class=\"data row12 col12\" >1</td> \n",
       "        <td id=\"T_a1f8c918_b8d5_11e9_9c57_f8633f8c9cdfrow12_col13\" class=\"data row12 col13\" >-0.133199</td> \n",
       "        <td id=\"T_a1f8c918_b8d5_11e9_9c57_f8633f8c9cdfrow12_col14\" class=\"data row12 col14\" >0.0713109</td> \n",
       "        <td id=\"T_a1f8c918_b8d5_11e9_9c57_f8633f8c9cdfrow12_col15\" class=\"data row12 col15\" >0.0751203</td> \n",
       "        <td id=\"T_a1f8c918_b8d5_11e9_9c57_f8633f8c9cdfrow12_col16\" class=\"data row12 col16\" >0.110471</td> \n",
       "        <td id=\"T_a1f8c918_b8d5_11e9_9c57_f8633f8c9cdfrow12_col17\" class=\"data row12 col17\" >-0.144869</td> \n",
       "        <td id=\"T_a1f8c918_b8d5_11e9_9c57_f8633f8c9cdfrow12_col18\" class=\"data row12 col18\" >0.200335</td> \n",
       "        <td id=\"T_a1f8c918_b8d5_11e9_9c57_f8633f8c9cdfrow12_col19\" class=\"data row12 col19\" >0.0173467</td> \n",
       "    </tr>    <tr> \n",
       "        <th id=\"T_a1f8c918_b8d5_11e9_9c57_f8633f8c9cdflevel0_row13\" class=\"row_heading level0 row13\" >yr_built</th> \n",
       "        <td id=\"T_a1f8c918_b8d5_11e9_9c57_f8633f8c9cdfrow13_col0\" class=\"data row13 col0\" >0.0214991</td> \n",
       "        <td id=\"T_a1f8c918_b8d5_11e9_9c57_f8633f8c9cdfrow13_col1\" class=\"data row13 col1\" >0.0539725</td> \n",
       "        <td id=\"T_a1f8c918_b8d5_11e9_9c57_f8633f8c9cdfrow13_col2\" class=\"data row13 col2\" >0.161156</td> \n",
       "        <td id=\"T_a1f8c918_b8d5_11e9_9c57_f8633f8c9cdfrow13_col3\" class=\"data row13 col3\" >0.377663</td> \n",
       "        <td id=\"T_a1f8c918_b8d5_11e9_9c57_f8633f8c9cdfrow13_col4\" class=\"data row13 col4\" >0.318234</td> \n",
       "        <td id=\"T_a1f8c918_b8d5_11e9_9c57_f8633f8c9cdfrow13_col5\" class=\"data row13 col5\" >0.0530429</td> \n",
       "        <td id=\"T_a1f8c918_b8d5_11e9_9c57_f8633f8c9cdfrow13_col6\" class=\"data row13 col6\" >0.3817</td> \n",
       "        <td id=\"T_a1f8c918_b8d5_11e9_9c57_f8633f8c9cdfrow13_col7\" class=\"data row13 col7\" >-0.0261822</td> \n",
       "        <td id=\"T_a1f8c918_b8d5_11e9_9c57_f8633f8c9cdfrow13_col8\" class=\"data row13 col8\" >-0.0536644</td> \n",
       "        <td id=\"T_a1f8c918_b8d5_11e9_9c57_f8633f8c9cdfrow13_col9\" class=\"data row13 col9\" >-0.361389</td> \n",
       "        <td id=\"T_a1f8c918_b8d5_11e9_9c57_f8633f8c9cdfrow13_col10\" class=\"data row13 col10\" >0.446892</td> \n",
       "        <td id=\"T_a1f8c918_b8d5_11e9_9c57_f8633f8c9cdfrow13_col11\" class=\"data row13 col11\" >0.42405</td> \n",
       "        <td id=\"T_a1f8c918_b8d5_11e9_9c57_f8633f8c9cdfrow13_col12\" class=\"data row13 col12\" >-0.133199</td> \n",
       "        <td id=\"T_a1f8c918_b8d5_11e9_9c57_f8633f8c9cdfrow13_col13\" class=\"data row13 col13\" >1</td> \n",
       "        <td id=\"T_a1f8c918_b8d5_11e9_9c57_f8633f8c9cdfrow13_col14\" class=\"data row13 col14\" >-0.224664</td> \n",
       "        <td id=\"T_a1f8c918_b8d5_11e9_9c57_f8633f8c9cdfrow13_col15\" class=\"data row13 col15\" >-0.346821</td> \n",
       "        <td id=\"T_a1f8c918_b8d5_11e9_9c57_f8633f8c9cdfrow13_col16\" class=\"data row13 col16\" >-0.148069</td> \n",
       "        <td id=\"T_a1f8c918_b8d5_11e9_9c57_f8633f8c9cdfrow13_col17\" class=\"data row13 col17\" >0.40925</td> \n",
       "        <td id=\"T_a1f8c918_b8d5_11e9_9c57_f8633f8c9cdfrow13_col18\" class=\"data row13 col18\" >0.326132</td> \n",
       "        <td id=\"T_a1f8c918_b8d5_11e9_9c57_f8633f8c9cdfrow13_col19\" class=\"data row13 col19\" >0.0709133</td> \n",
       "    </tr>    <tr> \n",
       "        <th id=\"T_a1f8c918_b8d5_11e9_9c57_f8633f8c9cdflevel0_row14\" class=\"row_heading level0 row14\" >yr_renovated</th> \n",
       "        <td id=\"T_a1f8c918_b8d5_11e9_9c57_f8633f8c9cdfrow14_col0\" class=\"data row14 col0\" >-0.0167059</td> \n",
       "        <td id=\"T_a1f8c918_b8d5_11e9_9c57_f8633f8c9cdfrow14_col1\" class=\"data row14 col1\" >0.126547</td> \n",
       "        <td id=\"T_a1f8c918_b8d5_11e9_9c57_f8633f8c9cdfrow14_col2\" class=\"data row14 col2\" >0.0180823</td> \n",
       "        <td id=\"T_a1f8c918_b8d5_11e9_9c57_f8633f8c9cdfrow14_col3\" class=\"data row14 col3\" >0.0691615</td> \n",
       "        <td id=\"T_a1f8c918_b8d5_11e9_9c57_f8633f8c9cdfrow14_col4\" class=\"data row14 col4\" >0.0552338</td> \n",
       "        <td id=\"T_a1f8c918_b8d5_11e9_9c57_f8633f8c9cdfrow14_col5\" class=\"data row14 col5\" >0.00769512</td> \n",
       "        <td id=\"T_a1f8c918_b8d5_11e9_9c57_f8633f8c9cdfrow14_col6\" class=\"data row14 col6\" >0.0152461</td> \n",
       "        <td id=\"T_a1f8c918_b8d5_11e9_9c57_f8633f8c9cdfrow14_col7\" class=\"data row14 col7\" >0.09295</td> \n",
       "        <td id=\"T_a1f8c918_b8d5_11e9_9c57_f8633f8c9cdfrow14_col8\" class=\"data row14 col8\" >0.104067</td> \n",
       "        <td id=\"T_a1f8c918_b8d5_11e9_9c57_f8633f8c9cdfrow14_col9\" class=\"data row14 col9\" >-0.0604876</td> \n",
       "        <td id=\"T_a1f8c918_b8d5_11e9_9c57_f8633f8c9cdfrow14_col10\" class=\"data row14 col10\" >0.0145409</td> \n",
       "        <td id=\"T_a1f8c918_b8d5_11e9_9c57_f8633f8c9cdfrow14_col11\" class=\"data row14 col11\" >0.0231511</td> \n",
       "        <td id=\"T_a1f8c918_b8d5_11e9_9c57_f8633f8c9cdfrow14_col12\" class=\"data row14 col12\" >0.0713109</td> \n",
       "        <td id=\"T_a1f8c918_b8d5_11e9_9c57_f8633f8c9cdfrow14_col13\" class=\"data row14 col13\" >-0.224664</td> \n",
       "        <td id=\"T_a1f8c918_b8d5_11e9_9c57_f8633f8c9cdfrow14_col14\" class=\"data row14 col14\" >1</td> \n",
       "        <td id=\"T_a1f8c918_b8d5_11e9_9c57_f8633f8c9cdfrow14_col15\" class=\"data row14 col15\" >0.0642651</td> \n",
       "        <td id=\"T_a1f8c918_b8d5_11e9_9c57_f8633f8c9cdfrow14_col16\" class=\"data row14 col16\" >0.0294394</td> \n",
       "        <td id=\"T_a1f8c918_b8d5_11e9_9c57_f8633f8c9cdfrow14_col17\" class=\"data row14 col17\" >-0.0681854</td> \n",
       "        <td id=\"T_a1f8c918_b8d5_11e9_9c57_f8633f8c9cdfrow14_col18\" class=\"data row14 col18\" >-0.00249224</td> \n",
       "        <td id=\"T_a1f8c918_b8d5_11e9_9c57_f8633f8c9cdfrow14_col19\" class=\"data row14 col19\" >0.00791386</td> \n",
       "    </tr>    <tr> \n",
       "        <th id=\"T_a1f8c918_b8d5_11e9_9c57_f8633f8c9cdflevel0_row15\" class=\"row_heading level0 row15\" >zipcode</th> \n",
       "        <td id=\"T_a1f8c918_b8d5_11e9_9c57_f8633f8c9cdfrow15_col0\" class=\"data row15 col0\" >-0.00828716</td> \n",
       "        <td id=\"T_a1f8c918_b8d5_11e9_9c57_f8633f8c9cdfrow15_col1\" class=\"data row15 col1\" >-0.0530997</td> \n",
       "        <td id=\"T_a1f8c918_b8d5_11e9_9c57_f8633f8c9cdfrow15_col2\" class=\"data row15 col2\" >-0.157404</td> \n",
       "        <td id=\"T_a1f8c918_b8d5_11e9_9c57_f8633f8c9cdfrow15_col3\" class=\"data row15 col3\" >-0.143977</td> \n",
       "        <td id=\"T_a1f8c918_b8d5_11e9_9c57_f8633f8c9cdfrow15_col4\" class=\"data row15 col4\" >-0.199264</td> \n",
       "        <td id=\"T_a1f8c918_b8d5_11e9_9c57_f8633f8c9cdfrow15_col5\" class=\"data row15 col5\" >-0.129583</td> \n",
       "        <td id=\"T_a1f8c918_b8d5_11e9_9c57_f8633f8c9cdfrow15_col6\" class=\"data row15 col6\" >-0.0225389</td> \n",
       "        <td id=\"T_a1f8c918_b8d5_11e9_9c57_f8633f8c9cdfrow15_col7\" class=\"data row15 col7\" >0.0302829</td> \n",
       "        <td id=\"T_a1f8c918_b8d5_11e9_9c57_f8633f8c9cdfrow15_col8\" class=\"data row15 col8\" >0.0849964</td> \n",
       "        <td id=\"T_a1f8c918_b8d5_11e9_9c57_f8633f8c9cdfrow15_col9\" class=\"data row15 col9\" >0.00298371</td> \n",
       "        <td id=\"T_a1f8c918_b8d5_11e9_9c57_f8633f8c9cdfrow15_col10\" class=\"data row15 col10\" >-0.184815</td> \n",
       "        <td id=\"T_a1f8c918_b8d5_11e9_9c57_f8633f8c9cdfrow15_col11\" class=\"data row15 col11\" >-0.261096</td> \n",
       "        <td id=\"T_a1f8c918_b8d5_11e9_9c57_f8633f8c9cdfrow15_col12\" class=\"data row15 col12\" >0.0751203</td> \n",
       "        <td id=\"T_a1f8c918_b8d5_11e9_9c57_f8633f8c9cdfrow15_col13\" class=\"data row15 col13\" >-0.346821</td> \n",
       "        <td id=\"T_a1f8c918_b8d5_11e9_9c57_f8633f8c9cdfrow15_col14\" class=\"data row15 col14\" >0.0642651</td> \n",
       "        <td id=\"T_a1f8c918_b8d5_11e9_9c57_f8633f8c9cdfrow15_col15\" class=\"data row15 col15\" >1</td> \n",
       "        <td id=\"T_a1f8c918_b8d5_11e9_9c57_f8633f8c9cdfrow15_col16\" class=\"data row15 col16\" >0.267064</td> \n",
       "        <td id=\"T_a1f8c918_b8d5_11e9_9c57_f8633f8c9cdfrow15_col17\" class=\"data row15 col17\" >-0.564044</td> \n",
       "        <td id=\"T_a1f8c918_b8d5_11e9_9c57_f8633f8c9cdfrow15_col18\" class=\"data row15 col18\" >-0.278959</td> \n",
       "        <td id=\"T_a1f8c918_b8d5_11e9_9c57_f8633f8c9cdfrow15_col19\" class=\"data row15 col19\" >-0.147224</td> \n",
       "    </tr>    <tr> \n",
       "        <th id=\"T_a1f8c918_b8d5_11e9_9c57_f8633f8c9cdflevel0_row16\" class=\"row_heading level0 row16\" >lat</th> \n",
       "        <td id=\"T_a1f8c918_b8d5_11e9_9c57_f8633f8c9cdfrow16_col0\" class=\"data row16 col0\" >-0.00190033</td> \n",
       "        <td id=\"T_a1f8c918_b8d5_11e9_9c57_f8633f8c9cdfrow16_col1\" class=\"data row16 col1\" >0.306997</td> \n",
       "        <td id=\"T_a1f8c918_b8d5_11e9_9c57_f8633f8c9cdfrow16_col2\" class=\"data row16 col2\" >-0.0109294</td> \n",
       "        <td id=\"T_a1f8c918_b8d5_11e9_9c57_f8633f8c9cdfrow16_col3\" class=\"data row16 col3\" >0.049186</td> \n",
       "        <td id=\"T_a1f8c918_b8d5_11e9_9c57_f8633f8c9cdfrow16_col4\" class=\"data row16 col4\" >0.0525077</td> \n",
       "        <td id=\"T_a1f8c918_b8d5_11e9_9c57_f8633f8c9cdfrow16_col5\" class=\"data row16 col5\" >-0.0856664</td> \n",
       "        <td id=\"T_a1f8c918_b8d5_11e9_9c57_f8633f8c9cdfrow16_col6\" class=\"data row16 col6\" >0.0646294</td> \n",
       "        <td id=\"T_a1f8c918_b8d5_11e9_9c57_f8633f8c9cdfrow16_col7\" class=\"data row16 col7\" >-0.0142666</td> \n",
       "        <td id=\"T_a1f8c918_b8d5_11e9_9c57_f8633f8c9cdfrow16_col8\" class=\"data row16 col8\" >0.00616196</td> \n",
       "        <td id=\"T_a1f8c918_b8d5_11e9_9c57_f8633f8c9cdfrow16_col9\" class=\"data row16 col9\" >-0.0150786</td> \n",
       "        <td id=\"T_a1f8c918_b8d5_11e9_9c57_f8633f8c9cdfrow16_col10\" class=\"data row16 col10\" >0.114129</td> \n",
       "        <td id=\"T_a1f8c918_b8d5_11e9_9c57_f8633f8c9cdfrow16_col11\" class=\"data row16 col11\" >-0.000792669</td> \n",
       "        <td id=\"T_a1f8c918_b8d5_11e9_9c57_f8633f8c9cdfrow16_col12\" class=\"data row16 col12\" >0.110471</td> \n",
       "        <td id=\"T_a1f8c918_b8d5_11e9_9c57_f8633f8c9cdfrow16_col13\" class=\"data row16 col13\" >-0.148069</td> \n",
       "        <td id=\"T_a1f8c918_b8d5_11e9_9c57_f8633f8c9cdfrow16_col14\" class=\"data row16 col14\" >0.0294394</td> \n",
       "        <td id=\"T_a1f8c918_b8d5_11e9_9c57_f8633f8c9cdfrow16_col15\" class=\"data row16 col15\" >0.267064</td> \n",
       "        <td id=\"T_a1f8c918_b8d5_11e9_9c57_f8633f8c9cdfrow16_col16\" class=\"data row16 col16\" >1</td> \n",
       "        <td id=\"T_a1f8c918_b8d5_11e9_9c57_f8633f8c9cdfrow16_col17\" class=\"data row16 col17\" >-0.135473</td> \n",
       "        <td id=\"T_a1f8c918_b8d5_11e9_9c57_f8633f8c9cdfrow16_col18\" class=\"data row16 col18\" >0.0489017</td> \n",
       "        <td id=\"T_a1f8c918_b8d5_11e9_9c57_f8633f8c9cdfrow16_col19\" class=\"data row16 col19\" >-0.0863978</td> \n",
       "    </tr>    <tr> \n",
       "        <th id=\"T_a1f8c918_b8d5_11e9_9c57_f8633f8c9cdflevel0_row17\" class=\"row_heading level0 row17\" >long</th> \n",
       "        <td id=\"T_a1f8c918_b8d5_11e9_9c57_f8633f8c9cdfrow17_col0\" class=\"data row17 col0\" >0.0208183</td> \n",
       "        <td id=\"T_a1f8c918_b8d5_11e9_9c57_f8633f8c9cdfrow17_col1\" class=\"data row17 col1\" >0.0215897</td> \n",
       "        <td id=\"T_a1f8c918_b8d5_11e9_9c57_f8633f8c9cdfrow17_col2\" class=\"data row17 col2\" >0.134942</td> \n",
       "        <td id=\"T_a1f8c918_b8d5_11e9_9c57_f8633f8c9cdfrow17_col3\" class=\"data row17 col3\" >0.149203</td> \n",
       "        <td id=\"T_a1f8c918_b8d5_11e9_9c57_f8633f8c9cdfrow17_col4\" class=\"data row17 col4\" >0.240258</td> \n",
       "        <td id=\"T_a1f8c918_b8d5_11e9_9c57_f8633f8c9cdfrow17_col5\" class=\"data row17 col5\" >0.229512</td> \n",
       "        <td id=\"T_a1f8c918_b8d5_11e9_9c57_f8633f8c9cdfrow17_col6\" class=\"data row17 col6\" >0.0889132</td> \n",
       "        <td id=\"T_a1f8c918_b8d5_11e9_9c57_f8633f8c9cdfrow17_col7\" class=\"data row17 col7\" >-0.0419198</td> \n",
       "        <td id=\"T_a1f8c918_b8d5_11e9_9c57_f8633f8c9cdfrow17_col8\" class=\"data row17 col8\" >-0.0785253</td> \n",
       "        <td id=\"T_a1f8c918_b8d5_11e9_9c57_f8633f8c9cdfrow17_col9\" class=\"data row17 col9\" >-0.106424</td> \n",
       "        <td id=\"T_a1f8c918_b8d5_11e9_9c57_f8633f8c9cdfrow17_col10\" class=\"data row17 col10\" >0.198298</td> \n",
       "        <td id=\"T_a1f8c918_b8d5_11e9_9c57_f8633f8c9cdfrow17_col11\" class=\"data row17 col11\" >0.343818</td> \n",
       "        <td id=\"T_a1f8c918_b8d5_11e9_9c57_f8633f8c9cdfrow17_col12\" class=\"data row17 col12\" >-0.144869</td> \n",
       "        <td id=\"T_a1f8c918_b8d5_11e9_9c57_f8633f8c9cdfrow17_col13\" class=\"data row17 col13\" >0.40925</td> \n",
       "        <td id=\"T_a1f8c918_b8d5_11e9_9c57_f8633f8c9cdfrow17_col14\" class=\"data row17 col14\" >-0.0681854</td> \n",
       "        <td id=\"T_a1f8c918_b8d5_11e9_9c57_f8633f8c9cdfrow17_col15\" class=\"data row17 col15\" >-0.564044</td> \n",
       "        <td id=\"T_a1f8c918_b8d5_11e9_9c57_f8633f8c9cdfrow17_col16\" class=\"data row17 col16\" >-0.135473</td> \n",
       "        <td id=\"T_a1f8c918_b8d5_11e9_9c57_f8633f8c9cdfrow17_col17\" class=\"data row17 col17\" >1</td> \n",
       "        <td id=\"T_a1f8c918_b8d5_11e9_9c57_f8633f8c9cdfrow17_col18\" class=\"data row17 col18\" >0.334527</td> \n",
       "        <td id=\"T_a1f8c918_b8d5_11e9_9c57_f8633f8c9cdfrow17_col19\" class=\"data row17 col19\" >0.254437</td> \n",
       "    </tr>    <tr> \n",
       "        <th id=\"T_a1f8c918_b8d5_11e9_9c57_f8633f8c9cdflevel0_row18\" class=\"row_heading level0 row18\" >sqft_living15</th> \n",
       "        <td id=\"T_a1f8c918_b8d5_11e9_9c57_f8633f8c9cdfrow18_col0\" class=\"data row18 col0\" >-0.00288719</td> \n",
       "        <td id=\"T_a1f8c918_b8d5_11e9_9c57_f8633f8c9cdfrow18_col1\" class=\"data row18 col1\" >0.585388</td> \n",
       "        <td id=\"T_a1f8c918_b8d5_11e9_9c57_f8633f8c9cdfrow18_col2\" class=\"data row18 col2\" >0.404825</td> \n",
       "        <td id=\"T_a1f8c918_b8d5_11e9_9c57_f8633f8c9cdfrow18_col3\" class=\"data row18 col3\" >0.497591</td> \n",
       "        <td id=\"T_a1f8c918_b8d5_11e9_9c57_f8633f8c9cdfrow18_col4\" class=\"data row18 col4\" >0.75657</td> \n",
       "        <td id=\"T_a1f8c918_b8d5_11e9_9c57_f8633f8c9cdfrow18_col5\" class=\"data row18 col5\" >0.144601</td> \n",
       "        <td id=\"T_a1f8c918_b8d5_11e9_9c57_f8633f8c9cdfrow18_col6\" class=\"data row18 col6\" >0.242813</td> \n",
       "        <td id=\"T_a1f8c918_b8d5_11e9_9c57_f8633f8c9cdfrow18_col7\" class=\"data row18 col7\" >0.0864654</td> \n",
       "        <td id=\"T_a1f8c918_b8d5_11e9_9c57_f8633f8c9cdfrow18_col8\" class=\"data row18 col8\" >0.280351</td> \n",
       "        <td id=\"T_a1f8c918_b8d5_11e9_9c57_f8633f8c9cdfrow18_col9\" class=\"data row18 col9\" >-0.092725</td> \n",
       "        <td id=\"T_a1f8c918_b8d5_11e9_9c57_f8633f8c9cdfrow18_col10\" class=\"data row18 col10\" >0.713183</td> \n",
       "        <td id=\"T_a1f8c918_b8d5_11e9_9c57_f8633f8c9cdfrow18_col11\" class=\"data row18 col11\" >0.731932</td> \n",
       "        <td id=\"T_a1f8c918_b8d5_11e9_9c57_f8633f8c9cdfrow18_col12\" class=\"data row18 col12\" >0.200335</td> \n",
       "        <td id=\"T_a1f8c918_b8d5_11e9_9c57_f8633f8c9cdfrow18_col13\" class=\"data row18 col13\" >0.326132</td> \n",
       "        <td id=\"T_a1f8c918_b8d5_11e9_9c57_f8633f8c9cdfrow18_col14\" class=\"data row18 col14\" >-0.00249224</td> \n",
       "        <td id=\"T_a1f8c918_b8d5_11e9_9c57_f8633f8c9cdfrow18_col15\" class=\"data row18 col15\" >-0.278959</td> \n",
       "        <td id=\"T_a1f8c918_b8d5_11e9_9c57_f8633f8c9cdfrow18_col16\" class=\"data row18 col16\" >0.0489017</td> \n",
       "        <td id=\"T_a1f8c918_b8d5_11e9_9c57_f8633f8c9cdfrow18_col17\" class=\"data row18 col17\" >0.334527</td> \n",
       "        <td id=\"T_a1f8c918_b8d5_11e9_9c57_f8633f8c9cdfrow18_col18\" class=\"data row18 col18\" >1</td> \n",
       "        <td id=\"T_a1f8c918_b8d5_11e9_9c57_f8633f8c9cdfrow18_col19\" class=\"data row18 col19\" >0.183182</td> \n",
       "    </tr>    <tr> \n",
       "        <th id=\"T_a1f8c918_b8d5_11e9_9c57_f8633f8c9cdflevel0_row19\" class=\"row_heading level0 row19\" >sqft_lot15</th> \n",
       "        <td id=\"T_a1f8c918_b8d5_11e9_9c57_f8633f8c9cdfrow19_col0\" class=\"data row19 col0\" >-0.138823</td> \n",
       "        <td id=\"T_a1f8c918_b8d5_11e9_9c57_f8633f8c9cdfrow19_col1\" class=\"data row19 col1\" >0.0824685</td> \n",
       "        <td id=\"T_a1f8c918_b8d5_11e9_9c57_f8633f8c9cdfrow19_col2\" class=\"data row19 col2\" >0.0308303</td> \n",
       "        <td id=\"T_a1f8c918_b8d5_11e9_9c57_f8633f8c9cdfrow19_col3\" class=\"data row19 col3\" >0.0870392</td> \n",
       "        <td id=\"T_a1f8c918_b8d5_11e9_9c57_f8633f8c9cdfrow19_col4\" class=\"data row19 col4\" >0.183373</td> \n",
       "        <td id=\"T_a1f8c918_b8d5_11e9_9c57_f8633f8c9cdfrow19_col5\" class=\"data row19 col5\" >0.718554</td> \n",
       "        <td id=\"T_a1f8c918_b8d5_11e9_9c57_f8633f8c9cdfrow19_col6\" class=\"data row19 col6\" >-0.0108879</td> \n",
       "        <td id=\"T_a1f8c918_b8d5_11e9_9c57_f8633f8c9cdfrow19_col7\" class=\"data row19 col7\" >0.0306994</td> \n",
       "        <td id=\"T_a1f8c918_b8d5_11e9_9c57_f8633f8c9cdfrow19_col8\" class=\"data row19 col8\" >0.0725805</td> \n",
       "        <td id=\"T_a1f8c918_b8d5_11e9_9c57_f8633f8c9cdfrow19_col9\" class=\"data row19 col9\" >-0.00336843</td> \n",
       "        <td id=\"T_a1f8c918_b8d5_11e9_9c57_f8633f8c9cdfrow19_col10\" class=\"data row19 col10\" >0.119236</td> \n",
       "        <td id=\"T_a1f8c918_b8d5_11e9_9c57_f8633f8c9cdfrow19_col11\" class=\"data row19 col11\" >0.194075</td> \n",
       "        <td id=\"T_a1f8c918_b8d5_11e9_9c57_f8633f8c9cdfrow19_col12\" class=\"data row19 col12\" >0.0173467</td> \n",
       "        <td id=\"T_a1f8c918_b8d5_11e9_9c57_f8633f8c9cdfrow19_col13\" class=\"data row19 col13\" >0.0709133</td> \n",
       "        <td id=\"T_a1f8c918_b8d5_11e9_9c57_f8633f8c9cdfrow19_col14\" class=\"data row19 col14\" >0.00791386</td> \n",
       "        <td id=\"T_a1f8c918_b8d5_11e9_9c57_f8633f8c9cdfrow19_col15\" class=\"data row19 col15\" >-0.147224</td> \n",
       "        <td id=\"T_a1f8c918_b8d5_11e9_9c57_f8633f8c9cdfrow19_col16\" class=\"data row19 col16\" >-0.0863978</td> \n",
       "        <td id=\"T_a1f8c918_b8d5_11e9_9c57_f8633f8c9cdfrow19_col17\" class=\"data row19 col17\" >0.254437</td> \n",
       "        <td id=\"T_a1f8c918_b8d5_11e9_9c57_f8633f8c9cdfrow19_col18\" class=\"data row19 col18\" >0.183182</td> \n",
       "        <td id=\"T_a1f8c918_b8d5_11e9_9c57_f8633f8c9cdfrow19_col19\" class=\"data row19 col19\" >1</td> \n",
       "    </tr></tbody> \n",
       "</table> "
      ],
      "text/plain": [
       "<pandas.io.formats.style.Styler at 0x224749691d0>"
      ]
     },
     "execution_count": 75,
     "metadata": {},
     "output_type": "execute_result"
    }
   ],
   "source": [
    "#checking the corealtion between each and every variable\n",
    "data.corr().style.background_gradient(cmap=\"coolwarm\")"
   ]
  },
  {
   "cell_type": "code",
   "execution_count": 76,
   "metadata": {},
   "outputs": [
    {
     "name": "stderr",
     "output_type": "stream",
     "text": [
      "C:\\Users\\Avinash\\Anaconda3\\lib\\site-packages\\scipy\\stats\\stats.py:1713: FutureWarning: Using a non-tuple sequence for multidimensional indexing is deprecated; use `arr[tuple(seq)]` instead of `arr[seq]`. In the future this will be interpreted as an array index, `arr[np.array(seq)]`, which will result either in an error or a different result.\n",
      "  return np.add.reduce(sorted[indexer] * weights, axis=axis) / sumval\n"
     ]
    },
    {
     "data": {
      "image/png": "[encoded data removed]",
      "text/plain": [
       "<Figure size 360x360 with 1 Axes>"
      ]
     },
     "metadata": {},
     "output_type": "display_data"
    }
   ],
   "source": [
    "sns.lmplot(data=data,x=\"price\",y=\"sqft_living\")\n",
    "plt.show()"
   ]
  },
  {
   "cell_type": "code",
   "execution_count": 77,
   "metadata": {},
   "outputs": [],
   "source": [
    "# by above corealtion graph we can see some factors are here that has no srong relation with price we should have to \n",
    "# deal with that"
   ]
  },
  {
   "cell_type": "code",
   "execution_count": 78,
   "metadata": {},
   "outputs": [],
   "source": [
    "# lets start modeling the data\n",
    "# before that split the data as 70-30 train and test data"
   ]
  },
  {
   "cell_type": "code",
   "execution_count": 79,
   "metadata": {},
   "outputs": [],
   "source": [
    "from sklearn.model_selection import train_test_split\n",
    "traindata,testdata =train_test_split(data,test_size=0.3)"
   ]
  },
  {
   "cell_type": "code",
   "execution_count": 80,
   "metadata": {},
   "outputs": [
    {
     "name": "stdout",
     "output_type": "stream",
     "text": [
      "(15125, 21)\n",
      "(6483, 21)\n",
      "(21608, 21)\n"
     ]
    }
   ],
   "source": [
    "# shapes train and test data\n",
    "print(traindata.shape)\n",
    "print(testdata.shape)\n",
    "print(data.shape)"
   ]
  },
  {
   "cell_type": "code",
   "execution_count": null,
   "metadata": {},
   "outputs": [],
   "source": []
  },
  {
   "cell_type": "code",
   "execution_count": 81,
   "metadata": {},
   "outputs": [],
   "source": [
    "col=['id','bedrooms', 'bathrooms', 'sqft_living',\n",
    "       'sqft_lot', 'floors', 'waterfront', 'view', 'condition', 'grade',\n",
    "       'sqft_above', 'sqft_basement', 'yr_built', 'yr_renovated', 'zipcode',\n",
    "       'lat', 'long', 'sqft_living15', 'sqft_lot15']\n",
    "\n",
    "x=traindata.loc[:,col].values\n",
    "y=traindata.iloc[:,2].values"
   ]
  },
  {
   "cell_type": "code",
   "execution_count": 82,
   "metadata": {},
   "outputs": [],
   "source": [
    "# we have dropped the date column"
   ]
  },
  {
   "cell_type": "code",
   "execution_count": 83,
   "metadata": {},
   "outputs": [
    {
     "data": {
      "text/plain": [
       "LinearRegression(copy_X=True, fit_intercept=True, n_jobs=None,\n",
       "         normalize=False)"
      ]
     },
     "execution_count": 83,
     "metadata": {},
     "output_type": "execute_result"
    }
   ],
   "source": [
    "# Linear Regression model\n",
    "from sklearn.linear_model import LinearRegression\n",
    "Lm=LinearRegression()\n",
    "Lm.fit(x,y)"
   ]
  },
  {
   "cell_type": "code",
   "execution_count": 84,
   "metadata": {},
   "outputs": [
    {
     "name": "stdout",
     "output_type": "stream",
     "text": [
      "6680382.002063009\n",
      "[-1.12312260e-06 -3.53976337e+04  4.43351247e+04  1.03537011e+02\n",
      "  1.89001919e-01  1.08030911e+04  6.62551375e+05  5.01003529e+04\n",
      "  2.68026119e+04  9.59094448e+04  6.79582531e+01  3.55787584e+01\n",
      " -2.55058518e+03  2.21339528e+01 -5.50872772e+02  5.97582920e+05\n",
      " -1.90372186e+05  2.80167055e+01 -4.69043142e-01]\n"
     ]
    }
   ],
   "source": [
    "#printing the intercept\n",
    "print(Lm.intercept_)\n",
    "print(Lm.coef_)"
   ]
  },
  {
   "cell_type": "code",
   "execution_count": 85,
   "metadata": {},
   "outputs": [],
   "source": [
    "# Predictions from our model as you know we have splitted the data 70-30 ratio\n",
    "# now we use test data 30 portion data for predictions"
   ]
  },
  {
   "cell_type": "code",
   "execution_count": 86,
   "metadata": {},
   "outputs": [],
   "source": [
    "# assigning the x and y variables for test data\n",
    "x_test=testdata.loc[:,col].values\n",
    "y_test=testdata.iloc[:,2].values"
   ]
  },
  {
   "cell_type": "code",
   "execution_count": 120,
   "metadata": {},
   "outputs": [],
   "source": [
    "predictions=Lm.predict(x_test)"
   ]
  },
  {
   "cell_type": "code",
   "execution_count": 121,
   "metadata": {},
   "outputs": [
    {
     "name": "stdout",
     "output_type": "stream",
     "text": [
      "MAE: 128649.75824041692\n",
      "MSE: 45820073972.92143\n",
      "RMSE: 214056.24021018736\n",
      "R2: 0.6864219614589239\n"
     ]
    }
   ],
   "source": [
    "# lets checking the the rmse and r2 value\n",
    "from sklearn import metrics\n",
    "print(\"MAE:\",metrics.mean_absolute_error(y_test,predictions))\n",
    "print(\"MSE:\",metrics.mean_squared_error(y_test,predictions))\n",
    "print(\"RMSE:\",np.sqrt(metrics.mean_squared_error(y_test,predictions)))\n",
    "print(\"R2:\",metrics.r2_score(y_test,predictions))\n"
   ]
  },
  {
   "cell_type": "code",
   "execution_count": 123,
   "metadata": {},
   "outputs": [],
   "source": [
    "def adj_R2(y_test,predictions,p):\n",
    "    r2=metrics.r2_score(y_test,predictions)\n",
    "    n=len(y_test)\n",
    "    return 1-(1-r2)*(n-1)/(n-p-1)\n",
    "    "
   ]
  },
  {
   "cell_type": "code",
   "execution_count": 124,
   "metadata": {},
   "outputs": [
    {
     "name": "stdout",
     "output_type": "stream",
     "text": [
      "0.6855001012187443\n"
     ]
    }
   ],
   "source": [
    "print(adj_R2(y_test,predictions,x_test.shape[1]))"
   ]
  },
  {
   "cell_type": "code",
   "execution_count": null,
   "metadata": {},
   "outputs": [],
   "source": []
  },
  {
   "cell_type": "code",
   "execution_count": 129,
   "metadata": {},
   "outputs": [
    {
     "data": {
      "image/png": "[encoded data removed]",
      "text/plain": [
       "<Figure size 432x288 with 1 Axes>"
      ]
     },
     "metadata": {},
     "output_type": "display_data"
    }
   ],
   "source": [
    "plt.plot(y_test,color=\"red\")\n",
    "plt.plot(predictions,color=\"blue\")\n",
    "plt.show()"
   ]
  },
  {
   "cell_type": "code",
   "execution_count": 130,
   "metadata": {},
   "outputs": [],
   "source": [
    "# the above model has not that much accurate\n",
    "# so we modify that data "
   ]
  },
  {
   "cell_type": "code",
   "execution_count": 134,
   "metadata": {},
   "outputs": [
    {
     "name": "stdout",
     "output_type": "stream",
     "text": [
      "                            OLS Regression Results                            \n",
      "==============================================================================\n",
      "Dep. Variable:                      y   R-squared:                       0.708\n",
      "Model:                            OLS   Adj. R-squared:                  0.707\n",
      "Method:                 Least Squares   F-statistic:                     2150.\n",
      "Date:                Wed, 07 Aug 2019   Prob (F-statistic):               0.00\n",
      "Time:                        12:43:05   Log-Likelihood:            -2.0569e+05\n",
      "No. Observations:               15125   AIC:                         4.114e+05\n",
      "Df Residuals:                   15107   BIC:                         4.116e+05\n",
      "Df Model:                          17                                         \n",
      "Covariance Type:            nonrobust                                         \n",
      "==============================================================================\n",
      "                 coef    std err          t      P>|t|      [0.025      0.975]\n",
      "------------------------------------------------------------------------------\n",
      "x1         -1.081e-06   5.59e-07     -1.932      0.053   -2.18e-06    1.56e-08\n",
      "x2         -3.507e+04   2280.942    -15.377      0.000   -3.95e+04   -3.06e+04\n",
      "x3          4.408e+04   3191.619     13.813      0.000    3.78e+04    5.03e+04\n",
      "x4           103.3933      2.594     39.866      0.000      98.310     108.477\n",
      "x5             0.1940      0.053      3.683      0.000       0.091       0.297\n",
      "x6          9662.1131   3628.042      2.663      0.008    2550.712    1.68e+04\n",
      "x7          6.626e+05   2.07e+04     32.026      0.000    6.22e+05    7.03e+05\n",
      "x8          4.959e+04   2518.022     19.695      0.000    4.47e+04    5.45e+04\n",
      "x9          2.767e+04   2697.112     10.258      0.000    2.24e+04     3.3e+04\n",
      "x10         9.547e+04   2475.982     38.557      0.000    9.06e+04       1e+05\n",
      "x11           68.5240      2.603     26.325      0.000      63.422      73.626\n",
      "x12           34.8694      3.012     11.577      0.000      28.966      40.773\n",
      "x13        -2494.7568     74.212    -33.617      0.000   -2640.221   -2349.292\n",
      "x14           22.7021      4.149      5.472      0.000      14.570      30.834\n",
      "x15         -487.5569     20.442    -23.850      0.000    -527.627    -447.487\n",
      "x16         5.971e+05   1.24e+04     48.100      0.000    5.73e+05    6.21e+05\n",
      "x17        -1.935e+05   1.49e+04    -12.951      0.000   -2.23e+05   -1.64e+05\n",
      "x18           29.4025      3.931      7.479      0.000      21.697      37.108\n",
      "x19           -0.4616      0.084     -5.500      0.000      -0.626      -0.297\n",
      "==============================================================================\n",
      "Omnibus:                    12519.531   Durbin-Watson:                   2.021\n",
      "Prob(Omnibus):                  0.000   Jarque-Bera (JB):          1188338.473\n",
      "Skew:                           3.423   Prob(JB):                         0.00\n",
      "Kurtosis:                      45.881   Cond. No.                     1.70e+22\n",
      "==============================================================================\n",
      "\n",
      "Warnings:\n",
      "[1] Standard Errors assume that the covariance matrix of the errors is correctly specified.\n",
      "[2] The smallest eigenvalue is 1.54e-21. This might indicate that there are\n",
      "strong multicollinearity problems or that the design matrix is singular.\n"
     ]
    }
   ],
   "source": [
    "# checking the signififcance of variables with respect to price\n",
    "import statsmodels.api as sm\n",
    "est=sm.OLS(y,x)\n",
    "est1=est.fit()\n",
    "print(est1.summary())"
   ]
  },
  {
   "cell_type": "code",
   "execution_count": 135,
   "metadata": {},
   "outputs": [],
   "source": [
    "# by above we can say that only one factor is there which it is not significant that is \"id\" variable\n"
   ]
  },
  {
   "cell_type": "code",
   "execution_count": 139,
   "metadata": {},
   "outputs": [
    {
     "data": {
      "text/plain": [
       "Index(['date', 'price', 'bedrooms', 'bathrooms', 'sqft_living', 'sqft_lot',\n",
       "       'floors', 'waterfront', 'view', 'condition', 'grade', 'sqft_above',\n",
       "       'sqft_basement', 'yr_built', 'yr_renovated', 'zipcode', 'lat', 'long',\n",
       "       'sqft_living15', 'sqft_lot15'],\n",
       "      dtype='object')"
      ]
     },
     "execution_count": 139,
     "metadata": {},
     "output_type": "execute_result"
    }
   ],
   "source": [
    "#lets drop the column from data\n",
    "data.drop([\"id\"],axis=1,inplace=True)"
   ]
  },
  {
   "cell_type": "code",
   "execution_count": 140,
   "metadata": {},
   "outputs": [
    {
     "name": "stderr",
     "output_type": "stream",
     "text": [
      "C:\\Users\\Avinash\\Anaconda3\\lib\\site-packages\\pandas\\core\\frame.py:3697: SettingWithCopyWarning: \n",
      "A value is trying to be set on a copy of a slice from a DataFrame\n",
      "\n",
      "See the caveats in the documentation: http://pandas.pydata.org/pandas-docs/stable/indexing.html#indexing-view-versus-copy\n",
      "  errors=errors)\n"
     ]
    }
   ],
   "source": [
    "# lets drop the \"id\" column from train data and assign that into x and try\n",
    "traindata.drop([\"id\"],axis=1,inplace=True)\n"
   ]
  },
  {
   "cell_type": "code",
   "execution_count": 142,
   "metadata": {},
   "outputs": [],
   "source": [
    "# and also dropping data column\n",
    "traindata.drop([\"date\"],axis=1,inplace=True)"
   ]
  },
  {
   "cell_type": "code",
   "execution_count": 145,
   "metadata": {},
   "outputs": [
    {
     "data": {
      "text/plain": [
       "Index(['price', 'bedrooms', 'bathrooms', 'sqft_living', 'sqft_lot', 'floors',\n",
       "       'waterfront', 'view', 'condition', 'grade', 'sqft_above',\n",
       "       'sqft_basement', 'yr_built', 'yr_renovated', 'zipcode', 'lat', 'long',\n",
       "       'sqft_living15', 'sqft_lot15'],\n",
       "      dtype='object')"
      ]
     },
     "execution_count": 145,
     "metadata": {},
     "output_type": "execute_result"
    }
   ],
   "source": [
    "traindata.columns"
   ]
  },
  {
   "cell_type": "code",
   "execution_count": 146,
   "metadata": {},
   "outputs": [],
   "source": [
    "col=[ 'bedrooms', 'bathrooms', 'sqft_living', 'sqft_lot', 'floors',\n",
    "       'waterfront', 'view', 'condition', 'grade', 'sqft_above',\n",
    "       'sqft_basement', 'yr_built', 'yr_renovated', 'zipcode', 'lat', 'long',\n",
    "       'sqft_living15', 'sqft_lot15']"
   ]
  },
  {
   "cell_type": "code",
   "execution_count": 147,
   "metadata": {},
   "outputs": [],
   "source": [
    "# assigning again variables into x and y\n",
    "x=traindata.loc[:,col].values\n",
    "y=traindata.iloc[:,0].values"
   ]
  },
  {
   "cell_type": "code",
   "execution_count": 148,
   "metadata": {},
   "outputs": [
    {
     "data": {
      "text/plain": [
       "LinearRegression(copy_X=True, fit_intercept=True, n_jobs=None,\n",
       "         normalize=False)"
      ]
     },
     "execution_count": 148,
     "metadata": {},
     "output_type": "execute_result"
    }
   ],
   "source": [
    "# model2\n",
    "Lm.fit(x,y)"
   ]
  },
  {
   "cell_type": "code",
   "execution_count": 149,
   "metadata": {},
   "outputs": [
    {
     "name": "stdout",
     "output_type": "stream",
     "text": [
      "6420714.74357967\n",
      "[-3.54078654e+04  4.44030929e+04  1.03551164e+02  1.94218633e-01\n",
      "  1.07234480e+04  6.62820965e+05  4.99587971e+04  2.68973459e+04\n",
      "  9.57751184e+04  6.80284212e+01  3.55227434e+01 -2.54896651e+03\n",
      "  2.22890514e+01 -5.50467221e+02  5.97593909e+05 -1.92099716e+05\n",
      "  2.81440037e+01 -4.55636724e-01]\n"
     ]
    }
   ],
   "source": [
    "print(Lm.intercept_)\n",
    "print(Lm.coef_)"
   ]
  },
  {
   "cell_type": "code",
   "execution_count": 150,
   "metadata": {},
   "outputs": [
    {
     "name": "stdout",
     "output_type": "stream",
     "text": [
      "                            OLS Regression Results                            \n",
      "==============================================================================\n",
      "Dep. Variable:                      y   R-squared:                       0.909\n",
      "Model:                            OLS   Adj. R-squared:                  0.909\n",
      "Method:                 Least Squares   F-statistic:                     8907.\n",
      "Date:                Wed, 07 Aug 2019   Prob (F-statistic):               0.00\n",
      "Time:                        13:04:58   Log-Likelihood:            -2.0569e+05\n",
      "No. Observations:               15125   AIC:                         4.114e+05\n",
      "Df Residuals:                   15108   BIC:                         4.115e+05\n",
      "Df Model:                          17                                         \n",
      "Covariance Type:            nonrobust                                         \n",
      "==============================================================================\n",
      "                 coef    std err          t      P>|t|      [0.025      0.975]\n",
      "------------------------------------------------------------------------------\n",
      "x1          -3.51e+04   2281.120    -15.385      0.000   -3.96e+04   -3.06e+04\n",
      "x2          4.416e+04   3191.673     13.836      0.000    3.79e+04    5.04e+04\n",
      "x3           103.4124      2.594     39.870      0.000      98.328     108.496\n",
      "x4             0.1989      0.053      3.779      0.000       0.096       0.302\n",
      "x5          9628.0985   3628.327      2.654      0.008    2516.138    1.67e+04\n",
      "x6          6.628e+05   2.07e+04     32.036      0.000    6.22e+05    7.03e+05\n",
      "x7          4.948e+04   2517.516     19.653      0.000    4.45e+04    5.44e+04\n",
      "x8          2.772e+04   2697.183     10.279      0.000    2.24e+04     3.3e+04\n",
      "x9          9.535e+04   2475.517     38.519      0.000    9.05e+04       1e+05\n",
      "x10           68.5704      2.603     26.341      0.000      63.468      73.673\n",
      "x11           34.8420      3.012     11.567      0.000      28.938      40.746\n",
      "x12        -2495.2882     74.218    -33.621      0.000   -2640.765   -2349.812\n",
      "x13           22.8303      4.148      5.503      0.000      14.699      30.962\n",
      "x14         -489.5380     20.419    -23.975      0.000    -529.561    -449.515\n",
      "x15         5.971e+05   1.24e+04     48.098      0.000    5.73e+05    6.21e+05\n",
      "x16        -1.951e+05   1.49e+04    -13.072      0.000   -2.24e+05   -1.66e+05\n",
      "x17           29.4733      3.931      7.497      0.000      21.767      37.179\n",
      "x18           -0.4490      0.084     -5.365      0.000      -0.613      -0.285\n",
      "==============================================================================\n",
      "Omnibus:                    12501.471   Durbin-Watson:                   2.021\n",
      "Prob(Omnibus):                  0.000   Jarque-Bera (JB):          1178354.870\n",
      "Skew:                           3.417   Prob(JB):                         0.00\n",
      "Kurtosis:                      45.698   Cond. No.                     4.00e+17\n",
      "==============================================================================\n",
      "\n",
      "Warnings:\n",
      "[1] Standard Errors assume that the covariance matrix of the errors is correctly specified.\n",
      "[2] The smallest eigenvalue is 9.6e-22. This might indicate that there are\n",
      "strong multicollinearity problems or that the design matrix is singular.\n"
     ]
    }
   ],
   "source": [
    "# checking the summary\n",
    "est=sm.OLS(y,x)\n",
    "est1=est.fit()\n",
    "print(est1.summary())"
   ]
  },
  {
   "cell_type": "code",
   "execution_count": 151,
   "metadata": {},
   "outputs": [],
   "source": [
    "# by dropping the \"Id\" column from train data we see that total 0.9 R2 value we get\n",
    "# it means model interprtability is 90 "
   ]
  },
  {
   "cell_type": "code",
   "execution_count": 152,
   "metadata": {},
   "outputs": [],
   "source": [
    "# now we predict the model using test data"
   ]
  },
  {
   "cell_type": "code",
   "execution_count": 153,
   "metadata": {},
   "outputs": [],
   "source": [
    "# at first we should have to drop the id and date column from test data "
   ]
  },
  {
   "cell_type": "code",
   "execution_count": 154,
   "metadata": {},
   "outputs": [
    {
     "data": {
      "text/plain": [
       "Index(['id', 'date', 'price', 'bedrooms', 'bathrooms', 'sqft_living',\n",
       "       'sqft_lot', 'floors', 'waterfront', 'view', 'condition', 'grade',\n",
       "       'sqft_above', 'sqft_basement', 'yr_built', 'yr_renovated', 'zipcode',\n",
       "       'lat', 'long', 'sqft_living15', 'sqft_lot15'],\n",
       "      dtype='object')"
      ]
     },
     "execution_count": 154,
     "metadata": {},
     "output_type": "execute_result"
    }
   ],
   "source": [
    "testdata.columns"
   ]
  },
  {
   "cell_type": "code",
   "execution_count": 155,
   "metadata": {},
   "outputs": [
    {
     "name": "stderr",
     "output_type": "stream",
     "text": [
      "C:\\Users\\Avinash\\Anaconda3\\lib\\site-packages\\pandas\\core\\frame.py:3697: SettingWithCopyWarning: \n",
      "A value is trying to be set on a copy of a slice from a DataFrame\n",
      "\n",
      "See the caveats in the documentation: http://pandas.pydata.org/pandas-docs/stable/indexing.html#indexing-view-versus-copy\n",
      "  errors=errors)\n"
     ]
    }
   ],
   "source": [
    "testdata.drop([\"id\",\"date\"],axis=1,inplace=True)"
   ]
  },
  {
   "cell_type": "code",
   "execution_count": 156,
   "metadata": {},
   "outputs": [
    {
     "data": {
      "text/plain": [
       "Index(['price', 'bedrooms', 'bathrooms', 'sqft_living', 'sqft_lot', 'floors',\n",
       "       'waterfront', 'view', 'condition', 'grade', 'sqft_above',\n",
       "       'sqft_basement', 'yr_built', 'yr_renovated', 'zipcode', 'lat', 'long',\n",
       "       'sqft_living15', 'sqft_lot15'],\n",
       "      dtype='object')"
      ]
     },
     "execution_count": 156,
     "metadata": {},
     "output_type": "execute_result"
    }
   ],
   "source": [
    "testdata.columns"
   ]
  },
  {
   "cell_type": "code",
   "execution_count": 157,
   "metadata": {},
   "outputs": [],
   "source": [
    "x_test=testdata.loc[:,col].values\n",
    "y_test=testdata.iloc[:,0].values"
   ]
  },
  {
   "cell_type": "code",
   "execution_count": 158,
   "metadata": {},
   "outputs": [],
   "source": [
    "# lets predict\n",
    "predictions=Lm.predict(x_test)\n"
   ]
  },
  {
   "cell_type": "code",
   "execution_count": 161,
   "metadata": {},
   "outputs": [
    {
     "data": {
      "image/png": "[encoded data removed]",
      "text/plain": [
       "<Figure size 432x288 with 1 Axes>"
      ]
     },
     "metadata": {},
     "output_type": "display_data"
    }
   ],
   "source": [
    "# lets comapre the predictions and y_test by plotting the graph\n",
    "sns.set()\n",
    "plt.plot(y_test,color=\"red\")\n",
    "plt.plot(predictions,color=\"green\")\n",
    "plt.show()"
   ]
  },
  {
   "cell_type": "code",
   "execution_count": 163,
   "metadata": {},
   "outputs": [
    {
     "data": {
      "image/png": "[encoded data removed]",
      "text/plain": [
       "<Figure size 432x288 with 1 Axes>"
      ]
     },
     "metadata": {},
     "output_type": "display_data"
    }
   ],
   "source": [
    "plt.scatter(y_test,predictions)\n",
    "plt.show()"
   ]
  }
 ],
 "metadata": {
  "kernelspec": {
   "display_name": "Python 3",
   "language": "python",
   "name": "python3"
  },
  "language_info": {
   "codemirror_mode": {
    "name": "ipython",
    "version": 3
   },
   "file_extension": ".py",
   "mimetype": "text/x-python",
   "name": "python",
   "nbconvert_exporter": "python",
   "pygments_lexer": "ipython3",
   "version": "3.7.1"
  }
 },
 "nbformat": 4,
 "nbformat_minor": 2
}
